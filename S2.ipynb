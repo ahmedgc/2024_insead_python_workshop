{
 "cells": [
  {
   "cell_type": "markdown",
   "metadata": {},
   "source": [
    "# Preliminaries"
   ]
  },
  {
   "cell_type": "markdown",
   "metadata": {},
   "source": [
    "We need to load the `pandas` library/module/package. It will be abbreviated at `pd`.\n",
    "\n",
    "Users typically load the `numpy` library/module/package at the same time (abbreviated as `np`), since it has some useful functions for data analysis, even though we will not use it here."
   ]
  },
  {
   "cell_type": "code",
   "execution_count": null,
   "metadata": {
    "ExecuteTime": {
     "end_time": "2021-08-12T08:06:02.975844Z",
     "start_time": "2021-08-12T08:06:02.303598Z"
    }
   },
   "outputs": [],
   "source": [
    "import pandas as pd\n",
    "import numpy as np"
   ]
  },
  {
   "cell_type": "markdown",
   "metadata": {},
   "source": [
    "---"
   ]
  },
  {
   "cell_type": "markdown",
   "metadata": {},
   "source": [
    "# Load Pandas data frames from CSV files"
   ]
  },
  {
   "cell_type": "markdown",
   "metadata": {},
   "source": [
    "Let's use annual data from the World Happiness Report.\n",
    "\n",
    "CSV = comma separated values. (This is what you'll see if you open up the files in a browser or text editor.)\n",
    "\n",
    "Note how we use the function `read_csv` from the `pandas` library (which we have abbreviated to `pd`). You can find details on what arguments the function accepts and how it behaves by googling it, which takes you to this page: https://pandas.pydata.org/pandas-docs/stable/reference/api/pandas.read_csv.html"
   ]
  },
  {
   "cell_type": "code",
   "execution_count": null,
   "metadata": {
    "ExecuteTime": {
     "end_time": "2021-08-12T08:06:39.130709Z",
     "start_time": "2021-08-12T08:06:39.118414Z"
    }
   },
   "outputs": [],
   "source": [
    "whr_df_15 = pd.read_csv('WHR_2015.csv')\n",
    "whr_df_19 = pd.read_csv('WHR_2019.csv')"
   ]
  },
  {
   "cell_type": "markdown",
   "metadata": {},
   "source": [
    "## Describing data"
   ]
  },
  {
   "cell_type": "markdown",
   "metadata": {},
   "source": [
    "### Dimensions of these tables"
   ]
  },
  {
   "cell_type": "code",
   "execution_count": null,
   "metadata": {},
   "outputs": [],
   "source": [
    "# Number of rows:\n",
    "len(whr_df_15)"
   ]
  },
  {
   "cell_type": "code",
   "execution_count": null,
   "metadata": {},
   "outputs": [],
   "source": [
    "# Number of rows and columns\n",
    "whr_df_15.shape"
   ]
  },
  {
   "cell_type": "code",
   "execution_count": null,
   "metadata": {},
   "outputs": [],
   "source": [
    "whr_df_19.shape\n"
   ]
  },
  {
   "cell_type": "markdown",
   "metadata": {},
   "source": [
    "### head & tail"
   ]
  },
  {
   "cell_type": "code",
   "execution_count": null,
   "metadata": {},
   "outputs": [],
   "source": [
    "whr_df_15.head()"
   ]
  },
  {
   "cell_type": "code",
   "execution_count": null,
   "metadata": {
    "ExecuteTime": {
     "end_time": "2021-08-12T08:07:37.719449Z",
     "start_time": "2021-08-12T08:07:37.704779Z"
    }
   },
   "outputs": [],
   "source": [
    "whr_df_15[:5]"
   ]
  },
  {
   "cell_type": "code",
   "execution_count": null,
   "metadata": {
    "ExecuteTime": {
     "end_time": "2021-08-12T08:07:15.203465Z",
     "start_time": "2021-08-12T08:07:15.186912Z"
    }
   },
   "outputs": [],
   "source": [
    "whr_df_15.tail(10)"
   ]
  },
  {
   "cell_type": "code",
   "execution_count": null,
   "metadata": {},
   "outputs": [],
   "source": [
    "whr_df_15[-10:]"
   ]
  },
  {
   "cell_type": "markdown",
   "metadata": {},
   "source": [
    "### info()"
   ]
  },
  {
   "cell_type": "code",
   "execution_count": null,
   "metadata": {
    "ExecuteTime": {
     "end_time": "2021-08-12T08:07:50.762348Z",
     "start_time": "2021-08-12T08:07:50.753444Z"
    }
   },
   "outputs": [],
   "source": [
    "whr_df_15.info()"
   ]
  },
  {
   "cell_type": "markdown",
   "metadata": {},
   "source": [
    "### Data types"
   ]
  },
  {
   "cell_type": "code",
   "execution_count": null,
   "metadata": {
    "ExecuteTime": {
     "end_time": "2021-08-12T08:09:02.102367Z",
     "start_time": "2021-08-12T08:09:02.097838Z"
    }
   },
   "outputs": [],
   "source": [
    "whr_df_19.dtypes"
   ]
  },
  {
   "cell_type": "markdown",
   "metadata": {},
   "source": [
    "### Accessing columns"
   ]
  },
  {
   "cell_type": "code",
   "execution_count": null,
   "metadata": {},
   "outputs": [],
   "source": [
    "whr_df_19['Score']"
   ]
  },
  {
   "cell_type": "code",
   "execution_count": null,
   "metadata": {},
   "outputs": [],
   "source": [
    "whr_df_19.Score"
   ]
  },
  {
   "cell_type": "markdown",
   "metadata": {},
   "source": [
    "### describe() & mean()"
   ]
  },
  {
   "cell_type": "code",
   "execution_count": null,
   "metadata": {},
   "outputs": [],
   "source": [
    "whr_df_19['Score'].describe()"
   ]
  },
  {
   "cell_type": "code",
   "execution_count": null,
   "metadata": {
    "ExecuteTime": {
     "end_time": "2021-08-12T08:10:56.085580Z",
     "start_time": "2021-08-12T08:10:56.080069Z"
    }
   },
   "outputs": [],
   "source": [
    "whr_df_19['Score'].describe()['min']"
   ]
  },
  {
   "cell_type": "code",
   "execution_count": null,
   "metadata": {},
   "outputs": [],
   "source": [
    "whr_df_19['Score'].mean()"
   ]
  },
  {
   "cell_type": "markdown",
   "metadata": {},
   "source": [
    "### value_counts()"
   ]
  },
  {
   "cell_type": "code",
   "execution_count": null,
   "metadata": {
    "ExecuteTime": {
     "end_time": "2021-08-12T08:11:20.672879Z",
     "start_time": "2021-08-12T08:11:20.667303Z"
    }
   },
   "outputs": [],
   "source": [
    "whr_df_15['Region'].value_counts()"
   ]
  },
  {
   "cell_type": "markdown",
   "metadata": {},
   "source": [
    "---"
   ]
  },
  {
   "cell_type": "markdown",
   "metadata": {},
   "source": [
    "# Processing data"
   ]
  },
  {
   "cell_type": "markdown",
   "metadata": {},
   "source": [
    "## sort_values()"
   ]
  },
  {
   "cell_type": "code",
   "execution_count": null,
   "metadata": {
    "ExecuteTime": {
     "end_time": "2021-08-12T08:11:45.550221Z",
     "start_time": "2021-08-12T08:11:45.534596Z"
    }
   },
   "outputs": [],
   "source": [
    "whr_df_19"
   ]
  },
  {
   "cell_type": "code",
   "execution_count": null,
   "metadata": {},
   "outputs": [],
   "source": [
    "whr_df_19.sort_values('Country or region')"
   ]
  },
  {
   "cell_type": "code",
   "execution_count": null,
   "metadata": {
    "ExecuteTime": {
     "end_time": "2021-08-12T08:12:51.452979Z",
     "start_time": "2021-08-12T08:12:51.432568Z"
    },
    "scrolled": true
   },
   "outputs": [],
   "source": [
    "sorted_whr_df_19 = whr_df_19.sort_values(by=\"Freedom to make life choices\", ascending=False)\n",
    "sorted_whr_df_19"
   ]
  },
  {
   "cell_type": "markdown",
   "metadata": {},
   "source": [
    "---"
   ]
  },
  {
   "cell_type": "markdown",
   "metadata": {},
   "source": [
    "# Cleaning data"
   ]
  },
  {
   "cell_type": "markdown",
   "metadata": {},
   "source": [
    "## Handling NAs"
   ]
  },
  {
   "cell_type": "markdown",
   "metadata": {},
   "source": [
    "Let's read in a new table:"
   ]
  },
  {
   "cell_type": "code",
   "execution_count": null,
   "metadata": {
    "ExecuteTime": {
     "end_time": "2021-08-12T08:29:23.954602Z",
     "start_time": "2021-08-12T08:29:23.948785Z"
    }
   },
   "outputs": [],
   "source": [
    "dirty_df = pd.read_csv('dirty_data.csv')"
   ]
  },
  {
   "cell_type": "code",
   "execution_count": null,
   "metadata": {
    "ExecuteTime": {
     "end_time": "2021-08-12T08:29:39.784679Z",
     "start_time": "2021-08-12T08:29:39.773009Z"
    }
   },
   "outputs": [],
   "source": [
    "dirty_df"
   ]
  },
  {
   "cell_type": "code",
   "execution_count": null,
   "metadata": {
    "ExecuteTime": {
     "end_time": "2021-08-12T08:30:07.530635Z",
     "start_time": "2021-08-12T08:30:07.523286Z"
    }
   },
   "outputs": [],
   "source": [
    "dirty_df.info()"
   ]
  },
  {
   "cell_type": "code",
   "execution_count": null,
   "metadata": {
    "ExecuteTime": {
     "end_time": "2021-08-12T08:31:01.707836Z",
     "start_time": "2021-08-12T08:31:01.702046Z"
    }
   },
   "outputs": [],
   "source": [
    "dirty_df.isna().sum()"
   ]
  },
  {
   "cell_type": "markdown",
   "metadata": {},
   "source": [
    " "
   ]
  },
  {
   "cell_type": "markdown",
   "metadata": {},
   "source": [
    "Drop the rows with NAs</b>"
   ]
  },
  {
   "cell_type": "code",
   "execution_count": null,
   "metadata": {
    "ExecuteTime": {
     "end_time": "2021-08-12T08:32:27.467596Z",
     "start_time": "2021-08-12T08:32:27.445204Z"
    }
   },
   "outputs": [],
   "source": [
    "new_dirty_df = dirty_df.dropna()"
   ]
  },
  {
   "cell_type": "code",
   "execution_count": null,
   "metadata": {
    "ExecuteTime": {
     "end_time": "2021-08-12T08:32:45.201578Z",
     "start_time": "2021-08-12T08:32:45.190027Z"
    }
   },
   "outputs": [],
   "source": [
    "new_dirty_df"
   ]
  },
  {
   "cell_type": "code",
   "execution_count": null,
   "metadata": {
    "ExecuteTime": {
     "end_time": "2021-08-12T08:32:28.440532Z",
     "start_time": "2021-08-12T08:32:28.432715Z"
    }
   },
   "outputs": [],
   "source": [
    "new_dirty_df.info()"
   ]
  },
  {
   "cell_type": "markdown",
   "metadata": {},
   "source": [
    " "
   ]
  },
  {
   "cell_type": "markdown",
   "metadata": {},
   "source": [
    "Or, replace some NAs with imputed values </b>"
   ]
  },
  {
   "cell_type": "code",
   "execution_count": null,
   "metadata": {},
   "outputs": [],
   "source": [
    "dirty_df['Calories']"
   ]
  },
  {
   "cell_type": "code",
   "execution_count": null,
   "metadata": {},
   "outputs": [],
   "source": [
    "median_C = dirty_df['Calories'].median()\n",
    "median_C"
   ]
  },
  {
   "cell_type": "code",
   "execution_count": null,
   "metadata": {
    "ExecuteTime": {
     "end_time": "2021-08-12T08:34:26.114477Z",
     "start_time": "2021-08-12T08:34:26.111735Z"
    }
   },
   "outputs": [],
   "source": [
    "new2_dirty_df = dirty_df['Calories'].fillna(median_C)\n",
    "new2_dirty_df"
   ]
  },
  {
   "cell_type": "markdown",
   "metadata": {},
   "source": [
    "## Date-times"
   ]
  },
  {
   "cell_type": "code",
   "execution_count": null,
   "metadata": {
    "ExecuteTime": {
     "end_time": "2021-08-12T08:34:51.143699Z",
     "start_time": "2021-08-12T08:34:51.132397Z"
    }
   },
   "outputs": [],
   "source": [
    "dirty_df"
   ]
  },
  {
   "cell_type": "markdown",
   "metadata": {},
   "source": [
    "Let's remove rows with missing dates."
   ]
  },
  {
   "cell_type": "code",
   "execution_count": null,
   "metadata": {},
   "outputs": [],
   "source": [
    "# dirty_df = dirty_df.dropna(subset=['Date'])"
   ]
  },
  {
   "cell_type": "code",
   "execution_count": null,
   "metadata": {
    "ExecuteTime": {
     "end_time": "2021-08-12T08:36:38.706415Z",
     "start_time": "2021-08-12T08:36:38.702109Z"
    }
   },
   "outputs": [],
   "source": [
    "dirty_df.dropna(subset=['Date'], inplace=True)"
   ]
  },
  {
   "cell_type": "markdown",
   "metadata": {},
   "source": [
    " "
   ]
  },
  {
   "cell_type": "markdown",
   "metadata": {},
   "source": [
    "Let's make sure dates are not messy strings, but genuine date-times:"
   ]
  },
  {
   "cell_type": "code",
   "execution_count": null,
   "metadata": {
    "ExecuteTime": {
     "end_time": "2021-08-12T08:37:01.928285Z",
     "start_time": "2021-08-12T08:37:01.920098Z"
    }
   },
   "outputs": [],
   "source": [
    "dirty_df['Date'] = pd.to_datetime(dirty_df['Date'], format='mixed')"
   ]
  },
  {
   "cell_type": "code",
   "execution_count": null,
   "metadata": {
    "ExecuteTime": {
     "end_time": "2021-08-12T08:37:17.199221Z",
     "start_time": "2021-08-12T08:37:17.192620Z"
    }
   },
   "outputs": [],
   "source": [
    "dirty_df.Date"
   ]
  },
  {
   "cell_type": "code",
   "execution_count": null,
   "metadata": {
    "ExecuteTime": {
     "end_time": "2021-08-12T08:38:17.577504Z",
     "start_time": "2021-08-12T08:38:17.564364Z"
    }
   },
   "outputs": [],
   "source": [
    "dirty_df"
   ]
  },
  {
   "cell_type": "code",
   "execution_count": null,
   "metadata": {
    "ExecuteTime": {
     "end_time": "2021-08-12T08:38:35.431899Z",
     "start_time": "2021-08-12T08:38:35.428133Z"
    }
   },
   "outputs": [],
   "source": [
    "dirty_df.loc[30, 'Date'] - dirty_df.loc[0, 'Date'] "
   ]
  },
  {
   "cell_type": "markdown",
   "metadata": {},
   "source": [
    "## Replacing values"
   ]
  },
  {
   "cell_type": "code",
   "execution_count": null,
   "metadata": {
    "ExecuteTime": {
     "end_time": "2021-08-12T08:39:09.219056Z",
     "start_time": "2021-08-12T08:39:09.209599Z"
    }
   },
   "outputs": [],
   "source": [
    "dirty_df[:10]"
   ]
  },
  {
   "cell_type": "code",
   "execution_count": null,
   "metadata": {
    "ExecuteTime": {
     "end_time": "2021-08-12T08:38:54.287684Z",
     "start_time": "2021-08-12T08:38:54.284355Z"
    }
   },
   "outputs": [],
   "source": [
    "dirty_df.loc[7, \"Duration\"]"
   ]
  },
  {
   "cell_type": "code",
   "execution_count": null,
   "metadata": {
    "ExecuteTime": {
     "end_time": "2021-08-12T08:40:17.044291Z",
     "start_time": "2021-08-12T08:40:17.032229Z"
    }
   },
   "outputs": [],
   "source": [
    "dirty_df.loc[7, \"Duration\"] = 45\n",
    "dirty_df"
   ]
  },
  {
   "cell_type": "markdown",
   "metadata": {},
   "source": [
    "## Detecting duplicates"
   ]
  },
  {
   "cell_type": "code",
   "execution_count": null,
   "metadata": {
    "ExecuteTime": {
     "end_time": "2021-08-12T08:40:56.561616Z",
     "start_time": "2021-08-12T08:40:56.552140Z"
    }
   },
   "outputs": [],
   "source": [
    "dirty_df[dirty_df.duplicated()]"
   ]
  },
  {
   "cell_type": "code",
   "execution_count": null,
   "metadata": {
    "ExecuteTime": {
     "end_time": "2021-08-12T08:41:14.008452Z",
     "start_time": "2021-08-12T08:41:13.994521Z"
    }
   },
   "outputs": [],
   "source": [
    "dirty_df = dirty_df.drop_duplicates()\n",
    "dirty_df"
   ]
  },
  {
   "cell_type": "markdown",
   "metadata": {},
   "source": [
    "## Filtering"
   ]
  },
  {
   "cell_type": "markdown",
   "metadata": {},
   "source": [
    "### Single condition"
   ]
  },
  {
   "cell_type": "code",
   "execution_count": null,
   "metadata": {},
   "outputs": [],
   "source": [
    "dirty_df[(dirty_df['Pulse'] > 110)]"
   ]
  },
  {
   "cell_type": "markdown",
   "metadata": {},
   "source": [
    "For pandas data frame, the `~` operator is like the `not` we saw in the previous session:"
   ]
  },
  {
   "cell_type": "code",
   "execution_count": null,
   "metadata": {},
   "outputs": [],
   "source": [
    "dirty_df[~(dirty_df['Pulse'] > 110)]"
   ]
  },
  {
   "cell_type": "code",
   "execution_count": null,
   "metadata": {},
   "outputs": [],
   "source": [
    "dirty_df[(dirty_df['Pulse'] <= 110)]"
   ]
  },
  {
   "cell_type": "markdown",
   "metadata": {},
   "source": [
    "### Multiple conditions"
   ]
  },
  {
   "cell_type": "markdown",
   "metadata": {},
   "source": [
    "And (`&`) "
   ]
  },
  {
   "cell_type": "code",
   "execution_count": null,
   "metadata": {
    "ExecuteTime": {
     "end_time": "2021-08-12T08:43:01.038253Z",
     "start_time": "2021-08-12T08:43:01.028377Z"
    }
   },
   "outputs": [],
   "source": [
    "dirty_df[(dirty_df['Pulse'] > 110) & (dirty_df['Calories'] > 400)]"
   ]
  },
  {
   "cell_type": "markdown",
   "metadata": {},
   "source": [
    "Or (`|`)"
   ]
  },
  {
   "cell_type": "code",
   "execution_count": null,
   "metadata": {},
   "outputs": [],
   "source": [
    "dirty_df[(dirty_df['Pulse'] > 110) | (dirty_df['Calories'] > 400)]"
   ]
  },
  {
   "cell_type": "code",
   "execution_count": null,
   "metadata": {},
   "outputs": [],
   "source": [
    "dirty_df[(dirty_df['Pulse'] == 100) | (dirty_df['Pulse'] == 102)]"
   ]
  },
  {
   "cell_type": "markdown",
   "metadata": {},
   "source": [
    "`isin`"
   ]
  },
  {
   "cell_type": "code",
   "execution_count": null,
   "metadata": {},
   "outputs": [],
   "source": [
    "dirty_df[ dirty_df['Pulse'].isin( [100, 102] ) ]"
   ]
  },
  {
   "cell_type": "markdown",
   "metadata": {},
   "source": [
    "## More description"
   ]
  },
  {
   "cell_type": "code",
   "execution_count": null,
   "metadata": {},
   "outputs": [],
   "source": [
    "dirty_df.corr()"
   ]
  },
  {
   "cell_type": "markdown",
   "metadata": {},
   "source": [
    "---"
   ]
  },
  {
   "cell_type": "markdown",
   "metadata": {},
   "source": [
    "# Quizzes"
   ]
  },
  {
   "cell_type": "markdown",
   "metadata": {},
   "source": [
    "## Quiz 1\n",
    "\n",
    "In `whr_df_15`, create a column for a boolean dummy variable, \"ME_AF,\" that indicates whether a given country belongs to the African regions (i.e., Sub-Saharan Africa, or Middle East and Northern Africa)"
   ]
  },
  {
   "cell_type": "code",
   "execution_count": null,
   "metadata": {
    "ExecuteTime": {
     "end_time": "2021-08-12T08:24:45.729685Z",
     "start_time": "2021-08-12T08:24:45.726300Z"
    },
    "code_folding": []
   },
   "outputs": [],
   "source": [
    "# TODO: Solution 1"
   ]
  },
  {
   "cell_type": "code",
   "execution_count": null,
   "metadata": {},
   "outputs": [],
   "source": [
    "# TODO: Solution 2"
   ]
  },
  {
   "cell_type": "markdown",
   "metadata": {},
   "source": [
    "## Quiz 2\n",
    "\n",
    "In `whr_df_15`, what is the mean difference in happiness between the ME-AF group and the non-ME-AF group? "
   ]
  },
  {
   "cell_type": "code",
   "execution_count": null,
   "metadata": {
    "ExecuteTime": {
     "end_time": "2021-08-12T07:41:14.769821Z",
     "start_time": "2021-08-12T07:41:14.763868Z"
    },
    "code_folding": [
     0
    ],
    "scrolled": true
   },
   "outputs": [],
   "source": [
    "# TODO: Solution 1"
   ]
  },
  {
   "cell_type": "code",
   "execution_count": null,
   "metadata": {},
   "outputs": [],
   "source": [
    "# TODO: Solution 2"
   ]
  },
  {
   "cell_type": "code",
   "execution_count": null,
   "metadata": {},
   "outputs": [],
   "source": []
  },
  {
   "cell_type": "markdown",
   "metadata": {},
   "source": [
    "---"
   ]
  },
  {
   "cell_type": "markdown",
   "metadata": {},
   "source": [
    "# Concatenate"
   ]
  },
  {
   "cell_type": "markdown",
   "metadata": {},
   "source": [
    "![Illustration of concatenating](https://miro.medium.com/v2/resize:fit:1400/0*Xhaw5NqAkkqRPxUF.png)"
   ]
  },
  {
   "cell_type": "code",
   "execution_count": null,
   "metadata": {
    "ExecuteTime": {
     "end_time": "2021-08-12T07:41:15.172727Z",
     "start_time": "2021-08-12T07:41:15.169205Z"
    }
   },
   "outputs": [],
   "source": [
    "df1 = pd.DataFrame({\"A\": [\"A0\", \"A1\", \"A2\", \"A3\"],\n",
    "                    \"B\": [\"B0\", \"B1\", \"B2\", \"B3\"],\n",
    "                    \"C\": [\"C0\", \"C1\", \"C2\", \"C3\"],\n",
    "                    \"D\": [\"D0\", \"D1\", \"D2\", \"D3\"]}, index=[0, 1, 2, 3])"
   ]
  },
  {
   "cell_type": "code",
   "execution_count": null,
   "metadata": {
    "ExecuteTime": {
     "end_time": "2021-08-12T07:41:15.191285Z",
     "start_time": "2021-08-12T07:41:15.184474Z"
    }
   },
   "outputs": [],
   "source": [
    "df1"
   ]
  },
  {
   "cell_type": "code",
   "execution_count": null,
   "metadata": {
    "ExecuteTime": {
     "end_time": "2021-08-12T07:41:15.177955Z",
     "start_time": "2021-08-12T07:41:15.174344Z"
    }
   },
   "outputs": [],
   "source": [
    "df2 = pd.DataFrame({\"A\": [\"A4\", \"A5\", \"A6\", \"A7\"],\n",
    "                    \"B\": [\"B4\", \"B5\", \"B6\", \"B7\"],\n",
    "                    \"C\": [\"C4\", \"C5\", \"C6\", \"C7\"],\n",
    "                    \"D\": [\"D4\", \"D5\", \"D6\", \"D7\"]}, index=[4, 5, 6, 7])"
   ]
  },
  {
   "cell_type": "code",
   "execution_count": null,
   "metadata": {
    "ExecuteTime": {
     "end_time": "2021-08-12T07:41:15.200021Z",
     "start_time": "2021-08-12T07:41:15.193029Z"
    }
   },
   "outputs": [],
   "source": [
    "df2"
   ]
  },
  {
   "cell_type": "code",
   "execution_count": null,
   "metadata": {
    "ExecuteTime": {
     "end_time": "2021-08-12T07:41:15.182798Z",
     "start_time": "2021-08-12T07:41:15.179537Z"
    }
   },
   "outputs": [],
   "source": [
    "df3 = pd.DataFrame({\"E\": [\"E8\", \"E9\", \"E10\", \"E11\"],\n",
    "                    \"F\": [\"F8\", \"F9\", \"F10\", \"F11\"],\n",
    "                    \"G\": [\"G8\", \"G9\", \"G10\", \"G11\"]}, index=[0, 1, 2, 3])"
   ]
  },
  {
   "cell_type": "code",
   "execution_count": null,
   "metadata": {
    "ExecuteTime": {
     "end_time": "2021-08-12T07:41:15.209818Z",
     "start_time": "2021-08-12T07:41:15.202028Z"
    }
   },
   "outputs": [],
   "source": [
    "df3"
   ]
  },
  {
   "cell_type": "markdown",
   "metadata": {},
   "source": [
    "The most common way to concatenate is along the index/rows (\"vertically\"). This is the default:"
   ]
  },
  {
   "cell_type": "code",
   "execution_count": null,
   "metadata": {},
   "outputs": [],
   "source": [
    "pd.concat([df1, df2])"
   ]
  },
  {
   "cell_type": "markdown",
   "metadata": {},
   "source": [
    "You can also concatenate along columns (\"horizontally\"), but you should only do this if the columns are different and you *know* the row order is *exactly* same for both dataframes. So this is usually not the right thing to do! (Usually, you want to merge in this situation, which we will see soon.) \n",
    "\n",
    "Let's show an example anyway:"
   ]
  },
  {
   "cell_type": "code",
   "execution_count": null,
   "metadata": {},
   "outputs": [],
   "source": [
    "pd.concat([df1, df3], axis=1)"
   ]
  },
  {
   "cell_type": "markdown",
   "metadata": {},
   "source": [
    "---"
   ]
  },
  {
   "cell_type": "markdown",
   "metadata": {},
   "source": [
    "# Merge/Join"
   ]
  },
  {
   "cell_type": "markdown",
   "metadata": {},
   "source": [
    "A very common operation is to merge/join two dataframes that share some columns (typically an identifier or key) but not others."
   ]
  },
  {
   "cell_type": "markdown",
   "metadata": {},
   "source": [
    "## Check the variables in each df"
   ]
  },
  {
   "cell_type": "code",
   "execution_count": null,
   "metadata": {
    "ExecuteTime": {
     "end_time": "2021-08-12T07:41:15.240442Z",
     "start_time": "2021-08-12T07:41:15.228077Z"
    }
   },
   "outputs": [],
   "source": [
    "whr_df_15[:3]"
   ]
  },
  {
   "cell_type": "code",
   "execution_count": null,
   "metadata": {
    "ExecuteTime": {
     "end_time": "2021-08-12T07:41:15.245861Z",
     "start_time": "2021-08-12T07:41:15.242098Z"
    }
   },
   "outputs": [],
   "source": [
    "whr_df_15.columns"
   ]
  },
  {
   "cell_type": "markdown",
   "metadata": {},
   "source": [
    "Suppose that the columns of our interest are (1) Country, (2) Region, (3) Happiness Rank, (4) Happiness Score, (5) Economy, (6) Freedom, and (7) Trust "
   ]
  },
  {
   "cell_type": "code",
   "execution_count": null,
   "metadata": {
    "ExecuteTime": {
     "end_time": "2021-08-12T07:41:15.258494Z",
     "start_time": "2021-08-12T07:41:15.247519Z"
    }
   },
   "outputs": [],
   "source": [
    "whr_df_19[:3]"
   ]
  },
  {
   "cell_type": "code",
   "execution_count": null,
   "metadata": {
    "ExecuteTime": {
     "end_time": "2021-08-12T07:41:15.265012Z",
     "start_time": "2021-08-12T07:41:15.260737Z"
    }
   },
   "outputs": [],
   "source": [
    "whr_df_19.columns"
   ]
  },
  {
   "cell_type": "markdown",
   "metadata": {},
   "source": [
    "## Rename columns"
   ]
  },
  {
   "cell_type": "code",
   "execution_count": null,
   "metadata": {
    "ExecuteTime": {
     "end_time": "2021-08-12T07:41:15.272253Z",
     "start_time": "2021-08-12T07:41:15.268387Z"
    }
   },
   "outputs": [],
   "source": [
    "whr_df_19.rename(columns = {'Overall rank':\"Happiness Rank\", \"Country or region\":\"Country\", \n",
    "                 \"Score\":\"Happiness Score\", \"GDP per capita\": \"Economy (GDP per Capita)\", \n",
    "                 \"Freedom to make life choices\":\"Freedom\",\n",
    "                  \"Perceptions of corruption\":\"Trust (Government Corruption)\"}, inplace=True)"
   ]
  },
  {
   "cell_type": "code",
   "execution_count": null,
   "metadata": {
    "ExecuteTime": {
     "end_time": "2021-08-12T07:41:15.290567Z",
     "start_time": "2021-08-12T07:41:15.274977Z"
    }
   },
   "outputs": [],
   "source": [
    "whr_df_19"
   ]
  },
  {
   "cell_type": "markdown",
   "metadata": {},
   "source": [
    "## Merging two dfs"
   ]
  },
  {
   "cell_type": "code",
   "execution_count": null,
   "metadata": {
    "ExecuteTime": {
     "end_time": "2021-08-12T07:41:15.296183Z",
     "start_time": "2021-08-12T07:41:15.292588Z"
    }
   },
   "outputs": [],
   "source": [
    "my_columns_15 = [\n",
    "    'Country', \"Region\", 'Happiness Rank', 'Happiness Score', 'Economy (GDP per Capita)',\n",
    "    'Freedom', 'Trust (Government Corruption)'\n",
    "]"
   ]
  },
  {
   "cell_type": "code",
   "execution_count": null,
   "metadata": {
    "ExecuteTime": {
     "end_time": "2021-08-12T07:41:15.314991Z",
     "start_time": "2021-08-12T07:41:15.298601Z"
    }
   },
   "outputs": [],
   "source": [
    "whr_df_15[my_columns_15]"
   ]
  },
  {
   "cell_type": "code",
   "execution_count": null,
   "metadata": {
    "ExecuteTime": {
     "end_time": "2021-08-12T07:41:15.320370Z",
     "start_time": "2021-08-12T07:41:15.316572Z"
    }
   },
   "outputs": [],
   "source": [
    "whr_df_15_new = whr_df_15[my_columns_15]"
   ]
  },
  {
   "cell_type": "code",
   "execution_count": null,
   "metadata": {
    "ExecuteTime": {
     "end_time": "2021-08-12T07:41:15.325246Z",
     "start_time": "2021-08-12T07:41:15.323009Z"
    }
   },
   "outputs": [],
   "source": [
    "my_columns_19 = [\n",
    "    'Country', 'Happiness Rank', 'Happiness Score', 'Economy (GDP per Capita)',\n",
    "    'Freedom', 'Trust (Government Corruption)'\n",
    "]"
   ]
  },
  {
   "cell_type": "code",
   "execution_count": null,
   "metadata": {
    "ExecuteTime": {
     "end_time": "2021-08-12T07:41:15.342032Z",
     "start_time": "2021-08-12T07:41:15.327061Z"
    }
   },
   "outputs": [],
   "source": [
    "whr_df_19[my_columns_19]"
   ]
  },
  {
   "cell_type": "code",
   "execution_count": null,
   "metadata": {
    "ExecuteTime": {
     "end_time": "2021-08-12T07:41:15.380769Z",
     "start_time": "2021-08-12T07:41:15.344459Z"
    }
   },
   "outputs": [],
   "source": [
    "whr_df_19_new = whr_df_19[my_columns_19]"
   ]
  },
  {
   "cell_type": "code",
   "execution_count": null,
   "metadata": {
    "ExecuteTime": {
     "end_time": "2021-08-12T07:41:15.390163Z",
     "start_time": "2021-08-12T07:41:15.383116Z"
    }
   },
   "outputs": [],
   "source": [
    "whr_df_15_19 = whr_df_15_new.merge(whr_df_19_new, left_on=\"Country\", right_on=\"Country\", how='left', suffixes=(\"_15\", \"_19\"))"
   ]
  },
  {
   "cell_type": "code",
   "execution_count": null,
   "metadata": {
    "ExecuteTime": {
     "end_time": "2021-08-12T07:41:15.415376Z",
     "start_time": "2021-08-12T07:41:15.393405Z"
    }
   },
   "outputs": [],
   "source": [
    "whr_df_15_19"
   ]
  },
  {
   "cell_type": "markdown",
   "metadata": {},
   "source": [
    "## Check missing values"
   ]
  },
  {
   "cell_type": "code",
   "execution_count": null,
   "metadata": {
    "ExecuteTime": {
     "end_time": "2021-08-12T07:41:15.424135Z",
     "start_time": "2021-08-12T07:41:15.417663Z"
    }
   },
   "outputs": [],
   "source": [
    "whr_df_15_19.isna().sum()"
   ]
  },
  {
   "cell_type": "code",
   "execution_count": null,
   "metadata": {
    "ExecuteTime": {
     "end_time": "2021-08-12T07:41:15.431145Z",
     "start_time": "2021-08-12T07:41:15.426737Z"
    }
   },
   "outputs": [],
   "source": [
    "len(whr_df_15_19)"
   ]
  },
  {
   "cell_type": "markdown",
   "metadata": {},
   "source": [
    "## Drop NAs"
   ]
  },
  {
   "cell_type": "code",
   "execution_count": null,
   "metadata": {
    "ExecuteTime": {
     "end_time": "2021-08-12T07:41:15.437549Z",
     "start_time": "2021-08-12T07:41:15.433327Z"
    }
   },
   "outputs": [],
   "source": [
    "whr_df_15_19.dropna(inplace=True)"
   ]
  },
  {
   "cell_type": "code",
   "execution_count": null,
   "metadata": {
    "ExecuteTime": {
     "end_time": "2021-08-12T07:41:15.443665Z",
     "start_time": "2021-08-12T07:41:15.439031Z"
    }
   },
   "outputs": [],
   "source": [
    "whr_df_15_19.isna().sum()"
   ]
  },
  {
   "cell_type": "code",
   "execution_count": null,
   "metadata": {
    "ExecuteTime": {
     "end_time": "2021-08-12T07:41:15.448634Z",
     "start_time": "2021-08-12T07:41:15.445530Z"
    }
   },
   "outputs": [],
   "source": [
    "len(whr_df_15_19)"
   ]
  },
  {
   "cell_type": "markdown",
   "metadata": {},
   "source": [
    " "
   ]
  },
  {
   "cell_type": "markdown",
   "metadata": {},
   "source": [
    "## There are different ways to perform joins..."
   ]
  },
  {
   "cell_type": "markdown",
   "metadata": {},
   "source": [
    "![Illustration of merging](https://miro.medium.com/v2/resize:fit:1400/1*Vq8e0dAr0Xsfw0bJRz4FRg.png)"
   ]
  },
  {
   "cell_type": "markdown",
   "metadata": {},
   "source": [
    "## ... so let's inner-join our data"
   ]
  },
  {
   "cell_type": "markdown",
   "metadata": {},
   "source": [
    "Instead of `how=\"left\"` we'll use `how=\"inner\"`"
   ]
  },
  {
   "cell_type": "code",
   "execution_count": null,
   "metadata": {},
   "outputs": [],
   "source": [
    "whr_df_15_19 = whr_df_15_new.merge(whr_df_19_new, left_on=\"Country\", right_on=\"Country\", how='inner', suffixes=(\"_15\", \"_19\"))"
   ]
  },
  {
   "cell_type": "code",
   "execution_count": null,
   "metadata": {},
   "outputs": [],
   "source": [
    "whr_df_15_19"
   ]
  },
  {
   "cell_type": "code",
   "execution_count": null,
   "metadata": {},
   "outputs": [],
   "source": [
    "whr_df_15_19.isna().sum()"
   ]
  },
  {
   "cell_type": "code",
   "execution_count": null,
   "metadata": {},
   "outputs": [],
   "source": [
    "len(whr_df_15_19)"
   ]
  },
  {
   "cell_type": "markdown",
   "metadata": {},
   "source": [
    "Also, since `left_on=` and `right_on=` are the same, we can replace them with `on=` to save space:"
   ]
  },
  {
   "cell_type": "code",
   "execution_count": null,
   "metadata": {},
   "outputs": [],
   "source": [
    "whr_df_15_19 = whr_df_15_new.merge(whr_df_19_new, on=\"Country\", how='inner', suffixes=(\"_15\", \"_19\"))"
   ]
  },
  {
   "cell_type": "code",
   "execution_count": null,
   "metadata": {},
   "outputs": [],
   "source": [
    "whr_df_15_19"
   ]
  },
  {
   "cell_type": "markdown",
   "metadata": {},
   "source": [
    "Finally, the default merge/join is an inner-join, so we can omit the `how` argument too:"
   ]
  },
  {
   "cell_type": "code",
   "execution_count": null,
   "metadata": {},
   "outputs": [],
   "source": [
    "whr_df_15_19 = whr_df_15_new.merge(whr_df_19_new, on=\"Country\", suffixes=(\"_15\", \"_19\"))"
   ]
  },
  {
   "cell_type": "code",
   "execution_count": null,
   "metadata": {},
   "outputs": [],
   "source": [
    "whr_df_15_19"
   ]
  },
  {
   "cell_type": "markdown",
   "metadata": {},
   "source": [
    " "
   ]
  },
  {
   "cell_type": "markdown",
   "metadata": {},
   "source": [
    "If you ommit the `suffixes` argument, it will create suffixes `_x` and `_y` for you:"
   ]
  },
  {
   "cell_type": "code",
   "execution_count": null,
   "metadata": {},
   "outputs": [],
   "source": [
    "whr_df_15_new.merge(whr_df_19_new, on=\"Country\")"
   ]
  },
  {
   "cell_type": "markdown",
   "metadata": {},
   "source": [
    "---"
   ]
  },
  {
   "cell_type": "markdown",
   "metadata": {},
   "source": [
    "# Reshape"
   ]
  },
  {
   "cell_type": "markdown",
   "metadata": {},
   "source": [
    "## Casting wide to long"
   ]
  },
  {
   "cell_type": "markdown",
   "metadata": {},
   "source": [
    "`whr_df_15_19` is in a \"wide\" data format: there are columns repeated for two different years:"
   ]
  },
  {
   "cell_type": "code",
   "execution_count": null,
   "metadata": {},
   "outputs": [],
   "source": [
    "whr_df_15_19.shape"
   ]
  },
  {
   "cell_type": "code",
   "execution_count": null,
   "metadata": {},
   "outputs": [],
   "source": [
    "whr_df_15_19.columns"
   ]
  },
  {
   "cell_type": "markdown",
   "metadata": {},
   "source": [
    "Let's \"cast\" it to a \"long\" format: \n",
    "* Each row will be split into 2 rows, one per year (15/19).\n",
    "* And the following duplicated columns will be consolidated into a single set \n",
    "'Happiness Rank_15', 'Happiness Score_15', 'Economy (GDP per Capita)_15', 'Freedom_15', 'Trust (Government Corruption)_15', 'Happiness Rank_19', 'Happiness Score_19', 'Economy (GDP per Capita)_19', 'Freedom_19', 'Trust (Government Corruption)_19'\n",
    "* A new year column will be created.\n",
    "* And the following identifier columns will not be changed: 'Country', 'Region'\n",
    "\n",
    "We'll use the [wide_to_long](https://pandas.pydata.org/docs/reference/api/pandas.wide_to_long.html) function to do this. (Another possibility is to use the similar [melt](https://pandas.pydata.org/docs/reference/api/pandas.melt.html) function.)"
   ]
  },
  {
   "cell_type": "code",
   "execution_count": null,
   "metadata": {},
   "outputs": [],
   "source": [
    "long_df = pd.wide_to_long(whr_df_15_19\n",
    "                , stubnames = [ 'Happiness Rank_', 'Happiness Score_', 'Economy (GDP per Capita)_'\n",
    "                                 , 'Freedom_', 'Trust (Government Corruption)_' ]\n",
    "                , i = [ 'Country', 'Region' ]\n",
    "                , j = 'year'\n",
    "               ).reset_index()\n",
    "\n",
    "long_df\n"
   ]
  },
  {
   "cell_type": "markdown",
   "metadata": {},
   "source": [
    "You can see that the consolidated columns still have a \"_\" postfix, so let's update the column names to remove that:"
   ]
  },
  {
   "cell_type": "code",
   "execution_count": null,
   "metadata": {},
   "outputs": [],
   "source": [
    "long_df.columns = [c.replace('_', '') for c in long_df.columns]\n",
    "long_df"
   ]
  },
  {
   "cell_type": "markdown",
   "metadata": {},
   "source": [
    "## Casting long to wide"
   ]
  },
  {
   "cell_type": "markdown",
   "metadata": {},
   "source": [
    "If you want to go in the other direction, you can \"cast\" the \"long\" format data frame to a \"wide\" format data frame (like we had originally).\n",
    "\n",
    "Now, the \"year\" column will be subsumed under the value columns, in a hierarchical structure.\n",
    "\n",
    "We'll use the [pivot](https://pandas.pydata.org/docs/reference/api/pandas.pivot.html) function to do this. (Another possibility is to use the similar [pivot_table](https://pandas.pydata.org/docs/reference/api/pandas.pivot_table.html) function.)\n"
   ]
  },
  {
   "cell_type": "code",
   "execution_count": null,
   "metadata": {},
   "outputs": [],
   "source": [
    "wide_df = pd.pivot(long_df\n",
    "                   , index = [ 'Country', 'Region' ]\n",
    "                   , columns = 'year'\n",
    "                  ).reset_index()\n",
    "\n",
    "wide_df"
   ]
  },
  {
   "cell_type": "markdown",
   "metadata": {},
   "source": [
    " "
   ]
  },
  {
   "cell_type": "markdown",
   "metadata": {},
   "source": [
    "The above has a hierarchical column structure. That's tricky to work with. So let's collapse to a single level."
   ]
  },
  {
   "cell_type": "code",
   "execution_count": null,
   "metadata": {},
   "outputs": [],
   "source": [
    "list(zip(['a', 'b'], ['c', 'd']))"
   ]
  },
  {
   "cell_type": "code",
   "execution_count": null,
   "metadata": {},
   "outputs": [],
   "source": [
    "level_0_cnames = wide_df.columns.get_level_values(0)\n",
    "level_0_cnames"
   ]
  },
  {
   "cell_type": "code",
   "execution_count": null,
   "metadata": {},
   "outputs": [],
   "source": [
    "level_1_cnames = wide_df.columns.get_level_values(1)\n",
    "level_1_cnames"
   ]
  },
  {
   "cell_type": "code",
   "execution_count": null,
   "metadata": {},
   "outputs": [],
   "source": [
    "new_cnames = [(a+'_'+str(b)).rstrip('_') for (a,b) in zip(level_0_cnames, level_1_cnames)]\n",
    "new_cnames"
   ]
  },
  {
   "cell_type": "code",
   "execution_count": null,
   "metadata": {},
   "outputs": [],
   "source": [
    "wide_df.columns = new_cnames\n",
    "wide_df"
   ]
  },
  {
   "cell_type": "markdown",
   "metadata": {},
   "source": [
    "---"
   ]
  },
  {
   "cell_type": "markdown",
   "metadata": {},
   "source": [
    "# Exercise for you"
   ]
  },
  {
   "cell_type": "markdown",
   "metadata": {},
   "source": [
    "<ol>\n",
    "    <li>Find two data files on the internet that you think might be relevant for your research. They must relate to the same subjects: e.g., countries, or companies, or books, or movies, or celebrities, or planets, ... (In our example above, we had data describing countries.)\n",
    "    <li>Load up each file into a separate data frame.\n",
    "    <li>Describe each data frame.\n",
    "    <li>Clean any missing or incorrect values, in a way that makes sense to you.\n",
    "    <li>Merge the two data frames together. Which kind of join makes sense for the data you have? Inner? Left? Right? Or maybe you don't know until it's time to perform further analysis?\n",
    "</ol>\n"
   ]
  },
  {
   "cell_type": "code",
   "execution_count": null,
   "metadata": {},
   "outputs": [],
   "source": []
  }
 ],
 "metadata": {
  "hide_input": false,
  "kernelspec": {
   "display_name": "Python 3 (ipykernel)",
   "language": "python",
   "name": "python3"
  },
  "language_info": {
   "codemirror_mode": {
    "name": "ipython",
    "version": 3
   },
   "file_extension": ".py",
   "mimetype": "text/x-python",
   "name": "python",
   "nbconvert_exporter": "python",
   "pygments_lexer": "ipython3",
   "version": "3.9.17"
  },
  "toc": {
   "base_numbering": 1,
   "nav_menu": {},
   "number_sections": true,
   "sideBar": true,
   "skip_h1_title": false,
   "title_cell": "Table of Contents",
   "title_sidebar": "Contents",
   "toc_cell": true,
   "toc_position": {},
   "toc_section_display": true,
   "toc_window_display": false
  }
 },
 "nbformat": 4,
 "nbformat_minor": 4
}
