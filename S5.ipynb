{
 "cells": [
  {
   "cell_type": "markdown",
   "metadata": {},
   "source": [
    "# Preliminaries"
   ]
  },
  {
   "cell_type": "code",
   "execution_count": 1,
   "metadata": {
    "ExecuteTime": {
     "end_time": "2021-08-23T06:03:11.953324Z",
     "start_time": "2021-08-23T06:03:10.185381Z"
    }
   },
   "outputs": [],
   "source": [
    "# For data frames:\n",
    "import pandas as pd\n",
    "\n",
    "# For arrays:\n",
    "import numpy as np\n",
    "\n",
    "# For optimization:\n",
    "import scipy"
   ]
  },
  {
   "cell_type": "code",
   "execution_count": 2,
   "metadata": {},
   "outputs": [],
   "source": [
    "from sklearn.metrics import confusion_matrix, RocCurveDisplay\n",
    "from sklearn.ensemble import RandomForestClassifier\n",
    "from sklearn.svm import LinearSVC\n",
    "from sklearn.preprocessing import StandardScaler\n",
    "from sklearn.pipeline import make_pipeline\n",
    "from sklearn.model_selection import GridSearchCV"
   ]
  },
  {
   "cell_type": "code",
   "execution_count": 3,
   "metadata": {},
   "outputs": [],
   "source": [
    "# For plotting:\n",
    "%matplotlib inline\n",
    "from matplotlib import pyplot as plt\n",
    "import seaborn as sns"
   ]
  },
  {
   "cell_type": "code",
   "execution_count": 4,
   "metadata": {},
   "outputs": [],
   "source": [
    "# For OLS regression:\n",
    "import statsmodels.api as sm\n",
    "import statsmodels.formula.api as smf\n",
    "from statsmodels.stats.outliers_influence import variance_inflation_factor\n"
   ]
  },
  {
   "cell_type": "markdown",
   "metadata": {},
   "source": [
    "---"
   ]
  },
  {
   "cell_type": "markdown",
   "metadata": {},
   "source": [
    "# Supervised learning using scikit-learn"
   ]
  },
  {
   "cell_type": "markdown",
   "metadata": {},
   "source": [
    "Supervised learning is a type of machine learning (ML) that involves predicting a ground truth. And we must have some examples in order to \"supervise\" the learning algorithm.\n",
    "\n",
    "We'll demonstrate this by predicting whether borrowers will default on a loan. We know the ground truth: whether they have or not. And we will supervise the algorithm as it learns how to predict this fact.\n",
    "\n",
    "This task is a **classification** task: the loan can be in a discrete state of defaulted or not defaulted. If we are trying to predict which state/**class** a loan will end up in, it's a classification problem."
   ]
  },
  {
   "cell_type": "markdown",
   "metadata": {},
   "source": [
    "## Load loans dataset"
   ]
  },
  {
   "cell_type": "code",
   "execution_count": 5,
   "metadata": {},
   "outputs": [],
   "source": [
    "loans_df = pd.read_csv('Loan_Default.csv')"
   ]
  },
  {
   "cell_type": "code",
   "execution_count": 6,
   "metadata": {},
   "outputs": [
    {
     "data": {
      "text/plain": [
       "255347"
      ]
     },
     "execution_count": 6,
     "metadata": {},
     "output_type": "execute_result"
    }
   ],
   "source": [
    "len(loans_df)"
   ]
  },
  {
   "cell_type": "code",
   "execution_count": 7,
   "metadata": {},
   "outputs": [
    {
     "name": "stdout",
     "output_type": "stream",
     "text": [
      "<class 'pandas.core.frame.DataFrame'>\n",
      "RangeIndex: 255347 entries, 0 to 255346\n",
      "Data columns (total 18 columns):\n",
      " #   Column          Non-Null Count   Dtype  \n",
      "---  ------          --------------   -----  \n",
      " 0   LoanID          255347 non-null  object \n",
      " 1   Age             255347 non-null  int64  \n",
      " 2   Income          255347 non-null  int64  \n",
      " 3   LoanAmount      255347 non-null  int64  \n",
      " 4   CreditScore     255347 non-null  int64  \n",
      " 5   MonthsEmployed  255347 non-null  int64  \n",
      " 6   NumCreditLines  255347 non-null  int64  \n",
      " 7   InterestRate    255347 non-null  float64\n",
      " 8   LoanTerm        255347 non-null  int64  \n",
      " 9   DTIRatio        255347 non-null  float64\n",
      " 10  Education       255347 non-null  object \n",
      " 11  EmploymentType  255347 non-null  object \n",
      " 12  MaritalStatus   255347 non-null  object \n",
      " 13  HasMortgage     255347 non-null  object \n",
      " 14  HasDependents   255347 non-null  object \n",
      " 15  LoanPurpose     255347 non-null  object \n",
      " 16  HasCoSigner     255347 non-null  object \n",
      " 17  Default         255347 non-null  int64  \n",
      "dtypes: float64(2), int64(8), object(8)\n",
      "memory usage: 35.1+ MB\n"
     ]
    }
   ],
   "source": [
    "loans_df.info()"
   ]
  },
  {
   "cell_type": "code",
   "execution_count": 8,
   "metadata": {},
   "outputs": [
    {
     "data": {
      "text/html": [
       "<div>\n",
       "<style scoped>\n",
       "    .dataframe tbody tr th:only-of-type {\n",
       "        vertical-align: middle;\n",
       "    }\n",
       "\n",
       "    .dataframe tbody tr th {\n",
       "        vertical-align: top;\n",
       "    }\n",
       "\n",
       "    .dataframe thead th {\n",
       "        text-align: right;\n",
       "    }\n",
       "</style>\n",
       "<table border=\"1\" class=\"dataframe\">\n",
       "  <thead>\n",
       "    <tr style=\"text-align: right;\">\n",
       "      <th></th>\n",
       "      <th>LoanID</th>\n",
       "      <th>Age</th>\n",
       "      <th>Income</th>\n",
       "      <th>LoanAmount</th>\n",
       "      <th>CreditScore</th>\n",
       "      <th>MonthsEmployed</th>\n",
       "      <th>NumCreditLines</th>\n",
       "      <th>InterestRate</th>\n",
       "      <th>LoanTerm</th>\n",
       "      <th>DTIRatio</th>\n",
       "      <th>Education</th>\n",
       "      <th>EmploymentType</th>\n",
       "      <th>MaritalStatus</th>\n",
       "      <th>HasMortgage</th>\n",
       "      <th>HasDependents</th>\n",
       "      <th>LoanPurpose</th>\n",
       "      <th>HasCoSigner</th>\n",
       "      <th>Default</th>\n",
       "    </tr>\n",
       "  </thead>\n",
       "  <tbody>\n",
       "    <tr>\n",
       "      <th>0</th>\n",
       "      <td>I38PQUQS96</td>\n",
       "      <td>56</td>\n",
       "      <td>85994</td>\n",
       "      <td>50587</td>\n",
       "      <td>520</td>\n",
       "      <td>80</td>\n",
       "      <td>4</td>\n",
       "      <td>15.23</td>\n",
       "      <td>36</td>\n",
       "      <td>0.44</td>\n",
       "      <td>Bachelor's</td>\n",
       "      <td>Full-time</td>\n",
       "      <td>Divorced</td>\n",
       "      <td>Yes</td>\n",
       "      <td>Yes</td>\n",
       "      <td>Other</td>\n",
       "      <td>Yes</td>\n",
       "      <td>0</td>\n",
       "    </tr>\n",
       "    <tr>\n",
       "      <th>1</th>\n",
       "      <td>HPSK72WA7R</td>\n",
       "      <td>69</td>\n",
       "      <td>50432</td>\n",
       "      <td>124440</td>\n",
       "      <td>458</td>\n",
       "      <td>15</td>\n",
       "      <td>1</td>\n",
       "      <td>4.81</td>\n",
       "      <td>60</td>\n",
       "      <td>0.68</td>\n",
       "      <td>Master's</td>\n",
       "      <td>Full-time</td>\n",
       "      <td>Married</td>\n",
       "      <td>No</td>\n",
       "      <td>No</td>\n",
       "      <td>Other</td>\n",
       "      <td>Yes</td>\n",
       "      <td>0</td>\n",
       "    </tr>\n",
       "    <tr>\n",
       "      <th>2</th>\n",
       "      <td>C1OZ6DPJ8Y</td>\n",
       "      <td>46</td>\n",
       "      <td>84208</td>\n",
       "      <td>129188</td>\n",
       "      <td>451</td>\n",
       "      <td>26</td>\n",
       "      <td>3</td>\n",
       "      <td>21.17</td>\n",
       "      <td>24</td>\n",
       "      <td>0.31</td>\n",
       "      <td>Master's</td>\n",
       "      <td>Unemployed</td>\n",
       "      <td>Divorced</td>\n",
       "      <td>Yes</td>\n",
       "      <td>Yes</td>\n",
       "      <td>Auto</td>\n",
       "      <td>No</td>\n",
       "      <td>1</td>\n",
       "    </tr>\n",
       "    <tr>\n",
       "      <th>3</th>\n",
       "      <td>V2KKSFM3UN</td>\n",
       "      <td>32</td>\n",
       "      <td>31713</td>\n",
       "      <td>44799</td>\n",
       "      <td>743</td>\n",
       "      <td>0</td>\n",
       "      <td>3</td>\n",
       "      <td>7.07</td>\n",
       "      <td>24</td>\n",
       "      <td>0.23</td>\n",
       "      <td>High School</td>\n",
       "      <td>Full-time</td>\n",
       "      <td>Married</td>\n",
       "      <td>No</td>\n",
       "      <td>No</td>\n",
       "      <td>Business</td>\n",
       "      <td>No</td>\n",
       "      <td>0</td>\n",
       "    </tr>\n",
       "    <tr>\n",
       "      <th>4</th>\n",
       "      <td>EY08JDHTZP</td>\n",
       "      <td>60</td>\n",
       "      <td>20437</td>\n",
       "      <td>9139</td>\n",
       "      <td>633</td>\n",
       "      <td>8</td>\n",
       "      <td>4</td>\n",
       "      <td>6.51</td>\n",
       "      <td>48</td>\n",
       "      <td>0.73</td>\n",
       "      <td>Bachelor's</td>\n",
       "      <td>Unemployed</td>\n",
       "      <td>Divorced</td>\n",
       "      <td>No</td>\n",
       "      <td>Yes</td>\n",
       "      <td>Auto</td>\n",
       "      <td>No</td>\n",
       "      <td>0</td>\n",
       "    </tr>\n",
       "  </tbody>\n",
       "</table>\n",
       "</div>"
      ],
      "text/plain": [
       "       LoanID  Age  Income  LoanAmount  CreditScore  MonthsEmployed  \\\n",
       "0  I38PQUQS96   56   85994       50587          520              80   \n",
       "1  HPSK72WA7R   69   50432      124440          458              15   \n",
       "2  C1OZ6DPJ8Y   46   84208      129188          451              26   \n",
       "3  V2KKSFM3UN   32   31713       44799          743               0   \n",
       "4  EY08JDHTZP   60   20437        9139          633               8   \n",
       "\n",
       "   NumCreditLines  InterestRate  LoanTerm  DTIRatio    Education  \\\n",
       "0               4         15.23        36      0.44   Bachelor's   \n",
       "1               1          4.81        60      0.68     Master's   \n",
       "2               3         21.17        24      0.31     Master's   \n",
       "3               3          7.07        24      0.23  High School   \n",
       "4               4          6.51        48      0.73   Bachelor's   \n",
       "\n",
       "  EmploymentType MaritalStatus HasMortgage HasDependents LoanPurpose  \\\n",
       "0      Full-time      Divorced         Yes           Yes       Other   \n",
       "1      Full-time       Married          No            No       Other   \n",
       "2     Unemployed      Divorced         Yes           Yes        Auto   \n",
       "3      Full-time       Married          No            No    Business   \n",
       "4     Unemployed      Divorced          No           Yes        Auto   \n",
       "\n",
       "  HasCoSigner  Default  \n",
       "0         Yes        0  \n",
       "1         Yes        0  \n",
       "2          No        1  \n",
       "3          No        0  \n",
       "4          No        0  "
      ]
     },
     "execution_count": 8,
     "metadata": {},
     "output_type": "execute_result"
    }
   ],
   "source": [
    "loans_df.head()"
   ]
  },
  {
   "cell_type": "code",
   "execution_count": 9,
   "metadata": {},
   "outputs": [
    {
     "data": {
      "text/plain": [
       "<Axes: >"
      ]
     },
     "execution_count": 9,
     "metadata": {},
     "output_type": "execute_result"
    },
    {
     "data": {
      "image/png": "[encoded data removed]",
      "text/plain": [
       "<Figure size 640x480 with 1 Axes>"
      ]
     },
     "metadata": {},
     "output_type": "display_data"
    }
   ],
   "source": [
    "loans_df['Default'].hist()"
   ]
  },
  {
   "cell_type": "markdown",
   "metadata": {},
   "source": [
    "## ML-specific cleaning & processing"
   ]
  },
  {
   "cell_type": "code",
   "execution_count": 10,
   "metadata": {},
   "outputs": [
    {
     "data": {
      "text/plain": [
       "array(['Age', 'Income', 'LoanAmount', 'CreditScore', 'MonthsEmployed',\n",
       "       'NumCreditLines', 'InterestRate', 'LoanTerm', 'DTIRatio',\n",
       "       'Education', 'EmploymentType', 'MaritalStatus', 'HasMortgage',\n",
       "       'HasDependents', 'LoanPurpose', 'HasCoSigner', 'Default'],\n",
       "      dtype=object)"
      ]
     },
     "execution_count": 10,
     "metadata": {},
     "output_type": "execute_result"
    }
   ],
   "source": [
    "# A LoanID column will not generalize, and should be excluded\n",
    "loans_df.drop(columns=['LoanID'], inplace=True)\n",
    "loans_df.columns.values"
   ]
  },
  {
   "cell_type": "code",
   "execution_count": 11,
   "metadata": {},
   "outputs": [
    {
     "name": "stdout",
     "output_type": "stream",
     "text": [
      "['Yes' 'No']\n",
      "['Yes' 'No']\n",
      "['Yes' 'No']\n"
     ]
    }
   ],
   "source": [
    "# These 3 columns are Yes/No...\n",
    "print(loans_df['HasMortgage'].unique())\n",
    "print(loans_df['HasDependents'].unique())\n",
    "print(loans_df['HasCoSigner'].unique())\n"
   ]
  },
  {
   "cell_type": "code",
   "execution_count": 12,
   "metadata": {},
   "outputs": [],
   "source": [
    "# ... so convert them to boolean True/False. (or 1/0 would also work)\n",
    "loans_df['HasMortgage'] = (loans_df['HasMortgage'] == 'Yes')\n",
    "loans_df['HasDependents'] = (loans_df['HasDependents'] == 'Yes')\n",
    "loans_df['HasCoSigner'] = (loans_df['HasCoSigner'] == 'Yes')"
   ]
  },
  {
   "cell_type": "code",
   "execution_count": 13,
   "metadata": {},
   "outputs": [
    {
     "data": {
      "text/html": [
       "<div>\n",
       "<style scoped>\n",
       "    .dataframe tbody tr th:only-of-type {\n",
       "        vertical-align: middle;\n",
       "    }\n",
       "\n",
       "    .dataframe tbody tr th {\n",
       "        vertical-align: top;\n",
       "    }\n",
       "\n",
       "    .dataframe thead th {\n",
       "        text-align: right;\n",
       "    }\n",
       "</style>\n",
       "<table border=\"1\" class=\"dataframe\">\n",
       "  <thead>\n",
       "    <tr style=\"text-align: right;\">\n",
       "      <th></th>\n",
       "      <th>Age</th>\n",
       "      <th>Income</th>\n",
       "      <th>LoanAmount</th>\n",
       "      <th>CreditScore</th>\n",
       "      <th>MonthsEmployed</th>\n",
       "      <th>NumCreditLines</th>\n",
       "      <th>InterestRate</th>\n",
       "      <th>LoanTerm</th>\n",
       "      <th>DTIRatio</th>\n",
       "      <th>Education</th>\n",
       "      <th>EmploymentType</th>\n",
       "      <th>MaritalStatus</th>\n",
       "      <th>HasMortgage</th>\n",
       "      <th>HasDependents</th>\n",
       "      <th>LoanPurpose</th>\n",
       "      <th>HasCoSigner</th>\n",
       "      <th>Default</th>\n",
       "    </tr>\n",
       "  </thead>\n",
       "  <tbody>\n",
       "    <tr>\n",
       "      <th>0</th>\n",
       "      <td>56</td>\n",
       "      <td>85994</td>\n",
       "      <td>50587</td>\n",
       "      <td>520</td>\n",
       "      <td>80</td>\n",
       "      <td>4</td>\n",
       "      <td>15.23</td>\n",
       "      <td>36</td>\n",
       "      <td>0.44</td>\n",
       "      <td>Bachelor's</td>\n",
       "      <td>Full-time</td>\n",
       "      <td>Divorced</td>\n",
       "      <td>True</td>\n",
       "      <td>True</td>\n",
       "      <td>Other</td>\n",
       "      <td>True</td>\n",
       "      <td>0</td>\n",
       "    </tr>\n",
       "    <tr>\n",
       "      <th>1</th>\n",
       "      <td>69</td>\n",
       "      <td>50432</td>\n",
       "      <td>124440</td>\n",
       "      <td>458</td>\n",
       "      <td>15</td>\n",
       "      <td>1</td>\n",
       "      <td>4.81</td>\n",
       "      <td>60</td>\n",
       "      <td>0.68</td>\n",
       "      <td>Master's</td>\n",
       "      <td>Full-time</td>\n",
       "      <td>Married</td>\n",
       "      <td>False</td>\n",
       "      <td>False</td>\n",
       "      <td>Other</td>\n",
       "      <td>True</td>\n",
       "      <td>0</td>\n",
       "    </tr>\n",
       "    <tr>\n",
       "      <th>2</th>\n",
       "      <td>46</td>\n",
       "      <td>84208</td>\n",
       "      <td>129188</td>\n",
       "      <td>451</td>\n",
       "      <td>26</td>\n",
       "      <td>3</td>\n",
       "      <td>21.17</td>\n",
       "      <td>24</td>\n",
       "      <td>0.31</td>\n",
       "      <td>Master's</td>\n",
       "      <td>Unemployed</td>\n",
       "      <td>Divorced</td>\n",
       "      <td>True</td>\n",
       "      <td>True</td>\n",
       "      <td>Auto</td>\n",
       "      <td>False</td>\n",
       "      <td>1</td>\n",
       "    </tr>\n",
       "    <tr>\n",
       "      <th>3</th>\n",
       "      <td>32</td>\n",
       "      <td>31713</td>\n",
       "      <td>44799</td>\n",
       "      <td>743</td>\n",
       "      <td>0</td>\n",
       "      <td>3</td>\n",
       "      <td>7.07</td>\n",
       "      <td>24</td>\n",
       "      <td>0.23</td>\n",
       "      <td>High School</td>\n",
       "      <td>Full-time</td>\n",
       "      <td>Married</td>\n",
       "      <td>False</td>\n",
       "      <td>False</td>\n",
       "      <td>Business</td>\n",
       "      <td>False</td>\n",
       "      <td>0</td>\n",
       "    </tr>\n",
       "    <tr>\n",
       "      <th>4</th>\n",
       "      <td>60</td>\n",
       "      <td>20437</td>\n",
       "      <td>9139</td>\n",
       "      <td>633</td>\n",
       "      <td>8</td>\n",
       "      <td>4</td>\n",
       "      <td>6.51</td>\n",
       "      <td>48</td>\n",
       "      <td>0.73</td>\n",
       "      <td>Bachelor's</td>\n",
       "      <td>Unemployed</td>\n",
       "      <td>Divorced</td>\n",
       "      <td>False</td>\n",
       "      <td>True</td>\n",
       "      <td>Auto</td>\n",
       "      <td>False</td>\n",
       "      <td>0</td>\n",
       "    </tr>\n",
       "  </tbody>\n",
       "</table>\n",
       "</div>"
      ],
      "text/plain": [
       "   Age  Income  LoanAmount  CreditScore  MonthsEmployed  NumCreditLines  \\\n",
       "0   56   85994       50587          520              80               4   \n",
       "1   69   50432      124440          458              15               1   \n",
       "2   46   84208      129188          451              26               3   \n",
       "3   32   31713       44799          743               0               3   \n",
       "4   60   20437        9139          633               8               4   \n",
       "\n",
       "   InterestRate  LoanTerm  DTIRatio    Education EmploymentType MaritalStatus  \\\n",
       "0         15.23        36      0.44   Bachelor's      Full-time      Divorced   \n",
       "1          4.81        60      0.68     Master's      Full-time       Married   \n",
       "2         21.17        24      0.31     Master's     Unemployed      Divorced   \n",
       "3          7.07        24      0.23  High School      Full-time       Married   \n",
       "4          6.51        48      0.73   Bachelor's     Unemployed      Divorced   \n",
       "\n",
       "   HasMortgage  HasDependents LoanPurpose  HasCoSigner  Default  \n",
       "0         True           True       Other         True        0  \n",
       "1        False          False       Other         True        0  \n",
       "2         True           True        Auto        False        1  \n",
       "3        False          False    Business        False        0  \n",
       "4        False           True        Auto        False        0  "
      ]
     },
     "execution_count": 13,
     "metadata": {},
     "output_type": "execute_result"
    }
   ],
   "source": [
    "loans_df.head()"
   ]
  },
  {
   "cell_type": "markdown",
   "metadata": {},
   "source": [
    "### One-hot encoding"
   ]
  },
  {
   "cell_type": "markdown",
   "metadata": {},
   "source": [
    "There are 4 non-binary text columns remaining that need to be converted to a numerical format somehow.\n",
    "\n",
    "One-hot encoding is a standard way of doing so."
   ]
  },
  {
   "cell_type": "code",
   "execution_count": 14,
   "metadata": {},
   "outputs": [
    {
     "name": "stdout",
     "output_type": "stream",
     "text": [
      "[\"Bachelor's\" \"Master's\" 'High School' 'PhD']\n",
      "['Full-time' 'Unemployed' 'Self-employed' 'Part-time']\n",
      "['Divorced' 'Married' 'Single']\n",
      "['Other' 'Auto' 'Business' 'Home' 'Education']\n"
     ]
    }
   ],
   "source": [
    "print(loans_df['Education'].unique())\n",
    "print(loans_df['EmploymentType'].unique())\n",
    "print(loans_df['MaritalStatus'].unique())\n",
    "print(loans_df['LoanPurpose'].unique())"
   ]
  },
  {
   "cell_type": "code",
   "execution_count": 15,
   "metadata": {},
   "outputs": [
    {
     "name": "stdout",
     "output_type": "stream",
     "text": [
      "['Age' 'Income' 'LoanAmount' 'CreditScore' 'MonthsEmployed'\n",
      " 'NumCreditLines' 'InterestRate' 'LoanTerm' 'DTIRatio' 'EmploymentType'\n",
      " 'MaritalStatus' 'HasMortgage' 'HasDependents' 'LoanPurpose' 'HasCoSigner'\n",
      " 'Default' \"Education_Bachelor's\" 'Education_High School'\n",
      " \"Education_Master's\" 'Education_PhD']\n"
     ]
    },
    {
     "data": {
      "text/html": [
       "<div>\n",
       "<style scoped>\n",
       "    .dataframe tbody tr th:only-of-type {\n",
       "        vertical-align: middle;\n",
       "    }\n",
       "\n",
       "    .dataframe tbody tr th {\n",
       "        vertical-align: top;\n",
       "    }\n",
       "\n",
       "    .dataframe thead th {\n",
       "        text-align: right;\n",
       "    }\n",
       "</style>\n",
       "<table border=\"1\" class=\"dataframe\">\n",
       "  <thead>\n",
       "    <tr style=\"text-align: right;\">\n",
       "      <th></th>\n",
       "      <th>Age</th>\n",
       "      <th>Income</th>\n",
       "      <th>LoanAmount</th>\n",
       "      <th>CreditScore</th>\n",
       "      <th>MonthsEmployed</th>\n",
       "      <th>NumCreditLines</th>\n",
       "      <th>InterestRate</th>\n",
       "      <th>LoanTerm</th>\n",
       "      <th>DTIRatio</th>\n",
       "      <th>EmploymentType</th>\n",
       "      <th>MaritalStatus</th>\n",
       "      <th>HasMortgage</th>\n",
       "      <th>HasDependents</th>\n",
       "      <th>LoanPurpose</th>\n",
       "      <th>HasCoSigner</th>\n",
       "      <th>Default</th>\n",
       "      <th>Education_Bachelor's</th>\n",
       "      <th>Education_High School</th>\n",
       "      <th>Education_Master's</th>\n",
       "      <th>Education_PhD</th>\n",
       "    </tr>\n",
       "  </thead>\n",
       "  <tbody>\n",
       "    <tr>\n",
       "      <th>0</th>\n",
       "      <td>56</td>\n",
       "      <td>85994</td>\n",
       "      <td>50587</td>\n",
       "      <td>520</td>\n",
       "      <td>80</td>\n",
       "      <td>4</td>\n",
       "      <td>15.23</td>\n",
       "      <td>36</td>\n",
       "      <td>0.44</td>\n",
       "      <td>Full-time</td>\n",
       "      <td>Divorced</td>\n",
       "      <td>True</td>\n",
       "      <td>True</td>\n",
       "      <td>Other</td>\n",
       "      <td>True</td>\n",
       "      <td>0</td>\n",
       "      <td>True</td>\n",
       "      <td>False</td>\n",
       "      <td>False</td>\n",
       "      <td>False</td>\n",
       "    </tr>\n",
       "    <tr>\n",
       "      <th>1</th>\n",
       "      <td>69</td>\n",
       "      <td>50432</td>\n",
       "      <td>124440</td>\n",
       "      <td>458</td>\n",
       "      <td>15</td>\n",
       "      <td>1</td>\n",
       "      <td>4.81</td>\n",
       "      <td>60</td>\n",
       "      <td>0.68</td>\n",
       "      <td>Full-time</td>\n",
       "      <td>Married</td>\n",
       "      <td>False</td>\n",
       "      <td>False</td>\n",
       "      <td>Other</td>\n",
       "      <td>True</td>\n",
       "      <td>0</td>\n",
       "      <td>False</td>\n",
       "      <td>False</td>\n",
       "      <td>True</td>\n",
       "      <td>False</td>\n",
       "    </tr>\n",
       "    <tr>\n",
       "      <th>2</th>\n",
       "      <td>46</td>\n",
       "      <td>84208</td>\n",
       "      <td>129188</td>\n",
       "      <td>451</td>\n",
       "      <td>26</td>\n",
       "      <td>3</td>\n",
       "      <td>21.17</td>\n",
       "      <td>24</td>\n",
       "      <td>0.31</td>\n",
       "      <td>Unemployed</td>\n",
       "      <td>Divorced</td>\n",
       "      <td>True</td>\n",
       "      <td>True</td>\n",
       "      <td>Auto</td>\n",
       "      <td>False</td>\n",
       "      <td>1</td>\n",
       "      <td>False</td>\n",
       "      <td>False</td>\n",
       "      <td>True</td>\n",
       "      <td>False</td>\n",
       "    </tr>\n",
       "    <tr>\n",
       "      <th>3</th>\n",
       "      <td>32</td>\n",
       "      <td>31713</td>\n",
       "      <td>44799</td>\n",
       "      <td>743</td>\n",
       "      <td>0</td>\n",
       "      <td>3</td>\n",
       "      <td>7.07</td>\n",
       "      <td>24</td>\n",
       "      <td>0.23</td>\n",
       "      <td>Full-time</td>\n",
       "      <td>Married</td>\n",
       "      <td>False</td>\n",
       "      <td>False</td>\n",
       "      <td>Business</td>\n",
       "      <td>False</td>\n",
       "      <td>0</td>\n",
       "      <td>False</td>\n",
       "      <td>True</td>\n",
       "      <td>False</td>\n",
       "      <td>False</td>\n",
       "    </tr>\n",
       "    <tr>\n",
       "      <th>4</th>\n",
       "      <td>60</td>\n",
       "      <td>20437</td>\n",
       "      <td>9139</td>\n",
       "      <td>633</td>\n",
       "      <td>8</td>\n",
       "      <td>4</td>\n",
       "      <td>6.51</td>\n",
       "      <td>48</td>\n",
       "      <td>0.73</td>\n",
       "      <td>Unemployed</td>\n",
       "      <td>Divorced</td>\n",
       "      <td>False</td>\n",
       "      <td>True</td>\n",
       "      <td>Auto</td>\n",
       "      <td>False</td>\n",
       "      <td>0</td>\n",
       "      <td>True</td>\n",
       "      <td>False</td>\n",
       "      <td>False</td>\n",
       "      <td>False</td>\n",
       "    </tr>\n",
       "  </tbody>\n",
       "</table>\n",
       "</div>"
      ],
      "text/plain": [
       "   Age  Income  LoanAmount  CreditScore  MonthsEmployed  NumCreditLines  \\\n",
       "0   56   85994       50587          520              80               4   \n",
       "1   69   50432      124440          458              15               1   \n",
       "2   46   84208      129188          451              26               3   \n",
       "3   32   31713       44799          743               0               3   \n",
       "4   60   20437        9139          633               8               4   \n",
       "\n",
       "   InterestRate  LoanTerm  DTIRatio EmploymentType MaritalStatus  HasMortgage  \\\n",
       "0         15.23        36      0.44      Full-time      Divorced         True   \n",
       "1          4.81        60      0.68      Full-time       Married        False   \n",
       "2         21.17        24      0.31     Unemployed      Divorced         True   \n",
       "3          7.07        24      0.23      Full-time       Married        False   \n",
       "4          6.51        48      0.73     Unemployed      Divorced        False   \n",
       "\n",
       "   HasDependents LoanPurpose  HasCoSigner  Default  Education_Bachelor's  \\\n",
       "0           True       Other         True        0                  True   \n",
       "1          False       Other         True        0                 False   \n",
       "2           True        Auto        False        1                 False   \n",
       "3          False    Business        False        0                 False   \n",
       "4           True        Auto        False        0                  True   \n",
       "\n",
       "   Education_High School  Education_Master's  Education_PhD  \n",
       "0                  False               False          False  \n",
       "1                  False                True          False  \n",
       "2                  False                True          False  \n",
       "3                   True               False          False  \n",
       "4                  False               False          False  "
      ]
     },
     "execution_count": 15,
     "metadata": {},
     "output_type": "execute_result"
    }
   ],
   "source": [
    "# Demonstration of one-hot encoding on the Education column\n",
    "temp_df = pd.get_dummies(data = loans_df, columns=['Education'])\n",
    "\n",
    "print(temp_df.columns.values)\n",
    "\n",
    "temp_df.head()\n"
   ]
  },
  {
   "cell_type": "code",
   "execution_count": 16,
   "metadata": {},
   "outputs": [],
   "source": [
    "# We'll run it on all 4 columns:\n",
    "loans_df = pd.get_dummies(data = loans_df, columns=['Education', 'EmploymentType', 'MaritalStatus', 'LoanPurpose'])"
   ]
  },
  {
   "cell_type": "code",
   "execution_count": 17,
   "metadata": {},
   "outputs": [
    {
     "name": "stdout",
     "output_type": "stream",
     "text": [
      "<class 'pandas.core.frame.DataFrame'>\n",
      "RangeIndex: 255347 entries, 0 to 255346\n",
      "Data columns (total 29 columns):\n",
      " #   Column                        Non-Null Count   Dtype  \n",
      "---  ------                        --------------   -----  \n",
      " 0   Age                           255347 non-null  int64  \n",
      " 1   Income                        255347 non-null  int64  \n",
      " 2   LoanAmount                    255347 non-null  int64  \n",
      " 3   CreditScore                   255347 non-null  int64  \n",
      " 4   MonthsEmployed                255347 non-null  int64  \n",
      " 5   NumCreditLines                255347 non-null  int64  \n",
      " 6   InterestRate                  255347 non-null  float64\n",
      " 7   LoanTerm                      255347 non-null  int64  \n",
      " 8   DTIRatio                      255347 non-null  float64\n",
      " 9   HasMortgage                   255347 non-null  bool   \n",
      " 10  HasDependents                 255347 non-null  bool   \n",
      " 11  HasCoSigner                   255347 non-null  bool   \n",
      " 12  Default                       255347 non-null  int64  \n",
      " 13  Education_Bachelor's          255347 non-null  bool   \n",
      " 14  Education_High School         255347 non-null  bool   \n",
      " 15  Education_Master's            255347 non-null  bool   \n",
      " 16  Education_PhD                 255347 non-null  bool   \n",
      " 17  EmploymentType_Full-time      255347 non-null  bool   \n",
      " 18  EmploymentType_Part-time      255347 non-null  bool   \n",
      " 19  EmploymentType_Self-employed  255347 non-null  bool   \n",
      " 20  EmploymentType_Unemployed     255347 non-null  bool   \n",
      " 21  MaritalStatus_Divorced        255347 non-null  bool   \n",
      " 22  MaritalStatus_Married         255347 non-null  bool   \n",
      " 23  MaritalStatus_Single          255347 non-null  bool   \n",
      " 24  LoanPurpose_Auto              255347 non-null  bool   \n",
      " 25  LoanPurpose_Business          255347 non-null  bool   \n",
      " 26  LoanPurpose_Education         255347 non-null  bool   \n",
      " 27  LoanPurpose_Home              255347 non-null  bool   \n",
      " 28  LoanPurpose_Other             255347 non-null  bool   \n",
      "dtypes: bool(19), float64(2), int64(8)\n",
      "memory usage: 24.1 MB\n"
     ]
    }
   ],
   "source": [
    "# Everything is now a bool, int or float\n",
    "loans_df.info()"
   ]
  },
  {
   "cell_type": "markdown",
   "metadata": {},
   "source": [
    "### Splitting columns into Y,X"
   ]
  },
  {
   "cell_type": "code",
   "execution_count": 18,
   "metadata": {},
   "outputs": [],
   "source": [
    "# Split data into the labels Y and predictors X\n",
    "\n",
    "# What we want to predict\n",
    "Y = loans_df['Default']\n",
    "\n",
    "# Everything else\n",
    "X = loans_df.drop(columns=['Default'], axis=1)\n"
   ]
  },
  {
   "cell_type": "code",
   "execution_count": 19,
   "metadata": {},
   "outputs": [
    {
     "name": "stdout",
     "output_type": "stream",
     "text": [
      "(255347,)\n",
      "(255347, 28)\n"
     ]
    }
   ],
   "source": [
    "print(Y.shape)\n",
    "print(X.shape)"
   ]
  },
  {
   "cell_type": "markdown",
   "metadata": {},
   "source": [
    "### Splitting rows into training & test samples"
   ]
  },
  {
   "cell_type": "code",
   "execution_count": 21,
   "metadata": {},
   "outputs": [],
   "source": [
    "from sklearn.model_selection import train_test_split\n",
    "\n",
    "# Split the data into training and test/holdout/out-of-sample sets\n",
    "train_X, test_X, train_Y, test_Y = train_test_split(X, Y, random_state=42)"
   ]
  },
  {
   "cell_type": "code",
   "execution_count": 22,
   "metadata": {},
   "outputs": [
    {
     "name": "stdout",
     "output_type": "stream",
     "text": [
      "(191510,)\n",
      "(191510, 28)\n"
     ]
    }
   ],
   "source": [
    "print(train_Y.shape)\n",
    "print(train_X.shape)"
   ]
  },
  {
   "cell_type": "code",
   "execution_count": 23,
   "metadata": {},
   "outputs": [
    {
     "name": "stdout",
     "output_type": "stream",
     "text": [
      "(63837,)\n",
      "(63837, 28)\n"
     ]
    }
   ],
   "source": [
    "print(test_Y.shape)\n",
    "print(test_X.shape)"
   ]
  },
  {
   "cell_type": "markdown",
   "metadata": {},
   "source": [
    "## Training and evaluating a RandomForestClassifier"
   ]
  },
  {
   "cell_type": "markdown",
   "metadata": {},
   "source": [
    "### Training on the training data"
   ]
  },
  {
   "cell_type": "code",
   "execution_count": 34,
   "metadata": {},
   "outputs": [
    {
     "data": {
      "text/html": [
       "<style>#sk-container-id-2 {color: black;background-color: white;}#sk-container-id-2 pre{padding: 0;}#sk-container-id-2 div.sk-toggleable {background-color: white;}#sk-container-id-2 label.sk-toggleable__label {cursor: pointer;display: block;width: 100%;margin-bottom: 0;padding: 0.3em;box-sizing: border-box;text-align: center;}#sk-container-id-2 label.sk-toggleable__label-arrow:before {content: \"▸\";float: left;margin-right: 0.25em;color: #696969;}#sk-container-id-2 label.sk-toggleable__label-arrow:hover:before {color: black;}#sk-container-id-2 div.sk-estimator:hover label.sk-toggleable__label-arrow:before {color: black;}#sk-container-id-2 div.sk-toggleable__content {max-height: 0;max-width: 0;overflow: hidden;text-align: left;background-color: #f0f8ff;}#sk-container-id-2 div.sk-toggleable__content pre {margin: 0.2em;color: black;border-radius: 0.25em;background-color: #f0f8ff;}#sk-container-id-2 input.sk-toggleable__control:checked~div.sk-toggleable__content {max-height: 200px;max-width: 100%;overflow: auto;}#sk-container-id-2 input.sk-toggleable__control:checked~label.sk-toggleable__label-arrow:before {content: \"▾\";}#sk-container-id-2 div.sk-estimator input.sk-toggleable__control:checked~label.sk-toggleable__label {background-color: #d4ebff;}#sk-container-id-2 div.sk-label input.sk-toggleable__control:checked~label.sk-toggleable__label {background-color: #d4ebff;}#sk-container-id-2 input.sk-hidden--visually {border: 0;clip: rect(1px 1px 1px 1px);clip: rect(1px, 1px, 1px, 1px);height: 1px;margin: -1px;overflow: hidden;padding: 0;position: absolute;width: 1px;}#sk-container-id-2 div.sk-estimator {font-family: monospace;background-color: #f0f8ff;border: 1px dotted black;border-radius: 0.25em;box-sizing: border-box;margin-bottom: 0.5em;}#sk-container-id-2 div.sk-estimator:hover {background-color: #d4ebff;}#sk-container-id-2 div.sk-parallel-item::after {content: \"\";width: 100%;border-bottom: 1px solid gray;flex-grow: 1;}#sk-container-id-2 div.sk-label:hover label.sk-toggleable__label {background-color: #d4ebff;}#sk-container-id-2 div.sk-serial::before {content: \"\";position: absolute;border-left: 1px solid gray;box-sizing: border-box;top: 0;bottom: 0;left: 50%;z-index: 0;}#sk-container-id-2 div.sk-serial {display: flex;flex-direction: column;align-items: center;background-color: white;padding-right: 0.2em;padding-left: 0.2em;position: relative;}#sk-container-id-2 div.sk-item {position: relative;z-index: 1;}#sk-container-id-2 div.sk-parallel {display: flex;align-items: stretch;justify-content: center;background-color: white;position: relative;}#sk-container-id-2 div.sk-item::before, #sk-container-id-2 div.sk-parallel-item::before {content: \"\";position: absolute;border-left: 1px solid gray;box-sizing: border-box;top: 0;bottom: 0;left: 50%;z-index: -1;}#sk-container-id-2 div.sk-parallel-item {display: flex;flex-direction: column;z-index: 1;position: relative;background-color: white;}#sk-container-id-2 div.sk-parallel-item:first-child::after {align-self: flex-end;width: 50%;}#sk-container-id-2 div.sk-parallel-item:last-child::after {align-self: flex-start;width: 50%;}#sk-container-id-2 div.sk-parallel-item:only-child::after {width: 0;}#sk-container-id-2 div.sk-dashed-wrapped {border: 1px dashed gray;margin: 0 0.4em 0.5em 0.4em;box-sizing: border-box;padding-bottom: 0.4em;background-color: white;}#sk-container-id-2 div.sk-label label {font-family: monospace;font-weight: bold;display: inline-block;line-height: 1.2em;}#sk-container-id-2 div.sk-label-container {text-align: center;}#sk-container-id-2 div.sk-container {/* jupyter's `normalize.less` sets `[hidden] { display: none; }` but bootstrap.min.css set `[hidden] { display: none !important; }` so we also need the `!important` here to be able to override the default hidden behavior on the sphinx rendered scikit-learn.org. See: https://github.com/scikit-learn/scikit-learn/issues/21755 */display: inline-block !important;position: relative;}#sk-container-id-2 div.sk-text-repr-fallback {display: none;}</style><div id=\"sk-container-id-2\" class=\"sk-top-container\"><div class=\"sk-text-repr-fallback\"><pre>RandomForestClassifier(n_estimators=10, random_state=42)</pre><b>In a Jupyter environment, please rerun this cell to show the HTML representation or trust the notebook. <br />On GitHub, the HTML representation is unable to render, please try loading this page with nbviewer.org.</b></div><div class=\"sk-container\" hidden><div class=\"sk-item\"><div class=\"sk-estimator sk-toggleable\"><input class=\"sk-toggleable__control sk-hidden--visually\" id=\"sk-estimator-id-2\" type=\"checkbox\" checked><label for=\"sk-estimator-id-2\" class=\"sk-toggleable__label sk-toggleable__label-arrow\">RandomForestClassifier</label><div class=\"sk-toggleable__content\"><pre>RandomForestClassifier(n_estimators=10, random_state=42)</pre></div></div></div></div></div>"
      ],
      "text/plain": [
       "RandomForestClassifier(n_estimators=10, random_state=42)"
      ]
     },
     "execution_count": 34,
     "metadata": {},
     "output_type": "execute_result"
    }
   ],
   "source": [
    "# Create a classifier using a RandomForest algorithm...\n",
    "model = RandomForestClassifier(random_state=42, n_estimators=10)\n",
    "\n",
    "# ... and fit it to our training data\n",
    "model.fit(train_X, train_Y)"
   ]
  },
  {
   "cell_type": "markdown",
   "metadata": {},
   "source": [
    "### Evaluating on the same training data"
   ]
  },
  {
   "cell_type": "code",
   "execution_count": 35,
   "metadata": {},
   "outputs": [
    {
     "data": {
      "text/plain": [
       "array([0, 0, 0, ..., 0, 0, 1])"
      ]
     },
     "execution_count": 35,
     "metadata": {},
     "output_type": "execute_result"
    }
   ],
   "source": [
    "# Use this trained model to generate predictions for the training data\n",
    "train_Y_pred = model.predict(train_X)\n",
    "train_Y_pred"
   ]
  },
  {
   "cell_type": "code",
   "execution_count": 36,
   "metadata": {},
   "outputs": [
    {
     "data": {
      "text/plain": [
       "array([[169270,     14],\n",
       "       [  3191,  19035]])"
      ]
     },
     "execution_count": 36,
     "metadata": {},
     "output_type": "execute_result"
    }
   ],
   "source": [
    "# How well do those predictions perform?\n",
    "confusion = confusion_matrix(y_true = train_Y, y_pred = train_Y_pred)\n",
    "confusion"
   ]
  },
  {
   "cell_type": "code",
   "execution_count": 37,
   "metadata": {},
   "outputs": [
    {
     "name": "stdout",
     "output_type": "stream",
     "text": [
      "Count of true negatives (predicted 0, true 0)  =  169270\n",
      "Count of false negatives (predicted 0, true 1)  =  3191\n",
      "Count of false positives (predicted 1, true 0)  =  14\n",
      "Count of true positives (predicted 1, true 1)  =  19035\n"
     ]
    }
   ],
   "source": [
    "true_negatives, false_positives, false_negatives, true_positives = confusion.ravel()\n",
    "\n",
    "print('Count of true negatives (predicted 0, true 0)  =  ' + str(true_negatives))\n",
    "print('Count of false negatives (predicted 0, true 1)  =  ' + str(false_negatives))\n",
    "print('Count of false positives (predicted 1, true 0)  =  ' + str(false_positives))\n",
    "print('Count of true positives (predicted 1, true 1)  =  ' + str(true_positives))"
   ]
  },
  {
   "cell_type": "code",
   "execution_count": 38,
   "metadata": {},
   "outputs": [
    {
     "data": {
      "text/plain": [
       "0.9832645814839956"
      ]
     },
     "execution_count": 38,
     "metadata": {},
     "output_type": "execute_result"
    }
   ],
   "source": [
    "# Simpler measure of classification accuracy:\n",
    "(train_Y == train_Y_pred).mean()"
   ]
  },
  {
   "cell_type": "markdown",
   "metadata": {},
   "source": [
    "### Evaluating out-of-sample on the test/holdout data"
   ]
  },
  {
   "cell_type": "code",
   "execution_count": 39,
   "metadata": {},
   "outputs": [
    {
     "data": {
      "text/plain": [
       "array([0, 0, 0, ..., 0, 0, 0])"
      ]
     },
     "execution_count": 39,
     "metadata": {},
     "output_type": "execute_result"
    }
   ],
   "source": [
    "# Use this trained model to generate predictions for the test data\n",
    "test_Y_pred = model.predict(test_X)\n",
    "test_Y_pred"
   ]
  },
  {
   "cell_type": "code",
   "execution_count": 40,
   "metadata": {},
   "outputs": [
    {
     "data": {
      "text/plain": [
       "array([[55924,   486],\n",
       "       [ 7051,   376]])"
      ]
     },
     "execution_count": 40,
     "metadata": {},
     "output_type": "execute_result"
    }
   ],
   "source": [
    "# How well do those predictions perform?\n",
    "confusion = confusion_matrix(y_true = test_Y, y_pred = test_Y_pred)\n",
    "confusion"
   ]
  },
  {
   "cell_type": "code",
   "execution_count": 41,
   "metadata": {},
   "outputs": [
    {
     "name": "stdout",
     "output_type": "stream",
     "text": [
      "Count of true negatives (predicted 0, true 0)  =  55924\n",
      "Count of false negatives (predicted 0, true 1)  =  7051\n",
      "Count of false positives (predicted 1, true 0)  =  486\n",
      "Count of true positives (predicted 1, true 1)  =  376\n"
     ]
    }
   ],
   "source": [
    "true_negatives, false_positives, false_negatives, true_positives = confusion.ravel()\n",
    "\n",
    "print('Count of true negatives (predicted 0, true 0)  =  ' + str(true_negatives))\n",
    "print('Count of false negatives (predicted 0, true 1)  =  ' + str(false_negatives))\n",
    "print('Count of false positives (predicted 1, true 0)  =  ' + str(false_positives))\n",
    "print('Count of true positives (predicted 1, true 1)  =  ' + str(true_positives))"
   ]
  },
  {
   "cell_type": "code",
   "execution_count": 42,
   "metadata": {},
   "outputs": [
    {
     "name": "stdout",
     "output_type": "stream",
     "text": [
      "Prediction accuracy rate =  0.8819336748280777\n"
     ]
    }
   ],
   "source": [
    "# Simpler measure of classification accuracy:\n",
    "print('Prediction accuracy rate = ', str((test_Y == test_Y_pred).mean()))"
   ]
  },
  {
   "cell_type": "code",
   "execution_count": 43,
   "metadata": {},
   "outputs": [
    {
     "data": {
      "text/plain": [
       "<sklearn.metrics._plot.roc_curve.RocCurveDisplay at 0x7fc6f9915850>"
      ]
     },
     "execution_count": 43,
     "metadata": {},
     "output_type": "execute_result"
    },
    {
     "data": {
      "image/png": "[encoded data removed]",
      "text/plain": [
       "<Figure size 640x480 with 1 Axes>"
      ]
     },
     "metadata": {},
     "output_type": "display_data"
    }
   ],
   "source": [
    "RocCurveDisplay.from_estimator(model, test_X, test_Y)"
   ]
  },
  {
   "cell_type": "markdown",
   "metadata": {},
   "source": [
    "### Let's try with a different set of hyperparameters"
   ]
  },
  {
   "cell_type": "code",
   "execution_count": 44,
   "metadata": {},
   "outputs": [
    {
     "name": "stdout",
     "output_type": "stream",
     "text": [
      "Prediction accuracy rate =  0.8854582765480834\n"
     ]
    },
    {
     "data": {
      "text/plain": [
       "<sklearn.metrics._plot.roc_curve.RocCurveDisplay at 0x7fc711a46d60>"
      ]
     },
     "execution_count": 44,
     "metadata": {},
     "output_type": "execute_result"
    },
    {
     "data": {
      "image/png": "[encoded data removed]",
      "text/plain": [
       "<Figure size 640x480 with 1 Axes>"
      ]
     },
     "metadata": {},
     "output_type": "display_data"
    }
   ],
   "source": [
    "# Create & fit\n",
    "model = RandomForestClassifier(random_state=42, n_estimators=100)\n",
    "model.fit(train_X, train_Y)\n",
    "\n",
    "# Evaluate on the test data\n",
    "test_Y_pred = model.predict(test_X)\n",
    "print('Prediction accuracy rate = ', str((test_Y == test_Y_pred).mean()))\n",
    "\n",
    "RocCurveDisplay.from_estimator(model, test_X, test_Y)"
   ]
  },
  {
   "cell_type": "markdown",
   "metadata": {},
   "source": [
    "Using `n_estimators=100` produces better out-of-sample results than using `n_estimators=10`.\n",
    "\n",
    "There are other hyperparameters that could be set, too. See the full list at \n",
    "https://scikit-learn.org/stable/modules/generated/sklearn.ensemble.RandomForestClassifier.html\n",
    "\n",
    "\n",
    "How about systematically picking the value of these hyperparameters? This is called \"hyperparameter tuning\", and we can do this with cross-validation. \n",
    "\n",
    "It can be computationally expensive, so I will leave cross-validation for a homework exercise later.\n"
   ]
  },
  {
   "cell_type": "markdown",
   "metadata": {},
   "source": [
    "### Explaining the most important features"
   ]
  },
  {
   "cell_type": "markdown",
   "metadata": {},
   "source": [
    "Determining the most important \"features\" (i.e. predictive variables) and how the model arrives at its predictions is an important ongoing area of research in ML. There are both model-specific and general-purpose ways of getting at both questions.\n",
    "\n",
    "The RandomForest classification algorithm has a convenient way of describing these:\n",
    "\n",
    "\n"
   ]
  },
  {
   "cell_type": "code",
   "execution_count": 45,
   "metadata": {},
   "outputs": [
    {
     "data": {
      "text/html": [
       "<div>\n",
       "<style scoped>\n",
       "    .dataframe tbody tr th:only-of-type {\n",
       "        vertical-align: middle;\n",
       "    }\n",
       "\n",
       "    .dataframe tbody tr th {\n",
       "        vertical-align: top;\n",
       "    }\n",
       "\n",
       "    .dataframe thead th {\n",
       "        text-align: right;\n",
       "    }\n",
       "</style>\n",
       "<table border=\"1\" class=\"dataframe\">\n",
       "  <thead>\n",
       "    <tr style=\"text-align: right;\">\n",
       "      <th></th>\n",
       "      <th>feature_name</th>\n",
       "      <th>feature_importance</th>\n",
       "    </tr>\n",
       "  </thead>\n",
       "  <tbody>\n",
       "    <tr>\n",
       "      <th>1</th>\n",
       "      <td>Income</td>\n",
       "      <td>0.122717</td>\n",
       "    </tr>\n",
       "    <tr>\n",
       "      <th>6</th>\n",
       "      <td>InterestRate</td>\n",
       "      <td>0.116102</td>\n",
       "    </tr>\n",
       "    <tr>\n",
       "      <th>2</th>\n",
       "      <td>LoanAmount</td>\n",
       "      <td>0.110067</td>\n",
       "    </tr>\n",
       "    <tr>\n",
       "      <th>0</th>\n",
       "      <td>Age</td>\n",
       "      <td>0.100315</td>\n",
       "    </tr>\n",
       "    <tr>\n",
       "      <th>3</th>\n",
       "      <td>CreditScore</td>\n",
       "      <td>0.096013</td>\n",
       "    </tr>\n",
       "    <tr>\n",
       "      <th>4</th>\n",
       "      <td>MonthsEmployed</td>\n",
       "      <td>0.094967</td>\n",
       "    </tr>\n",
       "    <tr>\n",
       "      <th>8</th>\n",
       "      <td>DTIRatio</td>\n",
       "      <td>0.084629</td>\n",
       "    </tr>\n",
       "    <tr>\n",
       "      <th>7</th>\n",
       "      <td>LoanTerm</td>\n",
       "      <td>0.038663</td>\n",
       "    </tr>\n",
       "    <tr>\n",
       "      <th>5</th>\n",
       "      <td>NumCreditLines</td>\n",
       "      <td>0.030601</td>\n",
       "    </tr>\n",
       "    <tr>\n",
       "      <th>9</th>\n",
       "      <td>HasMortgage</td>\n",
       "      <td>0.015047</td>\n",
       "    </tr>\n",
       "    <tr>\n",
       "      <th>10</th>\n",
       "      <td>HasDependents</td>\n",
       "      <td>0.012513</td>\n",
       "    </tr>\n",
       "    <tr>\n",
       "      <th>12</th>\n",
       "      <td>Education_Bachelor's</td>\n",
       "      <td>0.011522</td>\n",
       "    </tr>\n",
       "    <tr>\n",
       "      <th>22</th>\n",
       "      <td>MaritalStatus_Single</td>\n",
       "      <td>0.011338</td>\n",
       "    </tr>\n",
       "    <tr>\n",
       "      <th>24</th>\n",
       "      <td>LoanPurpose_Business</td>\n",
       "      <td>0.011302</td>\n",
       "    </tr>\n",
       "    <tr>\n",
       "      <th>25</th>\n",
       "      <td>LoanPurpose_Education</td>\n",
       "      <td>0.011284</td>\n",
       "    </tr>\n",
       "    <tr>\n",
       "      <th>20</th>\n",
       "      <td>MaritalStatus_Divorced</td>\n",
       "      <td>0.011199</td>\n",
       "    </tr>\n",
       "    <tr>\n",
       "      <th>13</th>\n",
       "      <td>Education_High School</td>\n",
       "      <td>0.011124</td>\n",
       "    </tr>\n",
       "    <tr>\n",
       "      <th>23</th>\n",
       "      <td>LoanPurpose_Auto</td>\n",
       "      <td>0.011113</td>\n",
       "    </tr>\n",
       "    <tr>\n",
       "      <th>27</th>\n",
       "      <td>LoanPurpose_Other</td>\n",
       "      <td>0.011093</td>\n",
       "    </tr>\n",
       "    <tr>\n",
       "      <th>11</th>\n",
       "      <td>HasCoSigner</td>\n",
       "      <td>0.010987</td>\n",
       "    </tr>\n",
       "    <tr>\n",
       "      <th>14</th>\n",
       "      <td>Education_Master's</td>\n",
       "      <td>0.010922</td>\n",
       "    </tr>\n",
       "    <tr>\n",
       "      <th>15</th>\n",
       "      <td>Education_PhD</td>\n",
       "      <td>0.010516</td>\n",
       "    </tr>\n",
       "    <tr>\n",
       "      <th>18</th>\n",
       "      <td>EmploymentType_Self-employed</td>\n",
       "      <td>0.010020</td>\n",
       "    </tr>\n",
       "    <tr>\n",
       "      <th>21</th>\n",
       "      <td>MaritalStatus_Married</td>\n",
       "      <td>0.010019</td>\n",
       "    </tr>\n",
       "    <tr>\n",
       "      <th>17</th>\n",
       "      <td>EmploymentType_Part-time</td>\n",
       "      <td>0.009923</td>\n",
       "    </tr>\n",
       "    <tr>\n",
       "      <th>26</th>\n",
       "      <td>LoanPurpose_Home</td>\n",
       "      <td>0.009583</td>\n",
       "    </tr>\n",
       "    <tr>\n",
       "      <th>19</th>\n",
       "      <td>EmploymentType_Unemployed</td>\n",
       "      <td>0.009160</td>\n",
       "    </tr>\n",
       "    <tr>\n",
       "      <th>16</th>\n",
       "      <td>EmploymentType_Full-time</td>\n",
       "      <td>0.007262</td>\n",
       "    </tr>\n",
       "  </tbody>\n",
       "</table>\n",
       "</div>"
      ],
      "text/plain": [
       "                    feature_name  feature_importance\n",
       "1                         Income            0.122717\n",
       "6                   InterestRate            0.116102\n",
       "2                     LoanAmount            0.110067\n",
       "0                            Age            0.100315\n",
       "3                    CreditScore            0.096013\n",
       "4                 MonthsEmployed            0.094967\n",
       "8                       DTIRatio            0.084629\n",
       "7                       LoanTerm            0.038663\n",
       "5                 NumCreditLines            0.030601\n",
       "9                    HasMortgage            0.015047\n",
       "10                 HasDependents            0.012513\n",
       "12          Education_Bachelor's            0.011522\n",
       "22          MaritalStatus_Single            0.011338\n",
       "24          LoanPurpose_Business            0.011302\n",
       "25         LoanPurpose_Education            0.011284\n",
       "20        MaritalStatus_Divorced            0.011199\n",
       "13         Education_High School            0.011124\n",
       "23              LoanPurpose_Auto            0.011113\n",
       "27             LoanPurpose_Other            0.011093\n",
       "11                   HasCoSigner            0.010987\n",
       "14            Education_Master's            0.010922\n",
       "15                 Education_PhD            0.010516\n",
       "18  EmploymentType_Self-employed            0.010020\n",
       "21         MaritalStatus_Married            0.010019\n",
       "17      EmploymentType_Part-time            0.009923\n",
       "26              LoanPurpose_Home            0.009583\n",
       "19     EmploymentType_Unemployed            0.009160\n",
       "16      EmploymentType_Full-time            0.007262"
      ]
     },
     "execution_count": 45,
     "metadata": {},
     "output_type": "execute_result"
    }
   ],
   "source": [
    "importances_df = pd.DataFrame({\n",
    "    'feature_name' : train_X.columns.values\n",
    "    , 'feature_importance' : model.feature_importances_\n",
    "})\n",
    "importances_df.sort_values(by='feature_importance', ascending=False)"
   ]
  },
  {
   "cell_type": "markdown",
   "metadata": {},
   "source": [
    "A few observations:\n",
    "* As you can see, we don't learn much about the direction of the effect (although we can guess, in the case of credit scores). \n",
    "* This is dependent on the RandomForest algorithm; the code above won't work for other algorithms.\n",
    "\n",
    "There is no silver bullet. In my own research, I've found [SHAP values](https://shap.readthedocs.io/en/latest/index.html) are very helpful, but it depends on the application, so you'll just have to experiment."
   ]
  },
  {
   "cell_type": "markdown",
   "metadata": {},
   "source": [
    "## Let's try another algorithm: a Linear Support Vector Machine classifier "
   ]
  },
  {
   "cell_type": "code",
   "execution_count": 46,
   "metadata": {},
   "outputs": [
    {
     "name": "stdout",
     "output_type": "stream",
     "text": [
      "Prediction accuracy rate =  0.8836568134467472\n"
     ]
    },
    {
     "name": "stderr",
     "output_type": "stream",
     "text": [
      "/opt/anaconda3/lib/python3.9/site-packages/sklearn/svm/_base.py:1225: ConvergenceWarning: Liblinear failed to converge, increase the number of iterations.\n",
      "  warnings.warn(\n"
     ]
    },
    {
     "data": {
      "text/plain": [
       "<sklearn.metrics._plot.roc_curve.RocCurveDisplay at 0x7fc721c81f10>"
      ]
     },
     "execution_count": 46,
     "metadata": {},
     "output_type": "execute_result"
    },
    {
     "data": {
      "image/png": "[encoded data removed]",
      "text/plain": [
       "<Figure size 640x480 with 1 Axes>"
      ]
     },
     "metadata": {},
     "output_type": "display_data"
    }
   ],
   "source": [
    "# Create & fit\n",
    "model = LinearSVC(random_state=42, penalty='l2')\n",
    "model.fit(train_X, train_Y)\n",
    "\n",
    "# Evaluate on the test data\n",
    "test_Y_pred = model.predict(test_X)\n",
    "print('Prediction accuracy rate = ', str((test_Y == test_Y_pred).mean()))\n",
    "\n",
    "RocCurveDisplay.from_estimator(model, test_X, test_Y)"
   ]
  },
  {
   "cell_type": "markdown",
   "metadata": {},
   "source": [
    "## Let's try scaling the data first"
   ]
  },
  {
   "cell_type": "markdown",
   "metadata": {},
   "source": [
    "Scikit-learn allows us to compose a preprocessing step (and more) followed by an ML model.\n",
    "\n",
    "Here, the preprocessing step computes the z-scores of the data (zero mean, unit variance), which often improves the performance of ML models."
   ]
  },
  {
   "cell_type": "code",
   "execution_count": 47,
   "metadata": {},
   "outputs": [
    {
     "name": "stdout",
     "output_type": "stream",
     "text": [
      "Prediction accuracy rate =  0.8836568134467472\n"
     ]
    },
    {
     "data": {
      "text/plain": [
       "<sklearn.metrics._plot.roc_curve.RocCurveDisplay at 0x7fc722d60bb0>"
      ]
     },
     "execution_count": 47,
     "metadata": {},
     "output_type": "execute_result"
    },
    {
     "data": {
      "image/png": "[encoded data removed]",
      "text/plain": [
       "<Figure size 640x480 with 1 Axes>"
      ]
     },
     "metadata": {},
     "output_type": "display_data"
    }
   ],
   "source": [
    "# \"model\" is now a \"pipeline\"\n",
    "model = make_pipeline(\n",
    "    StandardScaler(),\n",
    "    LinearSVC(random_state=42, penalty='l2')\n",
    ")\n",
    "model.fit(train_X, train_Y)\n",
    "\n",
    "# Evaluate on the test data\n",
    "test_Y_pred = model.predict(test_X)\n",
    "print('Prediction accuracy rate = ', str((test_Y == test_Y_pred).mean()))\n",
    "\n",
    "RocCurveDisplay.from_estimator(model, test_X, test_Y)"
   ]
  },
  {
   "cell_type": "markdown",
   "metadata": {},
   "source": [
    "## Cross-validation"
   ]
  },
  {
   "attachments": {},
   "cell_type": "markdown",
   "metadata": {},
   "source": [
    "Here's a schematic illustration of how cross-validation splits the data to help find a good set of hyperparameters:\n",
    "\n",
    "<img src=\"https://scikit-learn.org/stable/_images/grid_search_cross_validation.png\" />\n",
    "\n",
    "And here's some code to run it easily using scikit-learn.\n",
    "\n",
    "(Be careful if you are working with timeseries data, or data with a time dimension: you should take that into account, as in this example: https://otexts.com/fpp3/tscv.html)\n"
   ]
  },
  {
   "cell_type": "code",
   "execution_count": null,
   "metadata": {},
   "outputs": [],
   "source": [
    "# 5-fold cross validation for a RandomForestClassifier\n",
    "if False:\n",
    "\n",
    "    # Step 1: run cross-validation on the training data\n",
    "    # This involves splitting the data 5 times and fitting 4*3=12 models on each split (\"fold\"), \n",
    "    # for a total of 5*12 = 60 fits. This will take some time!\n",
    "    # Then it will pick the model-hyperparameter combination that performs best on average across the 5 splits, and refit to the entire training data.\n",
    "    # This will take some time!\n",
    "    number_of_cross_validation_splits = 5\n",
    "    possible_hyperparameter_values = {\n",
    "        'n_estimators': [20, 50, 100, 200]\n",
    "        , 'max_depth': [5, 7, 9]\n",
    "    }\n",
    "    cv_model = GridSearchCV(RandomForestClassifier, possible_hyperparameter_values, cv=number_of_cross_validation_splits)\n",
    "    cv_model.fit(train_X, train_Y)\n",
    "    \n",
    "    # Step 2: print out the optimal parameter values\n",
    "    print(cv_model.best_params_) \n",
    "    # Similarly you can inspect the grid scores using cv_model.cv_results_\n",
    "    \n",
    "    # Step 3: Evaluate optimal model on the test data\n",
    "    test_Y_pred = cv_model.predict(test_X)\n",
    "    print('Prediction accuracy rate = ', str((test_Y == test_Y_pred).mean()))\n",
    "    \n",
    "    RocCurveDisplay.from_estimator(cv_model, test_X, test_Y)\n"
   ]
  },
  {
   "cell_type": "markdown",
   "metadata": {},
   "source": [
    "---"
   ]
  },
  {
   "cell_type": "markdown",
   "metadata": {},
   "source": [
    "# OLS Regression using statsmodel"
   ]
  },
  {
   "cell_type": "code",
   "execution_count": 48,
   "metadata": {
    "ExecuteTime": {
     "end_time": "2021-08-22T15:06:26.822549Z",
     "start_time": "2021-08-22T15:06:26.367159Z"
    }
   },
   "outputs": [],
   "source": [
    "howell_df = pd.read_csv('Howell1.csv', delimiter=';')"
   ]
  },
  {
   "cell_type": "markdown",
   "metadata": {},
   "source": [
    "This dataset consists of measurements of the Khosan people:\n",
    "* Sex\n",
    "* Age (years)\n",
    "* Weight (kg)\n",
    "* Total height (cm)"
   ]
  },
  {
   "cell_type": "code",
   "execution_count": 49,
   "metadata": {
    "ExecuteTime": {
     "end_time": "2021-08-22T15:06:26.837205Z",
     "start_time": "2021-08-22T15:06:26.824712Z"
    }
   },
   "outputs": [],
   "source": [
    "# Start by looking at adults\n",
    "howell_adults_df = howell_df[howell_df['age'] >= 18] "
   ]
  },
  {
   "cell_type": "code",
   "execution_count": 50,
   "metadata": {
    "ExecuteTime": {
     "end_time": "2021-08-22T15:06:26.852278Z",
     "start_time": "2021-08-22T15:06:26.839081Z"
    }
   },
   "outputs": [
    {
     "data": {
      "text/html": [
       "<div>\n",
       "<style scoped>\n",
       "    .dataframe tbody tr th:only-of-type {\n",
       "        vertical-align: middle;\n",
       "    }\n",
       "\n",
       "    .dataframe tbody tr th {\n",
       "        vertical-align: top;\n",
       "    }\n",
       "\n",
       "    .dataframe thead th {\n",
       "        text-align: right;\n",
       "    }\n",
       "</style>\n",
       "<table border=\"1\" class=\"dataframe\">\n",
       "  <thead>\n",
       "    <tr style=\"text-align: right;\">\n",
       "      <th></th>\n",
       "      <th>height</th>\n",
       "      <th>weight</th>\n",
       "      <th>age</th>\n",
       "      <th>male</th>\n",
       "    </tr>\n",
       "  </thead>\n",
       "  <tbody>\n",
       "    <tr>\n",
       "      <th>0</th>\n",
       "      <td>151.765</td>\n",
       "      <td>47.825606</td>\n",
       "      <td>63.0</td>\n",
       "      <td>1</td>\n",
       "    </tr>\n",
       "    <tr>\n",
       "      <th>1</th>\n",
       "      <td>139.700</td>\n",
       "      <td>36.485807</td>\n",
       "      <td>63.0</td>\n",
       "      <td>0</td>\n",
       "    </tr>\n",
       "    <tr>\n",
       "      <th>2</th>\n",
       "      <td>136.525</td>\n",
       "      <td>31.864838</td>\n",
       "      <td>65.0</td>\n",
       "      <td>0</td>\n",
       "    </tr>\n",
       "    <tr>\n",
       "      <th>3</th>\n",
       "      <td>156.845</td>\n",
       "      <td>53.041914</td>\n",
       "      <td>41.0</td>\n",
       "      <td>1</td>\n",
       "    </tr>\n",
       "    <tr>\n",
       "      <th>4</th>\n",
       "      <td>145.415</td>\n",
       "      <td>41.276872</td>\n",
       "      <td>51.0</td>\n",
       "      <td>0</td>\n",
       "    </tr>\n",
       "    <tr>\n",
       "      <th>...</th>\n",
       "      <td>...</td>\n",
       "      <td>...</td>\n",
       "      <td>...</td>\n",
       "      <td>...</td>\n",
       "    </tr>\n",
       "    <tr>\n",
       "      <th>534</th>\n",
       "      <td>162.560</td>\n",
       "      <td>47.031821</td>\n",
       "      <td>27.0</td>\n",
       "      <td>0</td>\n",
       "    </tr>\n",
       "    <tr>\n",
       "      <th>537</th>\n",
       "      <td>142.875</td>\n",
       "      <td>34.246196</td>\n",
       "      <td>31.0</td>\n",
       "      <td>0</td>\n",
       "    </tr>\n",
       "    <tr>\n",
       "      <th>540</th>\n",
       "      <td>162.560</td>\n",
       "      <td>52.163080</td>\n",
       "      <td>31.0</td>\n",
       "      <td>1</td>\n",
       "    </tr>\n",
       "    <tr>\n",
       "      <th>541</th>\n",
       "      <td>156.210</td>\n",
       "      <td>54.062497</td>\n",
       "      <td>21.0</td>\n",
       "      <td>0</td>\n",
       "    </tr>\n",
       "    <tr>\n",
       "      <th>543</th>\n",
       "      <td>158.750</td>\n",
       "      <td>52.531624</td>\n",
       "      <td>68.0</td>\n",
       "      <td>1</td>\n",
       "    </tr>\n",
       "  </tbody>\n",
       "</table>\n",
       "<p>352 rows × 4 columns</p>\n",
       "</div>"
      ],
      "text/plain": [
       "      height     weight   age  male\n",
       "0    151.765  47.825606  63.0     1\n",
       "1    139.700  36.485807  63.0     0\n",
       "2    136.525  31.864838  65.0     0\n",
       "3    156.845  53.041914  41.0     1\n",
       "4    145.415  41.276872  51.0     0\n",
       "..       ...        ...   ...   ...\n",
       "534  162.560  47.031821  27.0     0\n",
       "537  142.875  34.246196  31.0     0\n",
       "540  162.560  52.163080  31.0     1\n",
       "541  156.210  54.062497  21.0     0\n",
       "543  158.750  52.531624  68.0     1\n",
       "\n",
       "[352 rows x 4 columns]"
      ]
     },
     "execution_count": 50,
     "metadata": {},
     "output_type": "execute_result"
    }
   ],
   "source": [
    "howell_adults_df"
   ]
  },
  {
   "cell_type": "code",
   "execution_count": 51,
   "metadata": {},
   "outputs": [
    {
     "data": {
      "text/html": [
       "<div>\n",
       "<style scoped>\n",
       "    .dataframe tbody tr th:only-of-type {\n",
       "        vertical-align: middle;\n",
       "    }\n",
       "\n",
       "    .dataframe tbody tr th {\n",
       "        vertical-align: top;\n",
       "    }\n",
       "\n",
       "    .dataframe thead th {\n",
       "        text-align: right;\n",
       "    }\n",
       "</style>\n",
       "<table border=\"1\" class=\"dataframe\">\n",
       "  <thead>\n",
       "    <tr style=\"text-align: right;\">\n",
       "      <th></th>\n",
       "      <th>height</th>\n",
       "      <th>weight</th>\n",
       "      <th>age</th>\n",
       "      <th>male</th>\n",
       "    </tr>\n",
       "  </thead>\n",
       "  <tbody>\n",
       "    <tr>\n",
       "      <th>count</th>\n",
       "      <td>352.000000</td>\n",
       "      <td>352.000000</td>\n",
       "      <td>352.000000</td>\n",
       "      <td>352.000000</td>\n",
       "    </tr>\n",
       "    <tr>\n",
       "      <th>mean</th>\n",
       "      <td>154.597093</td>\n",
       "      <td>44.990486</td>\n",
       "      <td>41.138494</td>\n",
       "      <td>0.468750</td>\n",
       "    </tr>\n",
       "    <tr>\n",
       "      <th>std</th>\n",
       "      <td>7.742332</td>\n",
       "      <td>6.456708</td>\n",
       "      <td>15.967855</td>\n",
       "      <td>0.499733</td>\n",
       "    </tr>\n",
       "    <tr>\n",
       "      <th>min</th>\n",
       "      <td>136.525000</td>\n",
       "      <td>31.071052</td>\n",
       "      <td>18.000000</td>\n",
       "      <td>0.000000</td>\n",
       "    </tr>\n",
       "    <tr>\n",
       "      <th>25%</th>\n",
       "      <td>148.590000</td>\n",
       "      <td>40.256290</td>\n",
       "      <td>28.000000</td>\n",
       "      <td>0.000000</td>\n",
       "    </tr>\n",
       "    <tr>\n",
       "      <th>50%</th>\n",
       "      <td>154.305000</td>\n",
       "      <td>44.792210</td>\n",
       "      <td>39.000000</td>\n",
       "      <td>0.000000</td>\n",
       "    </tr>\n",
       "    <tr>\n",
       "      <th>75%</th>\n",
       "      <td>160.655000</td>\n",
       "      <td>49.292693</td>\n",
       "      <td>51.000000</td>\n",
       "      <td>1.000000</td>\n",
       "    </tr>\n",
       "    <tr>\n",
       "      <th>max</th>\n",
       "      <td>179.070000</td>\n",
       "      <td>62.992589</td>\n",
       "      <td>88.000000</td>\n",
       "      <td>1.000000</td>\n",
       "    </tr>\n",
       "  </tbody>\n",
       "</table>\n",
       "</div>"
      ],
      "text/plain": [
       "           height      weight         age        male\n",
       "count  352.000000  352.000000  352.000000  352.000000\n",
       "mean   154.597093   44.990486   41.138494    0.468750\n",
       "std      7.742332    6.456708   15.967855    0.499733\n",
       "min    136.525000   31.071052   18.000000    0.000000\n",
       "25%    148.590000   40.256290   28.000000    0.000000\n",
       "50%    154.305000   44.792210   39.000000    0.000000\n",
       "75%    160.655000   49.292693   51.000000    1.000000\n",
       "max    179.070000   62.992589   88.000000    1.000000"
      ]
     },
     "execution_count": 51,
     "metadata": {},
     "output_type": "execute_result"
    }
   ],
   "source": [
    "howell_adults_df.describe()"
   ]
  },
  {
   "cell_type": "code",
   "execution_count": 52,
   "metadata": {
    "ExecuteTime": {
     "end_time": "2021-08-22T15:06:27.217323Z",
     "start_time": "2021-08-22T15:06:26.853835Z"
    }
   },
   "outputs": [
    {
     "data": {
      "text/plain": [
       "<Axes: xlabel='weight', ylabel='height'>"
      ]
     },
     "execution_count": 52,
     "metadata": {},
     "output_type": "execute_result"
    },
    {
     "data": {
      "image/png": "[encoded data removed]",
      "text/plain": [
       "<Figure size 640x480 with 1 Axes>"
      ]
     },
     "metadata": {},
     "output_type": "display_data"
    }
   ],
   "source": [
    "sns.regplot(data=howell_adults_df, x='weight', y='height')"
   ]
  },
  {
   "cell_type": "markdown",
   "metadata": {},
   "source": [
    "## Running a univariate regression"
   ]
  },
  {
   "cell_type": "markdown",
   "metadata": {},
   "source": [
    "The goal is to estimate the intercept $\\alpha$ and coefficient $\\beta$:\n",
    "$$ \\text{Height}_i = \\alpha + \\beta \\times \\text{Weight}_i + \\varepsilon_i $$ "
   ]
  },
  {
   "cell_type": "code",
   "execution_count": 53,
   "metadata": {},
   "outputs": [],
   "source": [
    "model = smf.ols(formula=\"height ~ weight\", data=howell_adults_df)"
   ]
  },
  {
   "cell_type": "code",
   "execution_count": 54,
   "metadata": {},
   "outputs": [],
   "source": [
    "result = model.fit()"
   ]
  },
  {
   "cell_type": "code",
   "execution_count": 55,
   "metadata": {},
   "outputs": [
    {
     "name": "stdout",
     "output_type": "stream",
     "text": [
      "                            OLS Regression Results                            \n",
      "==============================================================================\n",
      "Dep. Variable:                 height   R-squared:                       0.570\n",
      "Model:                            OLS   Adj. R-squared:                  0.568\n",
      "Method:                 Least Squares   F-statistic:                     463.3\n",
      "Date:                Fri, 16 Aug 2024   Prob (F-statistic):           4.68e-66\n",
      "Time:                        11:04:49   Log-Likelihood:                -1071.0\n",
      "No. Observations:                 352   AIC:                             2146.\n",
      "Df Residuals:                     350   BIC:                             2154.\n",
      "Df Model:                           1                                         \n",
      "Covariance Type:            nonrobust                                         \n",
      "==============================================================================\n",
      "                 coef    std err          t      P>|t|      [0.025      0.975]\n",
      "------------------------------------------------------------------------------\n",
      "Intercept    113.8794      1.911     59.589      0.000     110.121     117.638\n",
      "weight         0.9050      0.042     21.524      0.000       0.822       0.988\n",
      "==============================================================================\n",
      "Omnibus:                        5.258   Durbin-Watson:                   1.959\n",
      "Prob(Omnibus):                  0.072   Jarque-Bera (JB):                5.729\n",
      "Skew:                          -0.180   Prob(JB):                       0.0570\n",
      "Kurtosis:                       3.511   Cond. No.                         321.\n",
      "==============================================================================\n",
      "\n",
      "Notes:\n",
      "[1] Standard Errors assume that the covariance matrix of the errors is correctly specified.\n"
     ]
    }
   ],
   "source": [
    "print(result.summary())"
   ]
  },
  {
   "cell_type": "markdown",
   "metadata": {},
   "source": [
    "## Running a multivariate regression"
   ]
  },
  {
   "cell_type": "markdown",
   "metadata": {},
   "source": [
    "More than one variable may be associated with height, so we can estimate multiple coefficients $\\beta_1, \\beta_2, \\beta_3$ to understand variable-specific associations (assuming all the other variables do not vary). Any variables not included in this regression are not taken into account.\n",
    "\n",
    "Note that this does not necessarily tell us anything about causality: does increasing your weight cause your height to increase? Also, note that Male is an indicator/dummy variable that takes the values 0 or 1.\n",
    "\n",
    "$$ \\text{Height}_i = \\alpha + \\beta_1 \\times \\text{Weight}_i + \\beta_2 \\times \\text{Age}_i + \\beta_3 \\times \\text{Male}_i + \\varepsilon_i $$ "
   ]
  },
  {
   "cell_type": "code",
   "execution_count": 56,
   "metadata": {
    "ExecuteTime": {
     "end_time": "2021-08-22T15:06:27.229449Z",
     "start_time": "2021-08-22T15:06:27.219058Z"
    }
   },
   "outputs": [
    {
     "name": "stdout",
     "output_type": "stream",
     "text": [
      "                            OLS Regression Results                            \n",
      "==============================================================================\n",
      "Dep. Variable:                 height   R-squared:                       0.889\n",
      "Model:                            OLS   Adj. R-squared:                  0.888\n",
      "Method:                 Least Squares   F-statistic:                     1441.\n",
      "Date:                Fri, 16 Aug 2024   Prob (F-statistic):          3.16e-257\n",
      "Time:                        11:14:42   Log-Likelihood:                -1978.5\n",
      "No. Observations:                 544   AIC:                             3965.\n",
      "Df Residuals:                     540   BIC:                             3982.\n",
      "Df Model:                           3                                         \n",
      "Covariance Type:            nonrobust                                         \n",
      "==============================================================================\n",
      "                 coef    std err          t      P>|t|      [0.025      0.975]\n",
      "------------------------------------------------------------------------------\n",
      "Intercept     75.9424      1.065     71.327      0.000      73.851      78.034\n",
      "weight         1.6563      0.037     44.289      0.000       1.583       1.730\n",
      "age            0.1125      0.026      4.291      0.000       0.061       0.164\n",
      "male           0.0793      0.809      0.098      0.922      -1.511       1.669\n",
      "==============================================================================\n",
      "Omnibus:                       22.636   Durbin-Watson:                   1.784\n",
      "Prob(Omnibus):                  0.000   Jarque-Bera (JB):               24.342\n",
      "Skew:                          -0.509   Prob(JB):                     5.18e-06\n",
      "Kurtosis:                       3.198   Cond. No.                         142.\n",
      "==============================================================================\n",
      "\n",
      "Notes:\n",
      "[1] Standard Errors assume that the covariance matrix of the errors is correctly specified.\n"
     ]
    }
   ],
   "source": [
    "model = smf.ols(formula=\"height ~ weight + age + male\", data=howell_df)\n",
    "result = model.fit()\n",
    "print(result.summary())"
   ]
  },
  {
   "cell_type": "markdown",
   "metadata": {},
   "source": [
    "## Worried about heteroscedasticity? "
   ]
  },
  {
   "cell_type": "markdown",
   "metadata": {},
   "source": [
    "Heteroscedasticity is a major concern in econometrics: `statsmodels` allows you to use different methods to compute your standard errors to deal with this:"
   ]
  },
  {
   "cell_type": "code",
   "execution_count": 57,
   "metadata": {
    "ExecuteTime": {
     "end_time": "2021-08-22T15:06:27.255890Z",
     "start_time": "2021-08-22T15:06:27.252130Z"
    }
   },
   "outputs": [],
   "source": [
    "rob_result = model.fit().get_robustcov_results(cov_type='HC3')"
   ]
  },
  {
   "cell_type": "code",
   "execution_count": 58,
   "metadata": {
    "ExecuteTime": {
     "end_time": "2021-08-22T15:06:27.272553Z",
     "start_time": "2021-08-22T15:06:27.258073Z"
    },
    "scrolled": true
   },
   "outputs": [
    {
     "name": "stdout",
     "output_type": "stream",
     "text": [
      "                            OLS Regression Results                            \n",
      "==============================================================================\n",
      "Dep. Variable:                 height   R-squared:                       0.889\n",
      "Model:                            OLS   Adj. R-squared:                  0.888\n",
      "Method:                 Least Squares   F-statistic:                     812.0\n",
      "Date:                Fri, 16 Aug 2024   Prob (F-statistic):          1.23e-199\n",
      "Time:                        11:20:20   Log-Likelihood:                -1978.5\n",
      "No. Observations:                 544   AIC:                             3965.\n",
      "Df Residuals:                     540   BIC:                             3982.\n",
      "Df Model:                           3                                         \n",
      "Covariance Type:                  HC3                                         \n",
      "==============================================================================\n",
      "                 coef    std err          t      P>|t|      [0.025      0.975]\n",
      "------------------------------------------------------------------------------\n",
      "Intercept     75.9424      1.496     50.752      0.000      73.003      78.882\n",
      "weight         1.6563      0.042     39.685      0.000       1.574       1.738\n",
      "age            0.1125      0.022      5.076      0.000       0.069       0.156\n",
      "male           0.0793      0.814      0.097      0.922      -1.519       1.677\n",
      "==============================================================================\n",
      "Omnibus:                       22.636   Durbin-Watson:                   1.784\n",
      "Prob(Omnibus):                  0.000   Jarque-Bera (JB):               24.342\n",
      "Skew:                          -0.509   Prob(JB):                     5.18e-06\n",
      "Kurtosis:                       3.198   Cond. No.                         142.\n",
      "==============================================================================\n",
      "\n",
      "Notes:\n",
      "[1] Standard Errors are heteroscedasticity robust (HC3)\n"
     ]
    }
   ],
   "source": [
    "print(rob_result.summary())"
   ]
  },
  {
   "cell_type": "markdown",
   "metadata": {},
   "source": [
    "## Worried about outliers?"
   ]
  },
  {
   "cell_type": "markdown",
   "metadata": {},
   "source": [
    "There aren't any extreme outliers in our data. If there were, and they were distorting the regression results, some fields are fine with excluding them or [winsorizing them](https://docs.scipy.org/doc/scipy/reference/generated/scipy.stats.mstats.winsorize.html) - as long as this is transparently reported in your study, of course. Otherwise, consider using [robust regression](https://www.statsmodels.org/stable/rlm.html) models."
   ]
  },
  {
   "cell_type": "markdown",
   "metadata": {},
   "source": [
    "## Beyond adults"
   ]
  },
  {
   "cell_type": "code",
   "execution_count": 59,
   "metadata": {},
   "outputs": [
    {
     "data": {
      "text/plain": [
       "<Axes: xlabel='age', ylabel='height'>"
      ]
     },
     "execution_count": 59,
     "metadata": {},
     "output_type": "execute_result"
    },
    {
     "data": {
      "image/png": "[encoded data removed]",
      "text/plain": [
       "<Figure size 640x480 with 1 Axes>"
      ]
     },
     "metadata": {},
     "output_type": "display_data"
    }
   ],
   "source": [
    "# Sub-sample of adults\n",
    "sns.regplot(data=howell_adults_df, x='age', y='height')"
   ]
  },
  {
   "cell_type": "code",
   "execution_count": 60,
   "metadata": {},
   "outputs": [
    {
     "data": {
      "text/plain": [
       "<Axes: xlabel='age', ylabel='height'>"
      ]
     },
     "execution_count": 60,
     "metadata": {},
     "output_type": "execute_result"
    },
    {
     "data": {
      "image/png": "[encoded data removed]",
      "text/plain": [
       "<Figure size 640x480 with 1 Axes>"
      ]
     },
     "metadata": {},
     "output_type": "display_data"
    }
   ],
   "source": [
    "# Entire sample\n",
    "sns.regplot(data=howell_df, x='age', y='height')"
   ]
  },
  {
   "cell_type": "code",
   "execution_count": 61,
   "metadata": {},
   "outputs": [
    {
     "name": "stdout",
     "output_type": "stream",
     "text": [
      "                            OLS Regression Results                            \n",
      "==============================================================================\n",
      "Dep. Variable:                 height   R-squared:                       0.889\n",
      "Model:                            OLS   Adj. R-squared:                  0.888\n",
      "Method:                 Least Squares   F-statistic:                     1441.\n",
      "Date:                Fri, 16 Aug 2024   Prob (F-statistic):          3.16e-257\n",
      "Time:                        11:22:39   Log-Likelihood:                -1978.5\n",
      "No. Observations:                 544   AIC:                             3965.\n",
      "Df Residuals:                     540   BIC:                             3982.\n",
      "Df Model:                           3                                         \n",
      "Covariance Type:            nonrobust                                         \n",
      "==============================================================================\n",
      "                 coef    std err          t      P>|t|      [0.025      0.975]\n",
      "------------------------------------------------------------------------------\n",
      "Intercept     75.9424      1.065     71.327      0.000      73.851      78.034\n",
      "weight         1.6563      0.037     44.289      0.000       1.583       1.730\n",
      "age            0.1125      0.026      4.291      0.000       0.061       0.164\n",
      "male           0.0793      0.809      0.098      0.922      -1.511       1.669\n",
      "==============================================================================\n",
      "Omnibus:                       22.636   Durbin-Watson:                   1.784\n",
      "Prob(Omnibus):                  0.000   Jarque-Bera (JB):               24.342\n",
      "Skew:                          -0.509   Prob(JB):                     5.18e-06\n",
      "Kurtosis:                       3.198   Cond. No.                         142.\n",
      "==============================================================================\n",
      "\n",
      "Notes:\n",
      "[1] Standard Errors assume that the covariance matrix of the errors is correctly specified.\n"
     ]
    }
   ],
   "source": [
    "model = smf.ols(formula=\"height ~ weight + age + male\", data=howell_df)\n",
    "result = model.fit()\n",
    "print(result.summary())"
   ]
  },
  {
   "cell_type": "code",
   "execution_count": 62,
   "metadata": {
    "ExecuteTime": {
     "end_time": "2021-08-22T15:06:27.234625Z",
     "start_time": "2021-08-22T15:06:27.231233Z"
    }
   },
   "outputs": [
    {
     "name": "stdout",
     "output_type": "stream",
     "text": [
      "                            OLS Regression Results                            \n",
      "==============================================================================\n",
      "Dep. Variable:                 height   R-squared:                       0.902\n",
      "Model:                            OLS   Adj. R-squared:                  0.901\n",
      "Method:                 Least Squares   F-statistic:                     1237.\n",
      "Date:                Fri, 16 Aug 2024   Prob (F-statistic):          6.46e-270\n",
      "Time:                        11:23:28   Log-Likelihood:                -1945.2\n",
      "No. Observations:                 544   AIC:                             3900.\n",
      "Df Residuals:                     539   BIC:                             3922.\n",
      "Df Model:                           4                                         \n",
      "Covariance Type:            nonrobust                                         \n",
      "====================================================================================\n",
      "                       coef    std err          t      P>|t|      [0.025      0.975]\n",
      "------------------------------------------------------------------------------------\n",
      "Intercept           75.5169      1.004     75.232      0.000      73.545      77.489\n",
      "weight               1.2601      0.059     21.362      0.000       1.144       1.376\n",
      "age                  1.0653      0.116      9.148      0.000       0.837       1.294\n",
      "np.power(age, 2)    -0.0111      0.001     -8.373      0.000      -0.014      -0.008\n",
      "male                 1.8730      0.792      2.366      0.018       0.318       3.428\n",
      "==============================================================================\n",
      "Omnibus:                       10.444   Durbin-Watson:                   1.816\n",
      "Prob(Omnibus):                  0.005   Jarque-Bera (JB):               10.506\n",
      "Skew:                          -0.316   Prob(JB):                      0.00523\n",
      "Kurtosis:                       3.251   Cond. No.                     5.51e+03\n",
      "==============================================================================\n",
      "\n",
      "Notes:\n",
      "[1] Standard Errors assume that the covariance matrix of the errors is correctly specified.\n",
      "[2] The condition number is large, 5.51e+03. This might indicate that there are\n",
      "strong multicollinearity or other numerical problems.\n"
     ]
    }
   ],
   "source": [
    "# Adding a quadratic term:\n",
    "model = smf.ols(formula=\"height ~ weight + age + np.power(age, 2) + male\", data=howell_df)\n",
    "result = model.fit()\n",
    "print(result.summary())"
   ]
  },
  {
   "cell_type": "markdown",
   "metadata": {},
   "source": [
    "## Multicollinearity"
   ]
  },
  {
   "cell_type": "markdown",
   "metadata": {},
   "source": [
    "There is a warning above about potential numerical problems, such as multicollinearity in the variables. \n",
    "\n",
    "Let's check for that in a heuristic way using [Variance Inflation Factors](https://en.wikipedia.org/wiki/Variance_inflation_factor):"
   ]
  },
  {
   "cell_type": "code",
   "execution_count": 63,
   "metadata": {},
   "outputs": [
    {
     "data": {
      "text/plain": [
       "[7.26917786010102,\n",
       " 5.428763226489203,\n",
       " 42.033120844736324,\n",
       " 28.50829792835161,\n",
       " 1.126932559483217]"
      ]
     },
     "execution_count": 63,
     "metadata": {},
     "output_type": "execute_result"
    }
   ],
   "source": [
    "variables = model.exog\n",
    "vif = [variance_inflation_factor(variables, i) for i in range(variables.shape[1])]\n",
    "vif "
   ]
  },
  {
   "cell_type": "markdown",
   "metadata": {},
   "source": [
    "It seems that the third variable (age) is problematic, so let's run without it:"
   ]
  },
  {
   "cell_type": "code",
   "execution_count": 64,
   "metadata": {},
   "outputs": [
    {
     "name": "stdout",
     "output_type": "stream",
     "text": [
      "                            OLS Regression Results                            \n",
      "==============================================================================\n",
      "Dep. Variable:                 height   R-squared:                       0.887\n",
      "Model:                            OLS   Adj. R-squared:                  0.886\n",
      "Method:                 Least Squares   F-statistic:                     1406.\n",
      "Date:                Fri, 16 Aug 2024   Prob (F-statistic):          1.22e-254\n",
      "Time:                        11:26:23   Log-Likelihood:                -1984.5\n",
      "No. Observations:                 544   AIC:                             3977.\n",
      "Df Residuals:                     540   BIC:                             3994.\n",
      "Df Model:                           3                                         \n",
      "Covariance Type:            nonrobust                                         \n",
      "====================================================================================\n",
      "                       coef    std err          t      P>|t|      [0.025      0.975]\n",
      "------------------------------------------------------------------------------------\n",
      "Intercept           75.8038      1.077     70.359      0.000      73.687      77.920\n",
      "weight               1.7300      0.031     55.555      0.000       1.669       1.791\n",
      "np.power(age, 2)     0.0007      0.000      2.495      0.013       0.000       0.001\n",
      "male                -0.2450      0.813     -0.301      0.763      -1.842       1.352\n",
      "==============================================================================\n",
      "Omnibus:                       24.633   Durbin-Watson:                   1.794\n",
      "Prob(Omnibus):                  0.000   Jarque-Bera (JB):               26.841\n",
      "Skew:                          -0.539   Prob(JB):                     1.48e-06\n",
      "Kurtosis:                       3.155   Cond. No.                     5.48e+03\n",
      "==============================================================================\n",
      "\n",
      "Notes:\n",
      "[1] Standard Errors assume that the covariance matrix of the errors is correctly specified.\n",
      "[2] The condition number is large, 5.48e+03. This might indicate that there are\n",
      "strong multicollinearity or other numerical problems.\n"
     ]
    }
   ],
   "source": [
    "# Adding a quadratic term:\n",
    "model = smf.ols(formula=\"height ~ weight + np.power(age, 2) + male\", data=howell_df)\n",
    "result = model.fit()\n",
    "print(result.summary())"
   ]
  },
  {
   "cell_type": "code",
   "execution_count": 65,
   "metadata": {},
   "outputs": [
    {
     "data": {
      "text/html": [
       "<div>\n",
       "<style scoped>\n",
       "    .dataframe tbody tr th:only-of-type {\n",
       "        vertical-align: middle;\n",
       "    }\n",
       "\n",
       "    .dataframe tbody tr th {\n",
       "        vertical-align: top;\n",
       "    }\n",
       "\n",
       "    .dataframe thead th {\n",
       "        text-align: right;\n",
       "    }\n",
       "</style>\n",
       "<table border=\"1\" class=\"dataframe\">\n",
       "  <thead>\n",
       "    <tr style=\"text-align: right;\">\n",
       "      <th></th>\n",
       "      <th>weight</th>\n",
       "      <th>age</th>\n",
       "      <th>male</th>\n",
       "    </tr>\n",
       "  </thead>\n",
       "  <tbody>\n",
       "    <tr>\n",
       "      <th>weight</th>\n",
       "      <td>1.000000</td>\n",
       "      <td>0.678335</td>\n",
       "      <td>0.155443</td>\n",
       "    </tr>\n",
       "    <tr>\n",
       "      <th>age</th>\n",
       "      <td>0.678335</td>\n",
       "      <td>1.000000</td>\n",
       "      <td>0.005887</td>\n",
       "    </tr>\n",
       "    <tr>\n",
       "      <th>male</th>\n",
       "      <td>0.155443</td>\n",
       "      <td>0.005887</td>\n",
       "      <td>1.000000</td>\n",
       "    </tr>\n",
       "  </tbody>\n",
       "</table>\n",
       "</div>"
      ],
      "text/plain": [
       "          weight       age      male\n",
       "weight  1.000000  0.678335  0.155443\n",
       "age     0.678335  1.000000  0.005887\n",
       "male    0.155443  0.005887  1.000000"
      ]
     },
     "execution_count": 65,
     "metadata": {},
     "output_type": "execute_result"
    }
   ],
   "source": [
    "howell_df[['weight', 'age', 'male']].corr()"
   ]
  },
  {
   "cell_type": "code",
   "execution_count": 66,
   "metadata": {},
   "outputs": [
    {
     "data": {
      "text/plain": [
       "[7.262080619173248, 1.3120513488623493, 1.2804008517343353, 1.030553618695109]"
      ]
     },
     "execution_count": 66,
     "metadata": {},
     "output_type": "execute_result"
    }
   ],
   "source": [
    "variables = model.exog\n",
    "vif = [variance_inflation_factor(variables, i) for i in range(variables.shape[1])]\n",
    "vif "
   ]
  },
  {
   "cell_type": "markdown",
   "metadata": {},
   "source": [
    "## Producing $\\LaTeX$ for your research paper"
   ]
  },
  {
   "cell_type": "code",
   "execution_count": 67,
   "metadata": {},
   "outputs": [
    {
     "name": "stdout",
     "output_type": "stream",
     "text": [
      "\\begin{center}\n",
      "\\begin{tabular}{lclc}\n",
      "\\toprule\n",
      "\\textbf{Dep. Variable:}    &      height      & \\textbf{  R-squared:         } &     0.887   \\\\\n",
      "\\textbf{Model:}            &       OLS        & \\textbf{  Adj. R-squared:    } &     0.886   \\\\\n",
      "\\textbf{Method:}           &  Least Squares   & \\textbf{  F-statistic:       } &     1406.   \\\\\n",
      "\\textbf{Date:}             & Fri, 16 Aug 2024 & \\textbf{  Prob (F-statistic):} & 1.22e-254   \\\\\n",
      "\\textbf{Time:}             &     11:27:13     & \\textbf{  Log-Likelihood:    } &   -1984.5   \\\\\n",
      "\\textbf{No. Observations:} &         544      & \\textbf{  AIC:               } &     3977.   \\\\\n",
      "\\textbf{Df Residuals:}     &         540      & \\textbf{  BIC:               } &     3994.   \\\\\n",
      "\\textbf{Df Model:}         &           3      & \\textbf{                     } &             \\\\\n",
      "\\textbf{Covariance Type:}  &    nonrobust     & \\textbf{                     } &             \\\\\n",
      "\\bottomrule\n",
      "\\end{tabular}\n",
      "\\begin{tabular}{lcccccc}\n",
      "                          & \\textbf{coef} & \\textbf{std err} & \\textbf{t} & \\textbf{P$> |$t$|$} & \\textbf{[0.025} & \\textbf{0.975]}  \\\\\n",
      "\\midrule\n",
      "\\textbf{Intercept}        &      75.8038  &        1.077     &    70.359  &         0.000        &       73.687    &       77.920     \\\\\n",
      "\\textbf{weight}           &       1.7300  &        0.031     &    55.555  &         0.000        &        1.669    &        1.791     \\\\\n",
      "\\textbf{np.power(age, 2)} &       0.0007  &        0.000     &     2.495  &         0.013        &        0.000    &        0.001     \\\\\n",
      "\\textbf{male}             &      -0.2450  &        0.813     &    -0.301  &         0.763        &       -1.842    &        1.352     \\\\\n",
      "\\bottomrule\n",
      "\\end{tabular}\n",
      "\\begin{tabular}{lclc}\n",
      "\\textbf{Omnibus:}       & 24.633 & \\textbf{  Durbin-Watson:     } &    1.794  \\\\\n",
      "\\textbf{Prob(Omnibus):} &  0.000 & \\textbf{  Jarque-Bera (JB):  } &   26.841  \\\\\n",
      "\\textbf{Skew:}          & -0.539 & \\textbf{  Prob(JB):          } & 1.48e-06  \\\\\n",
      "\\textbf{Kurtosis:}      &  3.155 & \\textbf{  Cond. No.          } & 5.48e+03  \\\\\n",
      "\\bottomrule\n",
      "\\end{tabular}\n",
      "%\\caption{OLS Regression Results}\n",
      "\\end{center}\n",
      "\n",
      "Notes: \\newline\n",
      " [1] Standard Errors assume that the covariance matrix of the errors is correctly specified. \\newline\n",
      " [2] The condition number is large, 5.48e+03. This might indicate that there are \\newline\n",
      " strong multicollinearity or other numerical problems.\n"
     ]
    }
   ],
   "source": [
    "print(result.summary().as_latex())"
   ]
  },
  {
   "cell_type": "markdown",
   "metadata": {},
   "source": [
    "---"
   ]
  },
  {
   "cell_type": "markdown",
   "metadata": {},
   "source": [
    "# Quiz: Revisiting Starbucks \n",
    "\n",
    "* Suppose you intend to examine whether sodium contributes to an increase in calories. \n",
    "* Also suppose you know sugar and trans fat have been strong factors for high calories. \n",
    "* Taken together, you want to see the association between sodium and calories while controlling for sugar and trans fat. \n",
    "* (1) Draw three plots, each of which represents the relationship between each of the three variables above and calories. (Use `regplot()` in seaborn)\n",
    "* (2) Using the `statsmodel` package, print the result of OLS regression whose formula looks like this: `Calories ~ Sodium + Sugars + TransFat`\n",
    "* (3) Once you control for sugars and tran sfar, is there a significant association between sodium and calories?"
   ]
  },
  {
   "cell_type": "code",
   "execution_count": 68,
   "metadata": {},
   "outputs": [],
   "source": [
    "sb_df = pd.read_csv('menu_starbucks.csv')"
   ]
  },
  {
   "cell_type": "code",
   "execution_count": 69,
   "metadata": {
    "ExecuteTime": {
     "end_time": "2021-08-22T15:16:59.626315Z",
     "start_time": "2021-08-22T15:16:59.622893Z"
    }
   },
   "outputs": [],
   "source": [
    "# I'll help you with some cleaning of the column names:\n",
    "sb_df.columns = sb_df.columns.str.replace(r'\\([^)]*\\)', \"\").str.rstrip(\" \").str.lstrip(\" \")"
   ]
  },
  {
   "cell_type": "code",
   "execution_count": 70,
   "metadata": {
    "ExecuteTime": {
     "end_time": "2021-08-22T15:17:40.547525Z",
     "start_time": "2021-08-22T15:17:40.543617Z"
    }
   },
   "outputs": [
    {
     "data": {
      "text/plain": [
       "Index(['Beverage_category', 'Beverage', 'Beverage_prep', 'Calories',\n",
       "       'Total Fat (g)', 'Trans Fat (g)', 'Saturated Fat (g)', 'Sodium (mg)',\n",
       "       'Total Carbohydrates (g)', 'Cholesterol (mg)', 'Dietary Fibre (g)',\n",
       "       'Sugars (g)', 'Protein (g)', 'Vitamin A (% DV)', 'Vitamin C (% DV)',\n",
       "       'Calcium (% DV)', 'Iron (% DV)', 'Caffeine (mg)'],\n",
       "      dtype='object')"
      ]
     },
     "execution_count": 70,
     "metadata": {},
     "output_type": "execute_result"
    }
   ],
   "source": [
    "sb_df.columns"
   ]
  },
  {
   "cell_type": "code",
   "execution_count": null,
   "metadata": {},
   "outputs": [],
   "source": [
    "# TODO: part (1)"
   ]
  },
  {
   "cell_type": "code",
   "execution_count": null,
   "metadata": {},
   "outputs": [],
   "source": [
    "# TODO: part (2)"
   ]
  },
  {
   "cell_type": "markdown",
   "metadata": {},
   "source": [
    "---"
   ]
  },
  {
   "cell_type": "markdown",
   "metadata": {},
   "source": [
    "# Arrays: a case study with OLS regression"
   ]
  },
  {
   "cell_type": "markdown",
   "metadata": {},
   "source": [
    "Let's say we want to regress a variable $y$ against three variables $x_1$, $x_2$, $x_3$, and we have $i=1,..,N$ samples. Then the objective is to estimate three quantities: $\\beta_1$, $\\beta_2$, $\\beta_3$ that work for all the $N$ values of $y$ and $x_1$, $x_2$, $x_3$.\n",
    "\n",
    "$$y_i = \\beta_1 x_{1,i} + \\beta_2 x_{2,i} + \\beta_3 x_{3,i} \\quad\\text{for}\\quad i=1,..,N$$\n",
    "\n",
    "Really, we have $N$ rows for which this must hold:\n",
    "$$y_1 = \\beta_1 x_{1,1} + \\beta_2 x_{2,1} + \\beta_3 x_{3,1}$$\n",
    "$$\\ldots$$\n",
    "$$y_i = \\beta_1 x_{1,i} + \\beta_2 x_{2,i} + \\beta_3 x_{3,i}$$\n",
    "$$\\ldots$$\n",
    "$$y_N = \\beta_1 x_{1,N} + \\beta_2 x_{2,N} + \\beta_3 x_{3,N}$$\n",
    "\n",
    "The system of equations above can be represented using matrix multiplication:\n",
    "\n",
    "$$ \\begin{bmatrix} \n",
    "        y_1 \\\\ \\vdots \\\\ y_i \\\\ \\vdots \\\\ y_N \n",
    "    \\end{bmatrix}  = \\begin{bmatrix} \n",
    "    x_{1,1} & x_{2,1} & x_{3,1} \\\\\n",
    "    & \\vdots & \\\\\n",
    "    x_{1,i} & x_{2,i} & x_{3,i} \\\\\n",
    "    & \\vdots & \\\\\n",
    "    x_{1,N} & x_{2,N} & x_{3,N}\n",
    "    \\end{bmatrix} \n",
    "    \\begin{bmatrix} \n",
    "        \\beta_1 \\\\ \\beta_2 \\\\ \\beta_3 \n",
    "    \\end{bmatrix} $$\n",
    "\n",
    "We'll write these matrices as Y, X, B:\n",
    "$$ Y = XB $$\n",
    "\n",
    "\n",
    "\n",
    "Let's solve for $B$. Pre-multiply both sides with $X^T$, the transpose of $X$:\n",
    "\n",
    "$$ X^T Y = X^T XB $$\n",
    "\n",
    "Pre-multiply both sides with $(X^TX)^{-1}$, the inverse of the product $X^T X$:\n",
    "\n",
    "$$ (X^TX)^{-1} X^T Y = (X^TX)^{-1} X^T XB $$\n",
    "\n",
    "Since $(X^TX)^{-1}$ cancels out $X^T X$, we have our exact solution:\n",
    "\n",
    "$$ B = (X^TX)^{-1} X^T Y $$\n",
    "\n",
    "So let's implement multivariate regression ourselves! We just need to know three operations:\n",
    "* matrix multiplication\n",
    "* matrix transposition\n",
    "* matrix inversion\n",
    "\n",
    "Arrays and the `numpy` package give us what we need."
   ]
  },
  {
   "cell_type": "markdown",
   "metadata": {},
   "source": [
    "## Creating matrices from data frames"
   ]
  },
  {
   "cell_type": "code",
   "execution_count": 71,
   "metadata": {},
   "outputs": [],
   "source": [
    "X = howell_adults_df[['weight', 'age', 'male']].values"
   ]
  },
  {
   "cell_type": "code",
   "execution_count": 72,
   "metadata": {},
   "outputs": [
    {
     "data": {
      "text/plain": [
       "(352, 3)"
      ]
     },
     "execution_count": 72,
     "metadata": {},
     "output_type": "execute_result"
    }
   ],
   "source": [
    "X.shape"
   ]
  },
  {
   "cell_type": "code",
   "execution_count": 73,
   "metadata": {},
   "outputs": [
    {
     "data": {
      "text/plain": [
       "array([[47.8256065, 63.       ,  1.       ],\n",
       "       [36.4858065, 63.       ,  0.       ],\n",
       "       [31.864838 , 65.       ,  0.       ],\n",
       "       ...,\n",
       "       [52.16308  , 31.       ,  1.       ],\n",
       "       [54.0624965, 21.       ,  0.       ],\n",
       "       [52.5316235, 68.       ,  1.       ]])"
      ]
     },
     "execution_count": 73,
     "metadata": {},
     "output_type": "execute_result"
    }
   ],
   "source": [
    "X"
   ]
  },
  {
   "cell_type": "code",
   "execution_count": 74,
   "metadata": {},
   "outputs": [],
   "source": [
    "Y = howell_adults_df[['height']].values"
   ]
  },
  {
   "cell_type": "code",
   "execution_count": 75,
   "metadata": {},
   "outputs": [
    {
     "data": {
      "text/plain": [
       "(352, 1)"
      ]
     },
     "execution_count": 75,
     "metadata": {},
     "output_type": "execute_result"
    }
   ],
   "source": [
    "Y.shape"
   ]
  },
  {
   "cell_type": "code",
   "execution_count": 76,
   "metadata": {},
   "outputs": [
    {
     "data": {
      "text/plain": [
       "array([[151.765 ],\n",
       "       [139.7   ],\n",
       "       [136.525 ],\n",
       "       [156.845 ],\n",
       "       [145.415 ],\n",
       "       [163.83  ],\n",
       "       [149.225 ],\n",
       "       [168.91  ],\n",
       "       [147.955 ],\n",
       "       [165.1   ],\n",
       "       [154.305 ],\n",
       "       [151.13  ],\n",
       "       [144.78  ],\n",
       "       [149.9   ],\n",
       "       [150.495 ],\n",
       "       [163.195 ],\n",
       "       [157.48  ],\n",
       "       [143.9418],\n",
       "       [161.29  ],\n",
       "       [156.21  ],\n",
       "       [146.4   ],\n",
       "       [148.59  ],\n",
       "       [147.32  ],\n",
       "       [147.955 ],\n",
       "       [161.925 ],\n",
       "       [146.05  ],\n",
       "       [146.05  ],\n",
       "       [152.7048],\n",
       "       [142.875 ],\n",
       "       [142.875 ],\n",
       "       [147.955 ],\n",
       "       [160.655 ],\n",
       "       [151.765 ],\n",
       "       [162.8648],\n",
       "       [171.45  ],\n",
       "       [147.32  ],\n",
       "       [147.955 ],\n",
       "       [154.305 ],\n",
       "       [143.51  ],\n",
       "       [146.7   ],\n",
       "       [157.48  ],\n",
       "       [165.735 ],\n",
       "       [152.4   ],\n",
       "       [141.605 ],\n",
       "       [158.8   ],\n",
       "       [155.575 ],\n",
       "       [164.465 ],\n",
       "       [151.765 ],\n",
       "       [161.29  ],\n",
       "       [154.305 ],\n",
       "       [145.415 ],\n",
       "       [145.415 ],\n",
       "       [152.4   ],\n",
       "       [163.83  ],\n",
       "       [144.145 ],\n",
       "       [153.67  ],\n",
       "       [142.875 ],\n",
       "       [167.005 ],\n",
       "       [158.4198],\n",
       "       [165.735 ],\n",
       "       [149.86  ],\n",
       "       [154.94  ],\n",
       "       [160.9598],\n",
       "       [161.925 ],\n",
       "       [147.955 ],\n",
       "       [159.385 ],\n",
       "       [148.59  ],\n",
       "       [136.525 ],\n",
       "       [158.115 ],\n",
       "       [144.78  ],\n",
       "       [156.845 ],\n",
       "       [179.07  ],\n",
       "       [170.18  ],\n",
       "       [146.05  ],\n",
       "       [147.32  ],\n",
       "       [162.56  ],\n",
       "       [152.4   ],\n",
       "       [160.02  ],\n",
       "       [149.86  ],\n",
       "       [142.875 ],\n",
       "       [167.005 ],\n",
       "       [159.385 ],\n",
       "       [154.94  ],\n",
       "       [162.56  ],\n",
       "       [152.4   ],\n",
       "       [170.18  ],\n",
       "       [146.05  ],\n",
       "       [159.385 ],\n",
       "       [151.13  ],\n",
       "       [160.655 ],\n",
       "       [169.545 ],\n",
       "       [158.75  ],\n",
       "       [149.86  ],\n",
       "       [153.035 ],\n",
       "       [161.925 ],\n",
       "       [162.56  ],\n",
       "       [149.225 ],\n",
       "       [163.195 ],\n",
       "       [161.925 ],\n",
       "       [145.415 ],\n",
       "       [163.195 ],\n",
       "       [151.13  ],\n",
       "       [150.495 ],\n",
       "       [170.815 ],\n",
       "       [157.48  ],\n",
       "       [152.4   ],\n",
       "       [147.32  ],\n",
       "       [145.415 ],\n",
       "       [157.48  ],\n",
       "       [154.305 ],\n",
       "       [167.005 ],\n",
       "       [142.875 ],\n",
       "       [152.4   ],\n",
       "       [160.    ],\n",
       "       [159.385 ],\n",
       "       [149.86  ],\n",
       "       [160.655 ],\n",
       "       [160.655 ],\n",
       "       [149.225 ],\n",
       "       [140.97  ],\n",
       "       [154.94  ],\n",
       "       [141.605 ],\n",
       "       [160.02  ],\n",
       "       [150.1648],\n",
       "       [155.575 ],\n",
       "       [156.21  ],\n",
       "       [153.035 ],\n",
       "       [167.005 ],\n",
       "       [149.86  ],\n",
       "       [147.955 ],\n",
       "       [159.385 ],\n",
       "       [161.925 ],\n",
       "       [155.575 ],\n",
       "       [159.385 ],\n",
       "       [146.685 ],\n",
       "       [172.72  ],\n",
       "       [166.37  ],\n",
       "       [141.605 ],\n",
       "       [151.765 ],\n",
       "       [156.845 ],\n",
       "       [148.59  ],\n",
       "       [157.48  ],\n",
       "       [149.86  ],\n",
       "       [147.955 ],\n",
       "       [153.035 ],\n",
       "       [160.655 ],\n",
       "       [149.225 ],\n",
       "       [138.43  ],\n",
       "       [162.56  ],\n",
       "       [149.225 ],\n",
       "       [158.75  ],\n",
       "       [149.86  ],\n",
       "       [158.115 ],\n",
       "       [156.21  ],\n",
       "       [148.59  ],\n",
       "       [143.51  ],\n",
       "       [154.305 ],\n",
       "       [157.48  ],\n",
       "       [157.48  ],\n",
       "       [154.305 ],\n",
       "       [168.275 ],\n",
       "       [145.415 ],\n",
       "       [149.225 ],\n",
       "       [154.94  ],\n",
       "       [162.56  ],\n",
       "       [156.845 ],\n",
       "       [161.0106],\n",
       "       [144.78  ],\n",
       "       [143.51  ],\n",
       "       [149.225 ],\n",
       "       [149.86  ],\n",
       "       [165.735 ],\n",
       "       [144.145 ],\n",
       "       [157.48  ],\n",
       "       [154.305 ],\n",
       "       [163.83  ],\n",
       "       [156.21  ],\n",
       "       [144.145 ],\n",
       "       [162.56  ],\n",
       "       [146.05  ],\n",
       "       [154.94  ],\n",
       "       [144.78  ],\n",
       "       [146.685 ],\n",
       "       [152.4   ],\n",
       "       [163.83  ],\n",
       "       [165.735 ],\n",
       "       [156.21  ],\n",
       "       [152.4   ],\n",
       "       [140.335 ],\n",
       "       [163.195 ],\n",
       "       [151.13  ],\n",
       "       [171.1198],\n",
       "       [149.86  ],\n",
       "       [163.83  ],\n",
       "       [141.605 ],\n",
       "       [149.225 ],\n",
       "       [146.05  ],\n",
       "       [161.29  ],\n",
       "       [162.56  ],\n",
       "       [145.415 ],\n",
       "       [170.815 ],\n",
       "       [159.385 ],\n",
       "       [159.4   ],\n",
       "       [153.67  ],\n",
       "       [160.02  ],\n",
       "       [150.495 ],\n",
       "       [149.225 ],\n",
       "       [142.875 ],\n",
       "       [142.113 ],\n",
       "       [147.32  ],\n",
       "       [162.56  ],\n",
       "       [164.465 ],\n",
       "       [160.02  ],\n",
       "       [153.67  ],\n",
       "       [167.005 ],\n",
       "       [151.13  ],\n",
       "       [153.035 ],\n",
       "       [139.065 ],\n",
       "       [152.4   ],\n",
       "       [154.94  ],\n",
       "       [147.955 ],\n",
       "       [144.145 ],\n",
       "       [155.575 ],\n",
       "       [150.495 ],\n",
       "       [155.575 ],\n",
       "       [154.305 ],\n",
       "       [157.48  ],\n",
       "       [168.91  ],\n",
       "       [150.495 ],\n",
       "       [160.02  ],\n",
       "       [167.64  ],\n",
       "       [144.145 ],\n",
       "       [145.415 ],\n",
       "       [160.02  ],\n",
       "       [164.465 ],\n",
       "       [153.035 ],\n",
       "       [149.225 ],\n",
       "       [160.02  ],\n",
       "       [149.225 ],\n",
       "       [153.67  ],\n",
       "       [150.495 ],\n",
       "       [151.765 ],\n",
       "       [158.115 ],\n",
       "       [149.225 ],\n",
       "       [151.765 ],\n",
       "       [154.94  ],\n",
       "       [161.29  ],\n",
       "       [148.59  ],\n",
       "       [160.655 ],\n",
       "       [157.48  ],\n",
       "       [167.005 ],\n",
       "       [157.48  ],\n",
       "       [152.4   ],\n",
       "       [152.4   ],\n",
       "       [161.925 ],\n",
       "       [152.4   ],\n",
       "       [159.385 ],\n",
       "       [142.24  ],\n",
       "       [168.91  ],\n",
       "       [160.02  ],\n",
       "       [158.115 ],\n",
       "       [152.4   ],\n",
       "       [155.575 ],\n",
       "       [154.305 ],\n",
       "       [156.845 ],\n",
       "       [156.21  ],\n",
       "       [168.275 ],\n",
       "       [147.955 ],\n",
       "       [157.48  ],\n",
       "       [160.7   ],\n",
       "       [161.29  ],\n",
       "       [150.495 ],\n",
       "       [163.195 ],\n",
       "       [148.59  ],\n",
       "       [148.59  ],\n",
       "       [161.925 ],\n",
       "       [153.67  ],\n",
       "       [151.13  ],\n",
       "       [163.83  ],\n",
       "       [153.035 ],\n",
       "       [151.765 ],\n",
       "       [156.21  ],\n",
       "       [140.335 ],\n",
       "       [158.75  ],\n",
       "       [142.875 ],\n",
       "       [151.9428],\n",
       "       [161.29  ],\n",
       "       [160.9852],\n",
       "       [144.78  ],\n",
       "       [160.02  ],\n",
       "       [160.9852],\n",
       "       [165.989 ],\n",
       "       [157.988 ],\n",
       "       [154.94  ],\n",
       "       [160.655 ],\n",
       "       [147.32  ],\n",
       "       [146.7   ],\n",
       "       [147.32  ],\n",
       "       [172.9994],\n",
       "       [158.115 ],\n",
       "       [147.32  ],\n",
       "       [165.989 ],\n",
       "       [149.86  ],\n",
       "       [161.925 ],\n",
       "       [163.83  ],\n",
       "       [160.02  ],\n",
       "       [154.94  ],\n",
       "       [152.4   ],\n",
       "       [146.05  ],\n",
       "       [151.9936],\n",
       "       [151.765 ],\n",
       "       [144.78  ],\n",
       "       [160.655 ],\n",
       "       [151.13  ],\n",
       "       [153.67  ],\n",
       "       [147.32  ],\n",
       "       [139.7   ],\n",
       "       [157.48  ],\n",
       "       [154.94  ],\n",
       "       [143.51  ],\n",
       "       [158.115 ],\n",
       "       [147.32  ],\n",
       "       [160.02  ],\n",
       "       [165.1   ],\n",
       "       [154.94  ],\n",
       "       [153.67  ],\n",
       "       [141.605 ],\n",
       "       [163.83  ],\n",
       "       [161.29  ],\n",
       "       [154.9   ],\n",
       "       [161.3   ],\n",
       "       [170.18  ],\n",
       "       [149.86  ],\n",
       "       [160.655 ],\n",
       "       [154.94  ],\n",
       "       [166.37  ],\n",
       "       [148.2852],\n",
       "       [151.765 ],\n",
       "       [148.59  ],\n",
       "       [153.67  ],\n",
       "       [146.685 ],\n",
       "       [154.94  ],\n",
       "       [156.21  ],\n",
       "       [160.655 ],\n",
       "       [146.05  ],\n",
       "       [156.21  ],\n",
       "       [152.4   ],\n",
       "       [162.56  ],\n",
       "       [142.875 ],\n",
       "       [162.56  ],\n",
       "       [156.21  ],\n",
       "       [158.75  ]])"
      ]
     },
     "execution_count": 76,
     "metadata": {},
     "output_type": "execute_result"
    }
   ],
   "source": [
    "Y"
   ]
  },
  {
   "cell_type": "markdown",
   "metadata": {},
   "source": [
    "## Matrix operations"
   ]
  },
  {
   "cell_type": "markdown",
   "metadata": {},
   "source": [
    "Here's how to calculate $X^T$, the transpose of X:"
   ]
  },
  {
   "cell_type": "code",
   "execution_count": 77,
   "metadata": {},
   "outputs": [
    {
     "data": {
      "text/plain": [
       "array([[47.8256065, 36.4858065, 31.864838 , ..., 52.16308  , 54.0624965,\n",
       "        52.5316235],\n",
       "       [63.       , 63.       , 65.       , ..., 31.       , 21.       ,\n",
       "        68.       ],\n",
       "       [ 1.       ,  0.       ,  0.       , ...,  1.       ,  0.       ,\n",
       "         1.       ]])"
      ]
     },
     "execution_count": 77,
     "metadata": {},
     "output_type": "execute_result"
    }
   ],
   "source": [
    "X.T"
   ]
  },
  {
   "cell_type": "code",
   "execution_count": 78,
   "metadata": {},
   "outputs": [
    {
     "data": {
      "text/plain": [
       "(3, 352)"
      ]
     },
     "execution_count": 78,
     "metadata": {},
     "output_type": "execute_result"
    }
   ],
   "source": [
    "X.T.shape"
   ]
  },
  {
   "cell_type": "markdown",
   "metadata": {},
   "source": [
    "The function `matmul` from package `numpy` (abbreviated `np`) multiplies two matrices. \n",
    "\n",
    "So to calculate $X^T X$ we would write:"
   ]
  },
  {
   "cell_type": "code",
   "execution_count": 79,
   "metadata": {},
   "outputs": [
    {
     "data": {
      "text/plain": [
       "array([[7.27131480e+05, 6.45238909e+05, 8.01739735e+03],\n",
       "       [6.45238909e+05, 6.85211563e+05, 6.86755000e+03],\n",
       "       [8.01739735e+03, 6.86755000e+03, 1.65000000e+02]])"
      ]
     },
     "execution_count": 79,
     "metadata": {},
     "output_type": "execute_result"
    }
   ],
   "source": [
    "np.matmul(X.T, X)"
   ]
  },
  {
   "cell_type": "markdown",
   "metadata": {},
   "source": [
    " "
   ]
  },
  {
   "cell_type": "markdown",
   "metadata": {},
   "source": [
    "\n",
    "**Quiz** Calculate $X^T Y$"
   ]
  },
  {
   "cell_type": "code",
   "execution_count": 80,
   "metadata": {},
   "outputs": [
    {
     "data": {
      "text/plain": [
       "array([[2461543.35685838],\n",
       "       [2234262.7437    ],\n",
       "       [  26459.1486    ]])"
      ]
     },
     "execution_count": 80,
     "metadata": {},
     "output_type": "execute_result"
    }
   ],
   "source": [
    "np.matmul(X.T, Y)"
   ]
  },
  {
   "cell_type": "markdown",
   "metadata": {},
   "source": [
    "The function `linalg.inv` (from the same packages) takes the inverse of a matrix.\n",
    "\n",
    "So to calculate $(X^T X)^{-1}$ we would write:"
   ]
  },
  {
   "cell_type": "code",
   "execution_count": 81,
   "metadata": {},
   "outputs": [
    {
     "data": {
      "text/plain": [
       "array([[ 1.05779553e-05, -8.25163087e-06, -1.70540502e-04],\n",
       "       [-8.25163087e-06,  8.94083659e-06,  2.88179461e-05],\n",
       "       [-1.70540502e-04,  2.88179461e-05,  1.31477714e-02]])"
      ]
     },
     "execution_count": 81,
     "metadata": {},
     "output_type": "execute_result"
    }
   ],
   "source": [
    "np.linalg.inv(np.matmul(X.T, X))"
   ]
  },
  {
   "cell_type": "markdown",
   "metadata": {},
   "source": [
    "We're almost there! \n",
    "\n",
    "**Quiz** Calculate:\n",
    "\n",
    "$B = (X^T X)^{-1} X^T Y$"
   ]
  },
  {
   "cell_type": "code",
   "execution_count": 82,
   "metadata": {},
   "outputs": [
    {
     "data": {
      "text/plain": [
       "array([[ 3.08942759],\n",
       "       [ 0.42692926],\n",
       "       [-7.52713918]])"
      ]
     },
     "execution_count": 82,
     "metadata": {},
     "output_type": "execute_result"
    }
   ],
   "source": [
    "np.matmul(np.linalg.inv(np.matmul(X.T, X)), np.matmul(X.T, Y))"
   ]
  },
  {
   "cell_type": "markdown",
   "metadata": {},
   "source": [
    "You should get coefficient values like the ones below:"
   ]
  },
  {
   "cell_type": "code",
   "execution_count": 83,
   "metadata": {},
   "outputs": [
    {
     "name": "stdout",
     "output_type": "stream",
     "text": [
      "                                 OLS Regression Results                                \n",
      "=======================================================================================\n",
      "Dep. Variable:                 height   R-squared (uncentered):                   0.991\n",
      "Model:                            OLS   Adj. R-squared (uncentered):              0.991\n",
      "Method:                 Least Squares   F-statistic:                          1.306e+04\n",
      "Date:                Fri, 16 Aug 2024   Prob (F-statistic):                        0.00\n",
      "Time:                        11:35:39   Log-Likelihood:                         -1441.8\n",
      "No. Observations:                 352   AIC:                                      2890.\n",
      "Df Residuals:                     349   BIC:                                      2901.\n",
      "Df Model:                           3                                                  \n",
      "Covariance Type:            nonrobust                                                  \n",
      "==============================================================================\n",
      "                 coef    std err          t      P>|t|      [0.025      0.975]\n",
      "------------------------------------------------------------------------------\n",
      "weight         3.0894      0.048     65.031      0.000       2.996       3.183\n",
      "age            0.4269      0.044      9.775      0.000       0.341       0.513\n",
      "male          -7.5271      1.675     -4.494      0.000     -10.821      -4.233\n",
      "==============================================================================\n",
      "Omnibus:                        0.430   Durbin-Watson:                   1.815\n",
      "Prob(Omnibus):                  0.807   Jarque-Bera (JB):                0.507\n",
      "Skew:                          -0.080   Prob(JB):                        0.776\n",
      "Kurtosis:                       2.904   Cond. No.                         133.\n",
      "==============================================================================\n",
      "\n",
      "Notes:\n",
      "[1] R² is computed without centering (uncentered) since the model does not contain a constant.\n",
      "[2] Standard Errors assume that the covariance matrix of the errors is correctly specified.\n"
     ]
    }
   ],
   "source": [
    "model = smf.ols(formula=\"height ~ 0 + weight + age + male\", data=howell_adults_df)\n",
    "result = model.fit()\n",
    "print(result.summary())"
   ]
  },
  {
   "cell_type": "markdown",
   "metadata": {},
   "source": [
    " "
   ]
  },
  {
   "cell_type": "markdown",
   "metadata": {},
   "source": [
    "**Quiz for later**\n",
    "\n",
    "Look up (from a textbook) how to add an intercept for the OLS solution, and then modify the above to achieve it.\n",
    "\n",
    "*Hint:* the formula is exactly the same, you need to make a change to the array `X`."
   ]
  },
  {
   "cell_type": "code",
   "execution_count": null,
   "metadata": {},
   "outputs": [],
   "source": [
    "# TODO: quiz for later"
   ]
  },
  {
   "cell_type": "markdown",
   "metadata": {},
   "source": [
    "---"
   ]
  },
  {
   "cell_type": "markdown",
   "metadata": {},
   "source": [
    "# Optimization: a case study with OLS regression"
   ]
  },
  {
   "cell_type": "markdown",
   "metadata": {},
   "source": [
    "OLS = Ordinary Least Squares.\n",
    "\n",
    "\"Least squares\" because the optimal $\\beta$ values are those which minimize the sum of squared errors.\n",
    "\n",
    "Let's say you pick these values of beta:"
   ]
  },
  {
   "cell_type": "code",
   "execution_count": 84,
   "metadata": {},
   "outputs": [],
   "source": [
    "beta_1 = 2\n",
    "beta_2 = 1\n",
    "beta_3 = -5"
   ]
  },
  {
   "cell_type": "markdown",
   "metadata": {},
   "source": [
    "Then you would predict the following values of $y_i$ for each value of $x_1$, $x_2$, $x_3$:"
   ]
  },
  {
   "cell_type": "code",
   "execution_count": 85,
   "metadata": {},
   "outputs": [
    {
     "data": {
      "text/plain": [
       "0      153.651213\n",
       "1      135.971613\n",
       "2      128.729676\n",
       "3      142.083829\n",
       "4      133.553744\n",
       "          ...    \n",
       "534    121.063641\n",
       "537     99.492392\n",
       "540    130.326160\n",
       "541    129.124993\n",
       "543    168.063247\n",
       "Length: 352, dtype: float64"
      ]
     },
     "execution_count": 85,
     "metadata": {},
     "output_type": "execute_result"
    }
   ],
   "source": [
    "predictions = beta_1 * howell_adults_df['weight'] + beta_2 * howell_adults_df['age'] + beta_3 * howell_adults_df['male']\n",
    "predictions"
   ]
  },
  {
   "cell_type": "markdown",
   "metadata": {},
   "source": [
    "The difference between the true values and the predictions are the errors/residuals:\n",
    "\n"
   ]
  },
  {
   "cell_type": "code",
   "execution_count": 86,
   "metadata": {},
   "outputs": [
    {
     "data": {
      "text/plain": [
       "0      -1.886213\n",
       "1       3.728387\n",
       "2       7.795324\n",
       "3      14.761171\n",
       "4      11.861256\n",
       "         ...    \n",
       "534    41.496359\n",
       "537    43.382608\n",
       "540    32.233840\n",
       "541    27.085007\n",
       "543    -9.313247\n",
       "Length: 352, dtype: float64"
      ]
     },
     "execution_count": 86,
     "metadata": {},
     "output_type": "execute_result"
    }
   ],
   "source": [
    "errors = howell_adults_df['height'] - predictions\n",
    "errors"
   ]
  },
  {
   "cell_type": "markdown",
   "metadata": {},
   "source": [
    "The squared errors are:"
   ]
  },
  {
   "cell_type": "code",
   "execution_count": 87,
   "metadata": {},
   "outputs": [
    {
     "data": {
      "text/plain": [
       "0         3.557799\n",
       "1        13.900870\n",
       "2        60.767076\n",
       "3       217.892169\n",
       "4       140.689394\n",
       "          ...     \n",
       "534    1721.947810\n",
       "537    1882.050677\n",
       "540    1039.020441\n",
       "541     733.597604\n",
       "543      86.736570\n",
       "Length: 352, dtype: float64"
      ]
     },
     "execution_count": 87,
     "metadata": {},
     "output_type": "execute_result"
    }
   ],
   "source": [
    "errors**2"
   ]
  },
  {
   "cell_type": "markdown",
   "metadata": {},
   "source": [
    "So the sum of squared errors is:"
   ]
  },
  {
   "cell_type": "code",
   "execution_count": 88,
   "metadata": {},
   "outputs": [
    {
     "data": {
      "text/plain": [
       "333619.36990389536"
      ]
     },
     "execution_count": 88,
     "metadata": {},
     "output_type": "execute_result"
    }
   ],
   "source": [
    "sum(errors**2)"
   ]
  },
  {
   "cell_type": "markdown",
   "metadata": {},
   "source": [
    "The optimal $\\beta$s would minimize this sum of squared errors. This is an optimization problem."
   ]
  },
  {
   "cell_type": "code",
   "execution_count": 89,
   "metadata": {},
   "outputs": [],
   "source": [
    "def sse(betas_list):\n",
    "    (beta_1, beta_2, beta_3) = betas_list\n",
    "    predictions = beta_1 * howell_adults_df['weight'] + beta_2 * howell_adults_df['age'] + beta_3 * howell_adults_df['male']\n",
    "    errors = howell_adults_df['height'] - predictions\n",
    "    sse = sum(errors**2)\n",
    "    return sse"
   ]
  },
  {
   "cell_type": "code",
   "execution_count": 90,
   "metadata": {},
   "outputs": [
    {
     "data": {
      "text/plain": [
       "333619.36990389536"
      ]
     },
     "execution_count": 90,
     "metadata": {},
     "output_type": "execute_result"
    }
   ],
   "source": [
    "sse([2, 1, -5])"
   ]
  },
  {
   "cell_type": "code",
   "execution_count": 91,
   "metadata": {},
   "outputs": [
    {
     "data": {
      "text/plain": [
       "595972.8969114538"
      ]
     },
     "execution_count": 91,
     "metadata": {},
     "output_type": "execute_result"
    }
   ],
   "source": [
    "sse([1, 2, 3])"
   ]
  },
  {
   "cell_type": "code",
   "execution_count": 92,
   "metadata": {},
   "outputs": [
    {
     "data": {
      "text/plain": [
       "  message: Desired error not necessarily achieved due to precision loss.\n",
       "  success: False\n",
       "   status: 2\n",
       "      fun: 74461.73359698104\n",
       "        x: [ 3.089e+00  4.269e-01 -7.527e+00]\n",
       "      nit: 10\n",
       "      jac: [ 0.000e+00 -9.766e-04  0.000e+00]\n",
       " hess_inv: [[ 3.409e-06 -2.640e-06 -4.097e-05]\n",
       "            [-2.640e-06  2.796e-06  2.506e-05]\n",
       "            [-4.097e-05  2.506e-05  1.377e-03]]\n",
       "     nfev: 272\n",
       "     njev: 65"
      ]
     },
     "execution_count": 92,
     "metadata": {},
     "output_type": "execute_result"
    }
   ],
   "source": [
    "scipy.optimize.minimize(sse, [0,0,0])"
   ]
  },
  {
   "cell_type": "markdown",
   "metadata": {},
   "source": [
    "We should get coefficient values like the ones below:"
   ]
  },
  {
   "cell_type": "code",
   "execution_count": 93,
   "metadata": {},
   "outputs": [
    {
     "name": "stdout",
     "output_type": "stream",
     "text": [
      "                                 OLS Regression Results                                \n",
      "=======================================================================================\n",
      "Dep. Variable:                 height   R-squared (uncentered):                   0.991\n",
      "Model:                            OLS   Adj. R-squared (uncentered):              0.991\n",
      "Method:                 Least Squares   F-statistic:                          1.306e+04\n",
      "Date:                Fri, 16 Aug 2024   Prob (F-statistic):                        0.00\n",
      "Time:                        11:42:51   Log-Likelihood:                         -1441.8\n",
      "No. Observations:                 352   AIC:                                      2890.\n",
      "Df Residuals:                     349   BIC:                                      2901.\n",
      "Df Model:                           3                                                  \n",
      "Covariance Type:            nonrobust                                                  \n",
      "==============================================================================\n",
      "                 coef    std err          t      P>|t|      [0.025      0.975]\n",
      "------------------------------------------------------------------------------\n",
      "weight         3.0894      0.048     65.031      0.000       2.996       3.183\n",
      "age            0.4269      0.044      9.775      0.000       0.341       0.513\n",
      "male          -7.5271      1.675     -4.494      0.000     -10.821      -4.233\n",
      "==============================================================================\n",
      "Omnibus:                        0.430   Durbin-Watson:                   1.815\n",
      "Prob(Omnibus):                  0.807   Jarque-Bera (JB):                0.507\n",
      "Skew:                          -0.080   Prob(JB):                        0.776\n",
      "Kurtosis:                       2.904   Cond. No.                         133.\n",
      "==============================================================================\n",
      "\n",
      "Notes:\n",
      "[1] R² is computed without centering (uncentered) since the model does not contain a constant.\n",
      "[2] Standard Errors assume that the covariance matrix of the errors is correctly specified.\n"
     ]
    }
   ],
   "source": [
    "model = smf.ols(formula=\"height ~ 0 + weight + age + male\", data=howell_adults_df)\n",
    "result = model.fit()\n",
    "print(result.summary())"
   ]
  },
  {
   "cell_type": "markdown",
   "metadata": {},
   "source": [
    " "
   ]
  },
  {
   "cell_type": "markdown",
   "metadata": {},
   "source": [
    "**Quiz**. \n",
    "\n",
    "Change the function `sse` to add an intercept $\\beta_0$. \n",
    "\n",
    "And then run `scipy.optimize.minimize(sse, [0,0,0,0])`"
   ]
  },
  {
   "cell_type": "code",
   "execution_count": null,
   "metadata": {},
   "outputs": [],
   "source": [
    "# TODO: quiz"
   ]
  },
  {
   "cell_type": "code",
   "execution_count": null,
   "metadata": {},
   "outputs": [],
   "source": []
  }
 ],
 "metadata": {
  "hide_input": false,
  "kernelspec": {
   "display_name": "Python 3 (ipykernel)",
   "language": "python",
   "name": "python3"
  },
  "language_info": {
   "codemirror_mode": {
    "name": "ipython",
    "version": 3
   },
   "file_extension": ".py",
   "mimetype": "text/x-python",
   "name": "python",
   "nbconvert_exporter": "python",
   "pygments_lexer": "ipython3",
   "version": "3.9.17"
  },
  "toc": {
   "base_numbering": 1,
   "nav_menu": {},
   "number_sections": true,
   "sideBar": true,
   "skip_h1_title": false,
   "title_cell": "Table of Contents",
   "title_sidebar": "Contents",
   "toc_cell": true,
   "toc_position": {},
   "toc_section_display": true,
   "toc_window_display": false
  }
 },
 "nbformat": 4,
 "nbformat_minor": 4
}
