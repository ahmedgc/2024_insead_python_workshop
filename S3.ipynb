{
 "cells": [
  {
   "cell_type": "markdown",
   "metadata": {},
   "source": [
    "# Preliminaries"
   ]
  },
  {
   "cell_type": "code",
   "execution_count": null,
   "metadata": {
    "ExecuteTime": {
     "end_time": "2021-08-16T06:38:36.882826Z",
     "start_time": "2021-08-16T06:38:36.341975Z"
    }
   },
   "outputs": [],
   "source": [
    "# Load pandas for dataframes:\n",
    "import pandas as pd\n",
    "\n",
    "# For plotting:\n",
    "%matplotlib inline\n",
    "from matplotlib import pyplot as plt\n",
    "from matplotlib.ticker import FuncFormatter\n",
    "import seaborn as sns\n",
    "\n",
    "# Load SciPy for statistical testing:\n",
    "import scipy\n"
   ]
  },
  {
   "cell_type": "markdown",
   "metadata": {},
   "source": [
    "---"
   ]
  },
  {
   "cell_type": "markdown",
   "metadata": {},
   "source": [
    "# Grouping: World Happiness Report 2016"
   ]
  },
  {
   "cell_type": "code",
   "execution_count": null,
   "metadata": {
    "ExecuteTime": {
     "end_time": "2021-08-16T06:38:40.321659Z",
     "start_time": "2021-08-16T06:38:40.313262Z"
    }
   },
   "outputs": [],
   "source": [
    "whr_df_16 = pd.read_csv('WHR_2016.csv')"
   ]
  },
  {
   "cell_type": "code",
   "execution_count": null,
   "metadata": {},
   "outputs": [],
   "source": [
    "whr_df_16.shape"
   ]
  },
  {
   "cell_type": "code",
   "execution_count": null,
   "metadata": {
    "ExecuteTime": {
     "end_time": "2021-08-16T06:39:11.485825Z",
     "start_time": "2021-08-16T06:39:11.464539Z"
    }
   },
   "outputs": [],
   "source": [
    "whr_df_16[:3]"
   ]
  },
  {
   "cell_type": "markdown",
   "metadata": {},
   "source": [
    "## `size()` works as counting the N of observations in each group"
   ]
  },
  {
   "cell_type": "code",
   "execution_count": null,
   "metadata": {
    "ExecuteTime": {
     "end_time": "2021-08-16T06:40:08.294140Z",
     "start_time": "2021-08-16T06:40:08.288816Z"
    }
   },
   "outputs": [],
   "source": [
    "whr_df_16.groupby('Region').size()"
   ]
  },
  {
   "cell_type": "markdown",
   "metadata": {},
   "source": [
    "## `sum()`"
   ]
  },
  {
   "cell_type": "code",
   "execution_count": null,
   "metadata": {
    "ExecuteTime": {
     "end_time": "2021-08-16T06:40:28.689564Z",
     "start_time": "2021-08-16T06:40:28.670700Z"
    }
   },
   "outputs": [],
   "source": [
    "whr_df_16.groupby('Region').sum()"
   ]
  },
  {
   "cell_type": "markdown",
   "metadata": {},
   "source": [
    " "
   ]
  },
  {
   "cell_type": "markdown",
   "metadata": {},
   "source": [
    "The above works, but the results might not make sense. Other descriptions are more appropriate."
   ]
  },
  {
   "cell_type": "markdown",
   "metadata": {},
   "source": [
    "## Selecting a column and using more functions"
   ]
  },
  {
   "cell_type": "markdown",
   "metadata": {},
   "source": [
    "### `mean()`"
   ]
  },
  {
   "cell_type": "code",
   "execution_count": null,
   "metadata": {
    "ExecuteTime": {
     "end_time": "2021-08-16T06:41:49.905869Z",
     "start_time": "2021-08-16T06:41:49.900439Z"
    }
   },
   "outputs": [],
   "source": [
    "whr_df_16.groupby('Region')['Happiness Score'].mean()"
   ]
  },
  {
   "cell_type": "markdown",
   "metadata": {},
   "source": [
    "### `median()`"
   ]
  },
  {
   "cell_type": "code",
   "execution_count": null,
   "metadata": {
    "ExecuteTime": {
     "end_time": "2021-08-16T06:42:10.922205Z",
     "start_time": "2021-08-16T06:42:10.915493Z"
    }
   },
   "outputs": [],
   "source": [
    "whr_df_16.groupby('Region')['Happiness Score'].median()"
   ]
  },
  {
   "cell_type": "markdown",
   "metadata": {},
   "source": [
    "## `agg()`  when applying multiple functions to grouped data"
   ]
  },
  {
   "cell_type": "code",
   "execution_count": null,
   "metadata": {
    "ExecuteTime": {
     "end_time": "2021-08-16T06:42:46.139785Z",
     "start_time": "2021-08-16T06:42:46.137333Z"
    }
   },
   "outputs": [],
   "source": [
    "whr_df_16.groupby('Region')['Happiness Score'].agg(['size', 'mean', 'median', 'min', 'max'])"
   ]
  },
  {
   "cell_type": "markdown",
   "metadata": {},
   "source": [
    "## Visualizing a distribution using `hist()`"
   ]
  },
  {
   "cell_type": "code",
   "execution_count": null,
   "metadata": {},
   "outputs": [],
   "source": [
    "whr_df_16['Economy (GDP per Capita)']"
   ]
  },
  {
   "cell_type": "code",
   "execution_count": null,
   "metadata": {},
   "outputs": [],
   "source": [
    "whr_df_16['Economy (GDP per Capita)'].hist()"
   ]
  },
  {
   "cell_type": "markdown",
   "metadata": {},
   "source": [
    "## Quiz\n",
    "\n",
    "* Suppose you want to group the countries into four groups based on the level of their GDP. A country is given \"group_1\" if its GDP is in the top quarter. A country is given \"group_2\" if its GDP is in the second quarter. A country is given \"group_3\" if its GDP is in the third quarter. A country is given \"group_4\" if its GDP is in the bottom quarter. \n",
    "* In whr_df_16, create a column called \"GDP_four_groups\" in which you have an indicator of which group a given country belongs to. \n",
    "* Print (1) the average and (2) the maximum happiness scores per GDP group.\n",
    "\n",
    "*Hints*: \n",
    "* You might find it useful to use the `desc()` function.\n",
    "* Yesterday, we saw the `.loc[]` operator was useful for setting column values"
   ]
  },
  {
   "cell_type": "code",
   "execution_count": null,
   "metadata": {},
   "outputs": [],
   "source": [
    "# TODO"
   ]
  },
  {
   "cell_type": "markdown",
   "metadata": {},
   "source": [
    "---"
   ]
  },
  {
   "cell_type": "markdown",
   "metadata": {},
   "source": [
    "# Grouping: Baltimore crime"
   ]
  },
  {
   "cell_type": "markdown",
   "metadata": {},
   "source": [
    "Let's analyze a richer data set."
   ]
  },
  {
   "cell_type": "code",
   "execution_count": null,
   "metadata": {
    "ExecuteTime": {
     "end_time": "2021-08-16T07:04:00.785154Z",
     "start_time": "2021-08-16T07:04:00.054401Z"
    }
   },
   "outputs": [],
   "source": [
    "bmc_df = pd.read_csv('BPD_Part_1_Victim_Based_Crime_Data.csv')"
   ]
  },
  {
   "cell_type": "code",
   "execution_count": null,
   "metadata": {
    "ExecuteTime": {
     "end_time": "2021-08-16T07:04:18.517341Z",
     "start_time": "2021-08-16T07:04:18.369113Z"
    }
   },
   "outputs": [],
   "source": [
    "bmc_df.info()"
   ]
  },
  {
   "cell_type": "code",
   "execution_count": null,
   "metadata": {
    "ExecuteTime": {
     "end_time": "2021-08-16T07:05:25.780951Z",
     "start_time": "2021-08-16T07:05:25.766210Z"
    }
   },
   "outputs": [],
   "source": [
    "bmc_df[:3]"
   ]
  },
  {
   "cell_type": "markdown",
   "metadata": {},
   "source": [
    "---"
   ]
  },
  {
   "cell_type": "markdown",
   "metadata": {},
   "source": [
    "## Inside and Outside (Hypothesis 1)\n",
    "\n",
    "* H1: The type of weapon used varies with whether a crime occurs inside or outside. <b/>"
   ]
  },
  {
   "cell_type": "code",
   "execution_count": null,
   "metadata": {
    "ExecuteTime": {
     "end_time": "2021-08-16T07:07:33.435278Z",
     "start_time": "2021-08-16T07:07:33.422632Z"
    }
   },
   "outputs": [],
   "source": [
    "bmc_df['Inside/Outside'].unique()"
   ]
  },
  {
   "cell_type": "code",
   "execution_count": null,
   "metadata": {
    "ExecuteTime": {
     "end_time": "2021-08-16T07:08:22.055903Z",
     "start_time": "2021-08-16T07:08:21.766056Z"
    }
   },
   "outputs": [],
   "source": [
    "bmc_df['Inside/Outside'] = bmc_df['Inside/Outside'].str.replace(\"Inside\", \"I\")\n",
    "bmc_df['Inside/Outside'] = bmc_df['Inside/Outside'].str.replace(\"Outside\", \"O\")"
   ]
  },
  {
   "cell_type": "code",
   "execution_count": null,
   "metadata": {
    "ExecuteTime": {
     "end_time": "2021-08-16T07:08:26.233040Z",
     "start_time": "2021-08-16T07:08:26.220494Z"
    }
   },
   "outputs": [],
   "source": [
    "bmc_df['Inside/Outside'].unique()"
   ]
  },
  {
   "cell_type": "code",
   "execution_count": null,
   "metadata": {
    "ExecuteTime": {
     "end_time": "2021-08-16T07:08:33.555949Z",
     "start_time": "2021-08-16T07:08:33.540317Z"
    }
   },
   "outputs": [],
   "source": [
    "bmc_df['Weapon'].unique()"
   ]
  },
  {
   "cell_type": "markdown",
   "metadata": {},
   "source": [
    "- <b> group the df by the two target columns <b>"
   ]
  },
  {
   "cell_type": "code",
   "execution_count": null,
   "metadata": {
    "ExecuteTime": {
     "end_time": "2021-08-16T07:08:58.054405Z",
     "start_time": "2021-08-16T07:08:58.005638Z"
    }
   },
   "outputs": [],
   "source": [
    "bmc_df.groupby(['Weapon', 'Inside/Outside']).size()"
   ]
  },
  {
   "cell_type": "markdown",
   "metadata": {},
   "source": [
    "- <b> `groupby()` and `sort_values()` vs. `value_counts()` <b>"
   ]
  },
  {
   "cell_type": "code",
   "execution_count": null,
   "metadata": {
    "ExecuteTime": {
     "end_time": "2021-08-16T07:11:15.617893Z",
     "start_time": "2021-08-16T07:11:15.583108Z"
    }
   },
   "outputs": [],
   "source": [
    "# bmc_df.groupby('Description').size().sort_values(ascending=False)\n",
    "bmc_df['Description'].value_counts()"
   ]
  },
  {
   "cell_type": "code",
   "execution_count": null,
   "metadata": {
    "ExecuteTime": {
     "end_time": "2021-08-16T07:10:32.448747Z",
     "start_time": "2021-08-16T07:10:32.414412Z"
    }
   },
   "outputs": [],
   "source": [
    "bmc_df['District'].value_counts()"
   ]
  },
  {
   "cell_type": "markdown",
   "metadata": {},
   "source": [
    "## Quiz \n",
    "\n",
    "* Using `value_counts()` print ten neighborhoods that have experienced the most homicides.\n"
   ]
  },
  {
   "cell_type": "code",
   "execution_count": null,
   "metadata": {
    "ExecuteTime": {
     "end_time": "2021-08-16T07:16:16.337660Z",
     "start_time": "2021-08-16T07:16:16.311310Z"
    },
    "code_folding": []
   },
   "outputs": [],
   "source": [
    "# TODO: solution"
   ]
  },
  {
   "cell_type": "markdown",
   "metadata": {},
   "source": [
    "## More analysis\n"
   ]
  },
  {
   "cell_type": "code",
   "execution_count": null,
   "metadata": {},
   "outputs": [],
   "source": [
    "homicides_df = bmc_df[bmc_df['Description'] == 'HOMICIDE']\n",
    "homicides_df"
   ]
  },
  {
   "cell_type": "markdown",
   "metadata": {},
   "source": [
    "Here's a count of homicides per neighborhood, including the district to which each neighborhood belongs:"
   ]
  },
  {
   "cell_type": "code",
   "execution_count": null,
   "metadata": {},
   "outputs": [],
   "source": [
    "homicides_per_neighborhood_and_type_df = homicides_df.groupby(['District', 'Neighborhood', 'Description'])['Total Incidents'].sum().reset_index()\n",
    "homicides_per_neighborhood_and_type_df"
   ]
  },
  {
   "cell_type": "markdown",
   "metadata": {},
   "source": [
    "\n",
    "Let's figure out which neighborhood in each district has seen the most homicides:"
   ]
  },
  {
   "cell_type": "code",
   "execution_count": null,
   "metadata": {
    "ExecuteTime": {
     "end_time": "2021-08-16T07:20:43.043387Z",
     "start_time": "2021-08-16T07:20:43.021632Z"
    },
    "code_folding": []
   },
   "outputs": [],
   "source": [
    "# Approach 1\n",
    "homicides_per_neighborhood_and_type_df.sort_values(by='Total Incidents', ascending=False).drop_duplicates('District')"
   ]
  },
  {
   "cell_type": "code",
   "execution_count": null,
   "metadata": {},
   "outputs": [],
   "source": [
    "# Approach 2\n",
    "homicides_per_neighborhood_and_type_df.loc[homicides_per_neighborhood_and_type_df.groupby([\"District\"])[\"Total Incidents\"].idxmax()]      "
   ]
  },
  {
   "cell_type": "markdown",
   "metadata": {},
   "source": [
    "---"
   ]
  },
  {
   "cell_type": "markdown",
   "metadata": {},
   "source": [
    "## Weather and Crimes (Hypothesis 2)\n",
    "\n",
    "* Although archival data like `bmc_df` does not provide direct evidence for causality, its richness allows us to indirectly test prior findings and thus corroborate them. \n",
    "* For instance, the claim that warmer weather can make us more violent can be supported by examining `bmc_df`. \n",
    "* Let's check out this article first: [A hotter world will be a more violent world.](https://news.trust.org/item/20210811162128-r7vkq)\n",
    "* Do you think you can (at least indirectly) test the claim with the current data? \n",
    "* If so, what's your approach? "
   ]
  },
  {
   "cell_type": "code",
   "execution_count": null,
   "metadata": {
    "ExecuteTime": {
     "end_time": "2021-08-16T07:37:10.153491Z",
     "start_time": "2021-08-16T07:37:10.139444Z"
    }
   },
   "outputs": [],
   "source": [
    "bmc_df[:3]"
   ]
  },
  {
   "cell_type": "code",
   "execution_count": null,
   "metadata": {
    "ExecuteTime": {
     "end_time": "2021-08-16T07:38:04.188186Z",
     "start_time": "2021-08-16T07:38:04.184233Z"
    }
   },
   "outputs": [],
   "source": [
    "bmc_df['CrimeDate'][:1][0]"
   ]
  },
  {
   "cell_type": "code",
   "execution_count": null,
   "metadata": {
    "ExecuteTime": {
     "end_time": "2021-08-16T07:38:32.574132Z",
     "start_time": "2021-08-16T07:38:32.532911Z"
    }
   },
   "outputs": [],
   "source": [
    "bmc_df['CrimeDate_dt'] = pd.to_datetime(bmc_df.CrimeDate, format=\"%m/%d/%Y\")"
   ]
  },
  {
   "cell_type": "code",
   "execution_count": null,
   "metadata": {
    "ExecuteTime": {
     "end_time": "2021-08-16T07:39:21.001318Z",
     "start_time": "2021-08-16T07:39:20.997315Z"
    }
   },
   "outputs": [],
   "source": [
    "bmc_df['CrimeDate_dt'][:1][0].month"
   ]
  },
  {
   "cell_type": "code",
   "execution_count": null,
   "metadata": {
    "ExecuteTime": {
     "end_time": "2021-08-16T07:39:41.067997Z",
     "start_time": "2021-08-16T07:39:38.538197Z"
    }
   },
   "outputs": [],
   "source": [
    "bmc_df['year'] = bmc_df['CrimeDate_dt'].apply(lambda x: x.year)\n",
    "bmc_df['month'] = bmc_df['CrimeDate_dt'].apply(lambda x: x.month)"
   ]
  },
  {
   "cell_type": "code",
   "execution_count": null,
   "metadata": {
    "ExecuteTime": {
     "end_time": "2021-08-16T07:40:18.929852Z",
     "start_time": "2021-08-16T07:40:18.925470Z"
    }
   },
   "outputs": [],
   "source": [
    "bmc_df['month']"
   ]
  },
  {
   "cell_type": "code",
   "execution_count": null,
   "metadata": {
    "ExecuteTime": {
     "end_time": "2021-08-16T07:40:33.186698Z",
     "start_time": "2021-08-16T07:40:33.161638Z"
    }
   },
   "outputs": [],
   "source": [
    "# bmc_df.groupby(['year', 'month']).size().sort_values(ascending=False)[:10]\n",
    "bmc_df.value_counts(subset=['month', 'year'])"
   ]
  },
  {
   "cell_type": "code",
   "execution_count": null,
   "metadata": {
    "ExecuteTime": {
     "end_time": "2021-08-16T07:40:52.985268Z",
     "start_time": "2021-08-16T07:40:52.977769Z"
    }
   },
   "outputs": [],
   "source": [
    "# bmc_df.groupby('year').size().sort_values(ascending=False)\n",
    "bmc_df['year'].value_counts()"
   ]
  },
  {
   "cell_type": "code",
   "execution_count": null,
   "metadata": {
    "ExecuteTime": {
     "end_time": "2021-08-16T07:40:53.405333Z",
     "start_time": "2021-08-16T07:40:53.398086Z"
    }
   },
   "outputs": [],
   "source": [
    "# bmc_df.groupby('month').size().sort_values(ascending=False)\n",
    "bmc_df['month'].value_counts()"
   ]
  },
  {
   "cell_type": "markdown",
   "metadata": {},
   "source": [
    " "
   ]
  },
  {
   "cell_type": "markdown",
   "metadata": {},
   "source": [
    "**Suppose you hypothesize that some types of violent crimes are more sensitive to weather:**\n",
    ">- 'SHOOTING'\n",
    ">- 'AGG. ASSAULT'\n",
    ">- 'COMMON ASSAULT'\n",
    ">- 'HOMICIDE'\n",
    ">- 'ROBBERY - STREET'\n",
    ">- 'RAPE'\n",
    "    \n",
    "- What would you do to gauge whether the hypothesis is worth exploring?"
   ]
  },
  {
   "cell_type": "code",
   "execution_count": null,
   "metadata": {
    "ExecuteTime": {
     "end_time": "2021-08-16T07:42:51.193185Z",
     "start_time": "2021-08-16T07:42:51.172801Z"
    }
   },
   "outputs": [],
   "source": [
    "bmc_df['Description'].unique()"
   ]
  },
  {
   "cell_type": "code",
   "execution_count": null,
   "metadata": {
    "ExecuteTime": {
     "end_time": "2021-08-16T07:44:21.478934Z",
     "start_time": "2021-08-16T07:44:21.441174Z"
    }
   },
   "outputs": [],
   "source": [
    "dir_violence = ['SHOOTING', 'AGG. ASSAULT', 'COMMON ASSAULT', 'HOMICIDE', 'ROBBERY - STREET', 'RAPE']\n",
    "\n",
    "bmc_df[bmc_df['Description'].isin(dir_violence)]['month'].value_counts()"
   ]
  },
  {
   "cell_type": "code",
   "execution_count": null,
   "metadata": {
    "ExecuteTime": {
     "end_time": "2021-08-16T07:44:41.902587Z",
     "start_time": "2021-08-16T07:44:41.841625Z"
    }
   },
   "outputs": [],
   "source": [
    "bmc_df[~bmc_df['Description'].isin(dir_violence)]['month'].value_counts()"
   ]
  },
  {
   "cell_type": "markdown",
   "metadata": {},
   "source": [
    "---"
   ]
  },
  {
   "cell_type": "markdown",
   "metadata": {},
   "source": [
    "# Visualization: Baltimore crime"
   ]
  },
  {
   "cell_type": "markdown",
   "metadata": {},
   "source": [
    "## Built-in functions in Pandas"
   ]
  },
  {
   "cell_type": "code",
   "execution_count": null,
   "metadata": {
    "ExecuteTime": {
     "end_time": "2021-08-16T07:46:21.222811Z",
     "start_time": "2021-08-16T07:46:21.214019Z"
    }
   },
   "outputs": [],
   "source": [
    "gb1 = bmc_df.groupby(['year']).size()"
   ]
  },
  {
   "cell_type": "code",
   "execution_count": null,
   "metadata": {
    "ExecuteTime": {
     "end_time": "2021-08-16T07:46:32.556706Z",
     "start_time": "2021-08-16T07:46:32.552547Z"
    }
   },
   "outputs": [],
   "source": [
    "gb1"
   ]
  },
  {
   "cell_type": "code",
   "execution_count": null,
   "metadata": {
    "ExecuteTime": {
     "end_time": "2021-08-16T07:47:02.365752Z",
     "start_time": "2021-08-16T07:47:02.192582Z"
    }
   },
   "outputs": [],
   "source": [
    "gb1.plot(kind='bar')"
   ]
  },
  {
   "cell_type": "code",
   "execution_count": null,
   "metadata": {
    "ExecuteTime": {
     "end_time": "2021-08-16T07:47:29.188556Z",
     "start_time": "2021-08-16T07:47:28.762319Z"
    }
   },
   "outputs": [],
   "source": [
    "gb2 = bmc_df.groupby(['year', \"District\"]).size()\n",
    "gb2.unstack().plot(kind='bar', stacked=True)"
   ]
  },
  {
   "cell_type": "markdown",
   "metadata": {},
   "source": [
    "## Seaborn"
   ]
  },
  {
   "cell_type": "code",
   "execution_count": null,
   "metadata": {
    "ExecuteTime": {
     "end_time": "2021-08-16T07:48:24.335301Z",
     "start_time": "2021-08-16T07:48:24.330606Z"
    }
   },
   "outputs": [],
   "source": [
    "gb1_for_sns = pd.DataFrame(gb1).reset_index().rename(columns={0:\"count\"})"
   ]
  },
  {
   "cell_type": "code",
   "execution_count": null,
   "metadata": {
    "ExecuteTime": {
     "end_time": "2021-08-16T07:48:30.365745Z",
     "start_time": "2021-08-16T07:48:30.360122Z"
    }
   },
   "outputs": [],
   "source": [
    "gb1_for_sns"
   ]
  },
  {
   "cell_type": "code",
   "execution_count": null,
   "metadata": {
    "ExecuteTime": {
     "end_time": "2021-08-16T07:48:42.963250Z",
     "start_time": "2021-08-16T07:48:42.798704Z"
    }
   },
   "outputs": [],
   "source": [
    "sns.barplot(data=pd.DataFrame(gb1_for_sns).reset_index(), x='year', y='count')"
   ]
  },
  {
   "cell_type": "markdown",
   "metadata": {},
   "source": [
    " "
   ]
  },
  {
   "cell_type": "markdown",
   "metadata": {},
   "source": [
    "Drop 2017, the outlier year:"
   ]
  },
  {
   "cell_type": "code",
   "execution_count": null,
   "metadata": {
    "ExecuteTime": {
     "end_time": "2021-08-16T07:50:18.153023Z",
     "start_time": "2021-08-16T07:50:18.085419Z"
    }
   },
   "outputs": [],
   "source": [
    "bmc_df_new = bmc_df[bmc_df.year!=2017]"
   ]
  },
  {
   "cell_type": "code",
   "execution_count": null,
   "metadata": {
    "ExecuteTime": {
     "end_time": "2021-08-16T07:50:28.467518Z",
     "start_time": "2021-08-16T07:50:28.461897Z"
    }
   },
   "outputs": [],
   "source": [
    "bmc_df_new.year.unique()"
   ]
  },
  {
   "cell_type": "markdown",
   "metadata": {},
   "source": [
    "### Yearly Crime Occurrences By District"
   ]
  },
  {
   "cell_type": "code",
   "execution_count": null,
   "metadata": {
    "ExecuteTime": {
     "end_time": "2021-08-16T07:50:52.681435Z",
     "start_time": "2021-08-16T07:50:52.644171Z"
    }
   },
   "outputs": [],
   "source": [
    "gb3 = bmc_df_new.groupby(['year', \"District\"]).size().reset_index()\n",
    "gb3.rename(columns={0:'count'}, inplace=True)"
   ]
  },
  {
   "cell_type": "code",
   "execution_count": null,
   "metadata": {
    "ExecuteTime": {
     "end_time": "2021-08-16T07:50:57.579931Z",
     "start_time": "2021-08-16T07:50:57.570582Z"
    }
   },
   "outputs": [],
   "source": [
    "gb3.head()"
   ]
  },
  {
   "cell_type": "code",
   "execution_count": null,
   "metadata": {
    "ExecuteTime": {
     "end_time": "2021-08-16T07:53:28.249549Z",
     "start_time": "2021-08-16T07:53:27.840434Z"
    }
   },
   "outputs": [],
   "source": [
    "sns.set(rc={'figure.figsize':(12, 6)}) \n",
    "\n",
    "ax = sns.lineplot(data=gb3, x='year', y='count', hue='District')\n",
    "\n",
    "# Funcformatter is an imported function; we apply it to the labels:\n",
    "ax.xaxis.set_major_formatter(FuncFormatter(lambda x, _: int(x)))"
   ]
  },
  {
   "cell_type": "code",
   "execution_count": null,
   "metadata": {},
   "outputs": [],
   "source": [
    "ax = sns.lineplot(data=gb3, x='year', y='count', hue='District')\n",
    "ax.xaxis.set_major_formatter(FuncFormatter(lambda x, _: int(x)))\n",
    "\n",
    "# Adding these two new lines:\n",
    "sns.move_legend(ax, \"upper right\", bbox_to_anchor=(1.25, 1))\n",
    "sns.set_theme(style=\"white\")"
   ]
  },
  {
   "cell_type": "markdown",
   "metadata": {},
   "source": [
    "### What about monthly patterns?"
   ]
  },
  {
   "cell_type": "code",
   "execution_count": null,
   "metadata": {
    "ExecuteTime": {
     "end_time": "2021-08-16T07:53:40.056337Z",
     "start_time": "2021-08-16T07:53:40.023562Z"
    }
   },
   "outputs": [],
   "source": [
    "gb4 = bmc_df_new.groupby(['month', \"District\"]).size().reset_index()\n",
    "gb4.rename(columns={0:'count'}, inplace=True)\n",
    "gb4"
   ]
  },
  {
   "cell_type": "code",
   "execution_count": null,
   "metadata": {
    "ExecuteTime": {
     "end_time": "2021-08-16T07:53:40.625439Z",
     "start_time": "2021-08-16T07:53:40.175455Z"
    }
   },
   "outputs": [],
   "source": [
    "sns.set(rc={'figure.figsize':(12, 8)})\n",
    "sns.lineplot(data=gb4, x='month', y='count',hue='District' )"
   ]
  },
  {
   "cell_type": "markdown",
   "metadata": {},
   "source": [
    "---"
   ]
  },
  {
   "cell_type": "markdown",
   "metadata": {},
   "source": [
    "# Visualization: McDonald's"
   ]
  },
  {
   "cell_type": "code",
   "execution_count": null,
   "metadata": {
    "ExecuteTime": {
     "end_time": "2021-08-16T07:59:13.976334Z",
     "start_time": "2021-08-16T07:59:13.967818Z"
    }
   },
   "outputs": [],
   "source": [
    "md_menu_df = pd.read_csv('menu_mcdonalds.csv')"
   ]
  },
  {
   "cell_type": "code",
   "execution_count": null,
   "metadata": {
    "ExecuteTime": {
     "end_time": "2021-08-16T07:59:14.623432Z",
     "start_time": "2021-08-16T07:59:14.619862Z"
    }
   },
   "outputs": [],
   "source": [
    "md_menu_df.columns"
   ]
  },
  {
   "cell_type": "code",
   "execution_count": null,
   "metadata": {},
   "outputs": [],
   "source": [
    "md_menu_df.head()"
   ]
  },
  {
   "cell_type": "code",
   "execution_count": null,
   "metadata": {},
   "outputs": [],
   "source": [
    "md_menu_df.tail()"
   ]
  },
  {
   "cell_type": "markdown",
   "metadata": {},
   "source": [
    "## Scatter plot"
   ]
  },
  {
   "cell_type": "code",
   "execution_count": null,
   "metadata": {
    "ExecuteTime": {
     "end_time": "2021-08-16T08:02:36.242116Z",
     "start_time": "2021-08-16T08:02:36.238129Z"
    }
   },
   "outputs": [],
   "source": [
    "md_menu_df['Category'].unique()"
   ]
  },
  {
   "cell_type": "markdown",
   "metadata": {},
   "source": [
    "### Using the built-in `plot()` in Pandas"
   ]
  },
  {
   "cell_type": "code",
   "execution_count": null,
   "metadata": {
    "ExecuteTime": {
     "end_time": "2021-08-16T08:00:13.610578Z",
     "start_time": "2021-08-16T08:00:13.346170Z"
    }
   },
   "outputs": [],
   "source": [
    "md_menu_df.plot(kind='scatter', x='Sodium (% Daily Value)', y=\"Cholesterol (% Daily Value)\")"
   ]
  },
  {
   "cell_type": "markdown",
   "metadata": {},
   "source": [
    "### Seaborn's reg plot"
   ]
  },
  {
   "cell_type": "code",
   "execution_count": null,
   "metadata": {
    "ExecuteTime": {
     "end_time": "2021-08-16T08:01:14.376893Z",
     "start_time": "2021-08-16T08:01:13.976782Z"
    }
   },
   "outputs": [],
   "source": [
    "sns.regplot(data=md_menu_df, x='Sodium (% Daily Value)', y=\"Cholesterol (% Daily Value)\")"
   ]
  },
  {
   "cell_type": "markdown",
   "metadata": {},
   "source": [
    "### Using Seaborn's `FacetGrid`"
   ]
  },
  {
   "cell_type": "code",
   "execution_count": null,
   "metadata": {
    "ExecuteTime": {
     "end_time": "2021-08-16T08:04:41.098286Z",
     "start_time": "2021-08-16T08:04:37.895443Z"
    }
   },
   "outputs": [],
   "source": [
    "g = sns.FacetGrid(md_menu_df, col='Category', col_wrap=3, height=3.5, sharex=False, sharey=False)\n",
    "g.map(sns.regplot, \"Cholesterol (% Daily Value)\", \"Sodium (% Daily Value)\", color='r')"
   ]
  },
  {
   "cell_type": "markdown",
   "metadata": {},
   "source": [
    "---"
   ]
  },
  {
   "cell_type": "markdown",
   "metadata": {},
   "source": [
    "# Statistical Testing: Starbucks"
   ]
  },
  {
   "cell_type": "code",
   "execution_count": null,
   "metadata": {},
   "outputs": [],
   "source": [
    "sb_df = pd.read_csv('menu_starbucks.csv')"
   ]
  },
  {
   "cell_type": "markdown",
   "metadata": {},
   "source": [
    "## Histogram by Pandas"
   ]
  },
  {
   "cell_type": "code",
   "execution_count": null,
   "metadata": {},
   "outputs": [],
   "source": [
    "sb_df.hist(figsize=(15,9), bins=30)"
   ]
  },
  {
   "cell_type": "markdown",
   "metadata": {},
   "source": [
    "## One-sample t-test of a population mean, with SciPy\n"
   ]
  },
  {
   "cell_type": "markdown",
   "metadata": {},
   "source": [
    "This is the sample mean for calorie count:"
   ]
  },
  {
   "cell_type": "code",
   "execution_count": null,
   "metadata": {},
   "outputs": [],
   "source": [
    "sb_df['Calories'].mean()"
   ]
  },
  {
   "cell_type": "markdown",
   "metadata": {},
   "source": [
    "What about the true population mean?\n",
    "\n",
    "Is it equal to zero?\n",
    "\n",
    "In this test, the Null hypothesis is that the population mean is equal to zero."
   ]
  },
  {
   "cell_type": "code",
   "execution_count": null,
   "metadata": {},
   "outputs": [],
   "source": [
    "scipy.stats.ttest_1samp(sb_df['Calories'], popmean=0)"
   ]
  },
  {
   "cell_type": "markdown",
   "metadata": {},
   "source": [
    "The t-stat has a high magnitude, and the p-value is very low. We can say with high certainty that the Null hypothesis is rejected.\n",
    "\n",
    "Is the population mean equal to 200? In this test, the Null hypothesis is that the population mean is 200."
   ]
  },
  {
   "cell_type": "code",
   "execution_count": null,
   "metadata": {},
   "outputs": [],
   "source": [
    "scipy.stats.ttest_1samp(sb_df['Calories'], popmean=200)"
   ]
  },
  {
   "cell_type": "markdown",
   "metadata": {},
   "source": [
    "This time, the t-stat has a low magnitude, and the p-value is high. So we do not reject the Null. The population mean might be 200."
   ]
  },
  {
   "cell_type": "markdown",
   "metadata": {},
   "source": [
    "## Two-sample t-test for difference across populations, with SciPy"
   ]
  },
  {
   "cell_type": "code",
   "execution_count": null,
   "metadata": {},
   "outputs": [],
   "source": [
    "sb_df.Beverage_category.value_counts()"
   ]
  },
  {
   "cell_type": "markdown",
   "metadata": {},
   "source": [
    "Let's compare the average (mean) calorie count of the two largest categories of drinks: Classic Espresso drinks versus Tazo Tea drinks."
   ]
  },
  {
   "cell_type": "code",
   "execution_count": null,
   "metadata": {},
   "outputs": [],
   "source": [
    "cls_esp_caff = sb_df[sb_df['Beverage_category'] == 'Classic Espresso Drinks']['Caffeine (mg)'].astype(int)\n",
    "cls_esp_caff[0:10]"
   ]
  },
  {
   "cell_type": "code",
   "execution_count": null,
   "metadata": {},
   "outputs": [],
   "source": [
    "# Running this line will fail:\n",
    "tz_tea_caff = sb_df[sb_df['Beverage_category'] == 'Tazo® Tea Drinks']['Caffeine (mg)'].astype(int)\n"
   ]
  },
  {
   "cell_type": "code",
   "execution_count": null,
   "metadata": {},
   "outputs": [],
   "source": [
    "# Investigate:\n",
    "sb_df[sb_df['Beverage_category'] == 'Tazo® Tea Drinks']['Caffeine (mg)']"
   ]
  },
  {
   "cell_type": "code",
   "execution_count": null,
   "metadata": {},
   "outputs": [],
   "source": [
    "# Exclude the non-integer entries before forcing a conversion:\n",
    "tz_tea_caff = sb_df[\n",
    "    (sb_df['Beverage_category'] == 'Tazo® Tea Drinks')\n",
    "    & (sb_df['Caffeine (mg)'] != 'varies') & (sb_df['Caffeine (mg)'] != 'Varies')\n",
    "]['Caffeine (mg)'].astype(int)\n",
    "tz_tea_caff"
   ]
  },
  {
   "cell_type": "code",
   "execution_count": null,
   "metadata": {},
   "outputs": [],
   "source": [
    "plt.hist(cls_esp_caff, bins=20)"
   ]
  },
  {
   "cell_type": "code",
   "execution_count": null,
   "metadata": {},
   "outputs": [],
   "source": [
    "plt.hist(tz_tea_caff, bins=20)"
   ]
  },
  {
   "cell_type": "code",
   "execution_count": null,
   "metadata": {},
   "outputs": [],
   "source": [
    "cls_esp_caff.mean()"
   ]
  },
  {
   "cell_type": "code",
   "execution_count": null,
   "metadata": {},
   "outputs": [],
   "source": [
    "tz_tea_caff.mean()"
   ]
  },
  {
   "cell_type": "markdown",
   "metadata": {},
   "source": [
    "The Null hypothesis here is that the two population means are identical:"
   ]
  },
  {
   "cell_type": "markdown",
   "metadata": {},
   "source": [
    "The Null hypothesis here is that the two population means are identical:"
   ]
  },
  {
   "cell_type": "markdown",
   "metadata": {},
   "source": [
    "From the large t-stat and small p-value, the two means do seem to be significantly different from one another.\n",
    "\n",
    "Instead of a two-sided hypothesis, let's test some one-sided hypotheses.\n",
    "\n",
    "Here, the Alternative Hypothesis is the first is less than the second; i.e. the Null hypothesis is that the first is greater than or equal to the second:"
   ]
  },
  {
   "cell_type": "code",
   "execution_count": null,
   "metadata": {},
   "outputs": [],
   "source": [
    "scipy.stats.ttest_ind(cls_esp_caff, tz_tea_caff, alternative='less')"
   ]
  },
  {
   "cell_type": "markdown",
   "metadata": {},
   "source": [
    "Here, the Alternative Hypothesis is the first is greater than the second; i.e. the Null hypothesis is that the first is less than or equal to the second:"
   ]
  },
  {
   "cell_type": "code",
   "execution_count": null,
   "metadata": {},
   "outputs": [],
   "source": [
    "scipy.stats.ttest_ind(cls_esp_caff, tz_tea_caff, alternative='greater')"
   ]
  },
  {
   "cell_type": "markdown",
   "metadata": {},
   "source": [
    "---"
   ]
  },
  {
   "cell_type": "markdown",
   "metadata": {},
   "source": [
    "# Quizzes, using Starbucks data"
   ]
  },
  {
   "cell_type": "markdown",
   "metadata": {},
   "source": [
    "## Quiz: Formulate and test your own hypothesis"
   ]
  },
  {
   "cell_type": "code",
   "execution_count": null,
   "metadata": {},
   "outputs": [],
   "source": [
    "# TODO: There are many other hypotheses one could test...\n",
    "sb_df.columns"
   ]
  },
  {
   "cell_type": "markdown",
   "metadata": {},
   "source": [
    "## Quiz: Visualization\n",
    "\n",
    "* Suppose we aim to examine the relationship between Trans Fat and Saturated Fat in each category.\n",
    "* Plot a FacetGrid of the nine values of Beverage Category wherein each subplot shows the relational pattern between the two variables.\n"
   ]
  },
  {
   "cell_type": "code",
   "execution_count": null,
   "metadata": {
    "ExecuteTime": {
     "end_time": "2021-08-16T04:55:56.005374Z",
     "start_time": "2021-08-16T04:55:55.998182Z"
    }
   },
   "outputs": [],
   "source": [
    "# TODO, using the following:\n",
    "sb_df[['Beverage_category', 'Trans Fat (g) ', 'Saturated Fat (g)']]"
   ]
  }
 ],
 "metadata": {
  "hide_input": false,
  "kernelspec": {
   "display_name": "Python 3 (ipykernel)",
   "language": "python",
   "name": "python3"
  },
  "language_info": {
   "codemirror_mode": {
    "name": "ipython",
    "version": 3
   },
   "file_extension": ".py",
   "mimetype": "text/x-python",
   "name": "python",
   "nbconvert_exporter": "python",
   "pygments_lexer": "ipython3",
   "version": "3.9.17"
  },
  "toc": {
   "base_numbering": 1,
   "nav_menu": {},
   "number_sections": true,
   "sideBar": true,
   "skip_h1_title": false,
   "title_cell": "Table of Contents",
   "title_sidebar": "Contents",
   "toc_cell": true,
   "toc_position": {},
   "toc_section_display": true,
   "toc_window_display": false
  }
 },
 "nbformat": 4,
 "nbformat_minor": 4
}
